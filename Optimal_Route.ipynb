{
 "cells": [
  {
   "attachments": {},
   "cell_type": "markdown",
   "metadata": {},
   "source": [
    "# Optimal Route Distribution using Graph Theory"
   ]
  },
  {
   "attachments": {},
   "cell_type": "markdown",
   "metadata": {},
   "source": [
    "## Background\n",
    "\n",
    "Saat ini jaringan distribusi produk menjadi cukup kompleks, dimana penentu kebijakan harus mempertimbangkan banyak parameter untuk menentukan kebijakan yang optimal. Pada kebanyakan kasus, parameter yang dijadikan pertimbangan dalam menentukan kebijakan adalah biaya distribusi, demi tercapainya sistem biaya yang efektif untuk distribusi barang atau produk ke pelanggan.\n",
    "\n",
    "Pemilihan rute jaringan distribusi juga sangat mempengeruhi biaya distribusi, sehingga salah satu cara untuk optimalisasi biaya distribusi dapat dicapai dengan optimalisasi rute distribusi.\n",
    "\n",
    "**(tambahin hubungannya dengan teori Graf)**"
   ]
  },
  {
   "attachments": {},
   "cell_type": "markdown",
   "metadata": {},
   "source": [
    "## Output\n",
    "\n",
    "Output dari notebook ini adalah optimalisasi rute distribusi berdasarkan biaya. **(TAMBAHIN LAGI)**"
   ]
  },
  {
   "attachments": {},
   "cell_type": "markdown",
   "metadata": {},
   "source": [
    "## Tujuan Pembelajaran\n",
    "\n",
    "- **Pemrograman Dasar Python**  \n",
    "  - Mempersiapkan Environment Anaconda\n",
    "  - Bekerja dengan Jupyter Notebook\n",
    "  - Tipe Data\n",
    "  - Fungsi\n",
    "  - Looping (perulangan)\n",
    "- **Pandas**\n",
    "  - Bekerja dengan Dataframe\n",
    "  - Tipe Data Pandas\n",
    "  - Datetime di pandas\n",
    "  - Conditional Subsetting\n",
    "- **Teori Graf**\n",
    "  - Nodes & Edges\n",
    "  - Graf Unweighted & Graf Weighted\n",
    "- **Implementasi Teori Graf di Python**\n",
    "  - Pre-processing\n",
    "  - Pembentukan Graf dan Visualisasi Graf\n",
    "  - Pencarian rute optimal berdasarkan total cost\n",
    "  - Pencarian rute optimal berdasarkan skala prioritas"
   ]
  },
  {
   "attachments": {},
   "cell_type": "markdown",
   "metadata": {},
   "source": [
    "# Pemrograman Dasar Python"
   ]
  },
  {
   "attachments": {},
   "cell_type": "markdown",
   "metadata": {},
   "source": [
    "## Mempersiapkan Environment Anaconda\n",
    "\n",
    "**How to create a new virtual environment:**\n",
    "\n",
    "1. Open Anaconda Prompt\n",
    "\n",
    "2. Create new virtual environment with:\n",
    "    ```\n",
    "    conda create -n <ENV_NAME> python=<PYTHON_VERSION>\n",
    "    ```\n",
    "    For example: `conda create -n dss_graph python=3.10`\n",
    "\n",
    "\n",
    "3. Activate the new virtual environment witg:\n",
    "    ```\n",
    "    conda activate <ENV_NAME>\n",
    "    ```\n",
    "    For example: `conda activate dss_graph`\n",
    "    \n",
    "4. Change your terminal directory to the path where the requirements.txt is located. For example, if your txt file is in the Desktop directory, use: `cd Desktop`\n",
    "\n",
    "5. For standardization packages and libraries installation, please install using the `requirements.txt` shared to you.\n",
    "    ```\n",
    "    pip install -r requirements.txt\n",
    "    ```\n",
    "    \n",
    "6. Install kernel to connect the virtual environment to the Jupyter Notebook.\n",
    "    ```\n",
    "    pip install ipykernel\n",
    "    python -m ipykernel install --user --name=<ENV_NAME>\n",
    "    ```\n",
    "    For example: `python -m ipykernel install --user --name=dss_graph`"
   ]
  },
  {
   "attachments": {},
   "cell_type": "markdown",
   "metadata": {},
   "source": [
    "## Bekerja dengan Jupyter Notebook"
   ]
  },
  {
   "attachments": {},
   "cell_type": "markdown",
   "metadata": {},
   "source": [
    "### Markdown Cell and Code Cell\n",
    "\n",
    "Tipe cell dalam notebook:\n",
    "1. Markdown \n",
    "2. Code\n",
    "\n",
    "**Contoh Markdown Cell**\n",
    "\n",
    "Ini adalah cell markdown. Kita bisa menulis teks **bold**, *italic*, bahkan formula matematis seperti:\n",
    "\n",
    "\\begin{equation}\n",
    "f(x) = \\frac{e^{-x}}{(1+e^{-x})}\n",
    "\\end{equation}"
   ]
  },
  {
   "attachments": {},
   "cell_type": "markdown",
   "metadata": {},
   "source": [
    "**Contoh Code Cell**"
   ]
  },
  {
   "cell_type": "code",
   "execution_count": 3,
   "metadata": {},
   "outputs": [
    {
     "name": "stdout",
     "output_type": "stream",
     "text": [
      "Hello 2023!\n"
     ]
    }
   ],
   "source": [
    "# ini adalah cell code\n",
    "print('Hello 2023!')"
   ]
  },
  {
   "attachments": {},
   "cell_type": "markdown",
   "metadata": {},
   "source": [
    "### Command Mode and Edit Mode\n",
    "\n",
    "Ada 2 mode cell dalam notebook:\n",
    "1. Command mode (cell berwarna BIRU)\n",
    "    - `a` : add cell above \n",
    "    - `b` : add cell below \n",
    "    - `d` + `d` : delete selected cell \n",
    "    - `x` : cut selected cell \n",
    "    - `c` : copy selected cell \n",
    "    - `v` : paste selected cell \n",
    "    - `z` : undo \n",
    "    - `m` : change cell type to markdown \n",
    "    - `y` : change cell type to code\n",
    "    - `enter` : enter Edit Mode\n",
    "    - `h` : show keyboard shortcuts\n",
    "\n",
    "\n",
    "2. Edit mode (cell berwarna HIJAU)\n",
    "    - `Ctrl + Enter`: eksekusi satu cell\n",
    "    - `Esc`: mengubah edit mode menjadi command mode\n",
    "    \n",
    "Kumpulan shortcut: **CTRL + SHIFT + P**"
   ]
  },
  {
   "attachments": {},
   "cell_type": "markdown",
   "metadata": {},
   "source": [
    "## Variables & Keywords\n",
    "\n",
    "Let's take a step back and complete our fundamental building blocks: variables.\n",
    "\n",
    "A variable is used in order for us to store a value. So the next time you need to use it, you will refer to the variable you have created before:"
   ]
  },
  {
   "cell_type": "code",
   "execution_count": 4,
   "metadata": {},
   "outputs": [
    {
     "name": "stdout",
     "output_type": "stream",
     "text": [
      "Data Science Series: Optimal Route with Graph Theory\n"
     ]
    }
   ],
   "source": [
    "dss_name = \"Data Science Series: Optimal Route with Graph Theory\"\n",
    "print(dss_name)"
   ]
  },
  {
   "cell_type": "code",
   "execution_count": 5,
   "metadata": {},
   "outputs": [
    {
     "data": {
      "text/plain": [
       "10"
      ]
     },
     "execution_count": 5,
     "metadata": {},
     "output_type": "execute_result"
    }
   ],
   "source": [
    "nilai = 10\n",
    "\n",
    "nilai"
   ]
  },
  {
   "cell_type": "markdown",
   "metadata": {},
   "source": [
    "Thing to note here, like other programming languages, Python is **case-sensitive**, so `dss_name` and `DSS_Name` are  different symbols and will point to different variables."
   ]
  },
  {
   "cell_type": "code",
   "execution_count": 6,
   "metadata": {},
   "outputs": [
    {
     "data": {
      "text/plain": [
       "True"
      ]
     },
     "execution_count": 6,
     "metadata": {},
     "output_type": "execute_result"
    }
   ],
   "source": [
    "## code here\n",
    "dss_name == dss_name"
   ]
  },
  {
   "attachments": {},
   "cell_type": "markdown",
   "metadata": {},
   "source": [
    "Our previous code returned `True` as the output. Try to create a new variable and use `True` as the variable name, then see what happen.\n",
    "\n",
    "> SyntaxError: can't assign to keyword"
   ]
  },
  {
   "attachments": {},
   "cell_type": "markdown",
   "metadata": {},
   "source": [
    "A couple of things to note here. `True`, along with its opposite, `False` are among a reserved list of vocabulary referred to as **Python Keywords**. We cannot use keyword as variable name, function name or assign values to them, essentially treating them as an identifier. \n",
    "\n",
    "Interestingly, all python keywords except **True**, **False** and **None** are in lowercase and they must be written as it is. "
   ]
  },
  {
   "attachments": {},
   "cell_type": "markdown",
   "metadata": {},
   "source": [
    "**💡 NOTES**\n",
    "\n",
    "Syarat dan ketentuan dalam memberikan nama variable pada Python:\n",
    "- Menggunakan kombinasi dari huruf kapital (A-Z), huruf nomina (a-z), angka (0-9).\n",
    "- Special character `!, $ , &, dll` tidak dapat digunakan dalam penamaan variabel.\n",
    "- **Tidak boleh** menggunakan angka di awal.\n",
    "- Bersifat **case-sensitive** sehingga penamaan variable `algoritma`, `ALGORITMA`, dan `Algoritma` adalah 3 variable yang berbeda\n",
    "- **Tidak boleh** menggunakan **keyword** pada Python"
   ]
  },
  {
   "attachments": {},
   "cell_type": "markdown",
   "metadata": {},
   "source": [
    "___\n",
    "\n",
    "**Keywords** adalah kata kunci yang sudah ditetapkan oleh Python sebagai nama yang tidak bisa dipakai baik untuk penamaan fungsi, variabel, dan lainnya. Keyword ditulis dalam lower-case (huruf kecil semua) kecuali keyword `True`, `False`, dan `None`. Sejauh ini (Python 3.10) keyword yang ada pada Python adalah sebagai berikut:"
   ]
  },
  {
   "cell_type": "code",
   "execution_count": 7,
   "metadata": {},
   "outputs": [
    {
     "data": {
      "text/plain": [
       "['False',\n",
       " 'None',\n",
       " 'True',\n",
       " 'and',\n",
       " 'as',\n",
       " 'assert',\n",
       " 'async',\n",
       " 'await',\n",
       " 'break',\n",
       " 'class',\n",
       " 'continue',\n",
       " 'def',\n",
       " 'del',\n",
       " 'elif',\n",
       " 'else',\n",
       " 'except',\n",
       " 'finally',\n",
       " 'for',\n",
       " 'from',\n",
       " 'global',\n",
       " 'if',\n",
       " 'import',\n",
       " 'in',\n",
       " 'is',\n",
       " 'lambda',\n",
       " 'nonlocal',\n",
       " 'not',\n",
       " 'or',\n",
       " 'pass',\n",
       " 'raise',\n",
       " 'return',\n",
       " 'try',\n",
       " 'while',\n",
       " 'with',\n",
       " 'yield']"
      ]
     },
     "execution_count": 7,
     "metadata": {},
     "output_type": "execute_result"
    }
   ],
   "source": [
    "# Cek daftar keyword\n",
    "import keyword\n",
    "keyword.kwlist"
   ]
  },
  {
   "attachments": {},
   "cell_type": "markdown",
   "metadata": {},
   "source": [
    "## Tipe Data"
   ]
  },
  {
   "attachments": {},
   "cell_type": "markdown",
   "metadata": {},
   "source": [
    "- Tipe data adalah pengelompokkan data berdasarkan jenis data. \n",
    "- Pengecekan tipe data bisa menggunakan fungsi `type()`\n",
    "\n",
    "Berikut beberapa jenis tipe data pada python:"
   ]
  },
  {
   "attachments": {},
   "cell_type": "markdown",
   "metadata": {},
   "source": [
    "### 1. String\n",
    "\n",
    "Untuk menyimpan kumpulan karakter disebut tipe data `str`. \n",
    "\n",
    "Ada beberapa cara untuk membuat nilai string:\n",
    "- menggunakan `''` \n",
    "- menggunakan `\"\"` \n",
    "- menggunakan `'''` atau `\"\"\"` "
   ]
  },
  {
   "cell_type": "code",
   "execution_count": 8,
   "metadata": {},
   "outputs": [],
   "source": [
    "# contoh menggunakan petik 1\n",
    "kalimat1 = 'Hari ini kami belajar Python.'"
   ]
  },
  {
   "cell_type": "code",
   "execution_count": 9,
   "metadata": {},
   "outputs": [],
   "source": [
    "# contoh menggunakan petik 2\n",
    "kalimat2 = \"Hari Jum'at.\""
   ]
  },
  {
   "cell_type": "code",
   "execution_count": 10,
   "metadata": {},
   "outputs": [],
   "source": [
    "# contoh menggunakan petik 3\n",
    "kalimat3 = '''\n",
    "            Dia berkata \"Jum'at hari yang baik.\"\n",
    "            Iyakan?\n",
    "            '''"
   ]
  },
  {
   "cell_type": "code",
   "execution_count": 11,
   "metadata": {},
   "outputs": [
    {
     "data": {
      "text/plain": [
       "str"
      ]
     },
     "execution_count": 11,
     "metadata": {},
     "output_type": "execute_result"
    }
   ],
   "source": [
    "## cek tipe data\n",
    "type(kalimat1)"
   ]
  },
  {
   "attachments": {},
   "cell_type": "markdown",
   "metadata": {},
   "source": [
    "### 2. Number\n",
    "\n",
    "Untuk menyimpan number, python memiliki dua tipe data number yaitu `int` dan `float`.\n",
    "- `int` digunakan untuk menyimpan bilangan bulat (yaitu: 1,2,-3)\n",
    "- `float` digunakan untuk menyimpan bilangan real (yaitu: 0.7, -1.8, -1000.0)."
   ]
  },
  {
   "cell_type": "code",
   "execution_count": 12,
   "metadata": {},
   "outputs": [],
   "source": [
    "a = 123445678910\n",
    "b = 0.6724624632746"
   ]
  },
  {
   "cell_type": "code",
   "execution_count": 13,
   "metadata": {},
   "outputs": [
    {
     "data": {
      "text/plain": [
       "int"
      ]
     },
     "execution_count": 13,
     "metadata": {},
     "output_type": "execute_result"
    }
   ],
   "source": [
    "## cek tipe data a\n",
    "type(a)"
   ]
  },
  {
   "cell_type": "code",
   "execution_count": 14,
   "metadata": {},
   "outputs": [
    {
     "data": {
      "text/plain": [
       "float"
      ]
     },
     "execution_count": 14,
     "metadata": {},
     "output_type": "execute_result"
    }
   ],
   "source": [
    "type(b)"
   ]
  },
  {
   "attachments": {},
   "cell_type": "markdown",
   "metadata": {},
   "source": [
    "**Operasi Angka** \\\n",
    "Operator Aritmatika:\n",
    "- `+` - Penambahan\n",
    "- `-` - Pengurangan\n",
    "- `*` - Perkalian\n",
    "- `/` - Pembagian\n",
    "- `//` - Floor Division (pembagian dengan pembulatan ke bawah) \n",
    "- `%` - Modulus (hasil lagi)\n",
    "- `**` - Eksponen (pangkat)\n",
    "\n",
    "Operator Perbandingan:\n",
    "- `<` - Lebih kecil dari (yaitu : a < b)\n",
    "- `<=` - Lebih kecil atau sama dengan (yaitu : a <= b)\n",
    "- `>` - Lebih besar dari (yaitu: a > b)\n",
    "- `>=` - Lebih besar atau sama dengan (yaitu: a >= b)\n",
    "- `==` - Sama dengan (yaitu: a == b)\n",
    "- `!=` - Tidak Sama dengan (yaitu: a != b)"
   ]
  },
  {
   "cell_type": "code",
   "execution_count": 15,
   "metadata": {},
   "outputs": [
    {
     "data": {
      "text/plain": [
       "123445678910.67245"
      ]
     },
     "execution_count": 15,
     "metadata": {},
     "output_type": "execute_result"
    }
   ],
   "source": [
    "a + b"
   ]
  },
  {
   "cell_type": "code",
   "execution_count": 16,
   "metadata": {},
   "outputs": [],
   "source": [
    "c = a > b"
   ]
  },
  {
   "cell_type": "code",
   "execution_count": 17,
   "metadata": {},
   "outputs": [
    {
     "data": {
      "text/plain": [
       "True"
      ]
     },
     "execution_count": 17,
     "metadata": {},
     "output_type": "execute_result"
    }
   ],
   "source": [
    "bool(c)"
   ]
  },
  {
   "attachments": {},
   "cell_type": "markdown",
   "metadata": {},
   "source": [
    "### 3. Boolean\n",
    "\n",
    "- Boolean menyimpan nilai yang hanya memuat 2 nilai yaitu `True` atau `False`\n",
    "- Boolean berguna ketika berkaitan dengan kondisi dan perulangan"
   ]
  },
  {
   "cell_type": "code",
   "execution_count": 18,
   "metadata": {},
   "outputs": [],
   "source": [
    "x = True \n",
    "y = False"
   ]
  },
  {
   "cell_type": "code",
   "execution_count": 19,
   "metadata": {},
   "outputs": [
    {
     "data": {
      "text/plain": [
       "bool"
      ]
     },
     "execution_count": 19,
     "metadata": {},
     "output_type": "execute_result"
    }
   ],
   "source": [
    "# cek tipe data  \n",
    "type(y)"
   ]
  },
  {
   "attachments": {},
   "cell_type": "markdown",
   "metadata": {},
   "source": [
    "**Operasi Boolean** \\\n",
    "Operator logika:\n",
    "- `and` (contoh: `a and b` -> mengembalikan nilai `True` kalau nilai **a dan b** adalah True)\n",
    "- `or` (contoh: `a or b` -> mengembalikan nilai `True` kalau setidaknya **salah satu** nilai a dan b adalah True)\n",
    "- `not` (contoh: `not a` -> negasi dari a, jika `a = True`, maka `not a` adalah `False`) "
   ]
  },
  {
   "cell_type": "code",
   "execution_count": 20,
   "metadata": {},
   "outputs": [
    {
     "data": {
      "text/plain": [
       "True"
      ]
     },
     "execution_count": 20,
     "metadata": {},
     "output_type": "execute_result"
    }
   ],
   "source": [
    "2 < 0 or 9 < 10"
   ]
  },
  {
   "attachments": {},
   "cell_type": "markdown",
   "metadata": {},
   "source": [
    "### 4. List\n",
    "\n",
    "`list` digunakan untuk menyimpan beberapa nilai dalam python.\\\n",
    "Cara deklarasi variabel `list`: `nama_variable = [nilai1, nilai2, nilai3]`"
   ]
  },
  {
   "cell_type": "code",
   "execution_count": 21,
   "metadata": {},
   "outputs": [
    {
     "data": {
      "text/plain": [
       "list"
      ]
     },
     "execution_count": 21,
     "metadata": {},
     "output_type": "execute_result"
    }
   ],
   "source": [
    "data = [1, 2, 3, 4, \"lima\", False]\n",
    "\n",
    "type(data)"
   ]
  },
  {
   "cell_type": "markdown",
   "metadata": {},
   "source": [
    "**Operasi List**\n",
    "- `x.append(a)` : tambahkan a ke list dengan nama variabel x\n",
    "- `x.remove(a)` : hapus a dari list dengan nama variabel x\n",
    "\n",
    "Fungsi agregasi:\n",
    "- `len(x)` : ekstrak panjang daftar\n",
    "- `a in b` : memeriksa apakah nilai `a` ada di objek daftar `b`\n",
    "- `max(x)` : mendapatkan nilai tertinggi dalam x\n",
    "- `sum(x)` : mendapatkan jumlah nilai dalam x\n",
    "\n",
    "Operasi lain yang harus diketahui dalam daftar adalah pengindeksan:\n",
    "- `x[i]` : mengakses elemen ke-i dari x"
   ]
  },
  {
   "cell_type": "code",
   "execution_count": 22,
   "metadata": {},
   "outputs": [
    {
     "data": {
      "text/plain": [
       "[1, 2, 3, 4, 'lima', False, 7]"
      ]
     },
     "execution_count": 22,
     "metadata": {},
     "output_type": "execute_result"
    }
   ],
   "source": [
    "data.append(7)\n",
    "\n",
    "data"
   ]
  },
  {
   "cell_type": "code",
   "execution_count": 23,
   "metadata": {},
   "outputs": [
    {
     "data": {
      "text/plain": [
       "2"
      ]
     },
     "execution_count": 23,
     "metadata": {},
     "output_type": "execute_result"
    }
   ],
   "source": [
    "data[1]"
   ]
  },
  {
   "attachments": {},
   "cell_type": "markdown",
   "metadata": {},
   "source": [
    "> Note: zero based indexing -> perhitungan python dimulai dari 0"
   ]
  },
  {
   "attachments": {},
   "cell_type": "markdown",
   "metadata": {},
   "source": [
    "## Fungsi"
   ]
  },
  {
   "attachments": {},
   "cell_type": "markdown",
   "metadata": {},
   "source": [
    "Function merupakan sekelompok perintah yang digunakan untuk melakukan tugas tertentu. Ketika kita melakukan sesuatu yang berulang dan rumit, alangkah baiknya kita menggunakan fungsi agar tidak ada langkah yang berubah maupun penulisan kode yang salah. Penulisan umum sebuah fungsi yaitu:\n",
    "```python\n",
    "def nama_fungsi(parameter):\n",
    "    perintah\n",
    "```\n",
    "Pada syntax umum di atas, `def` merupakan inisiator untuk sebuah fungsi. Sementara hal-hal yang harus kita tentukan yaitu nama dari fungsi, parameter yang akan digunakan di dalamnya, serta perintah atau kode. \n",
    "\n",
    "Sebagai contoh, kita akan membuat sebuah fungsi luas segitiga:"
   ]
  },
  {
   "cell_type": "code",
   "execution_count": 24,
   "metadata": {},
   "outputs": [],
   "source": [
    "# fungsi luas_segitiga\n",
    "def luas_segitiga(alas, tinggi):\n",
    "    hasil = (alas * tinggi) / 2\n",
    "    return(hasil)"
   ]
  },
  {
   "cell_type": "code",
   "execution_count": 25,
   "metadata": {},
   "outputs": [
    {
     "data": {
      "text/plain": [
       "16.0"
      ]
     },
     "execution_count": 25,
     "metadata": {},
     "output_type": "execute_result"
    }
   ],
   "source": [
    "hasil = luas_segitiga(8, 4)\n",
    "\n",
    "hasil"
   ]
  },
  {
   "attachments": {},
   "cell_type": "markdown",
   "metadata": {},
   "source": [
    "Contoh fungsi tanpa parameter"
   ]
  },
  {
   "cell_type": "code",
   "execution_count": 26,
   "metadata": {},
   "outputs": [],
   "source": [
    "def hello():\n",
    "    print(\"Hello World\")"
   ]
  },
  {
   "cell_type": "code",
   "execution_count": 27,
   "metadata": {},
   "outputs": [
    {
     "name": "stdout",
     "output_type": "stream",
     "text": [
      "Hello World\n"
     ]
    }
   ],
   "source": [
    "hello()"
   ]
  },
  {
   "attachments": {},
   "cell_type": "markdown",
   "metadata": {},
   "source": [
    "## Perulangan (Looping)"
   ]
  },
  {
   "attachments": {},
   "cell_type": "markdown",
   "metadata": {},
   "source": [
    "`for loop` digunakan untuk mengulangi/mengiterasi suatu urutan (dapat berupa list atau string)."
   ]
  },
  {
   "cell_type": "markdown",
   "metadata": {},
   "source": [
    "Contoh `for loop` untuk mengiterasi elemen pada list:"
   ]
  },
  {
   "cell_type": "code",
   "execution_count": 28,
   "metadata": {},
   "outputs": [
    {
     "name": "stdout",
     "output_type": "stream",
     "text": [
      "kucing\n",
      "kelinci\n",
      "hamster\n"
     ]
    }
   ],
   "source": [
    "hewan = [\"kucing\", \"kelinci\", \"hamster\"]\n",
    "for x in hewan:\n",
    "  print(x)"
   ]
  },
  {
   "attachments": {},
   "cell_type": "markdown",
   "metadata": {},
   "source": [
    "Untuk mengulang satu set kode beberapa kali, kita dapat menggunakan fungsi `range()`. Fungsi range() mengembalikan urutan angka, mulai dari 0 secara default, dan bertambah 1 (secara default), dan berakhir pada angka yang ditentukan.\n",
    "\n",
    "parameter range:\n",
    "`range(start = 0, end, interval = 1)`"
   ]
  },
  {
   "cell_type": "code",
   "execution_count": 29,
   "metadata": {},
   "outputs": [
    {
     "name": "stdout",
     "output_type": "stream",
     "text": [
      "0\n",
      "1\n",
      "2\n",
      "3\n",
      "4\n",
      "5\n",
      "6\n"
     ]
    }
   ],
   "source": [
    "for x in range(7):\n",
    "  print(x)"
   ]
  },
  {
   "attachments": {},
   "cell_type": "markdown",
   "metadata": {},
   "source": [
    "# Pandas"
   ]
  },
  {
   "attachments": {},
   "cell_type": "markdown",
   "metadata": {},
   "source": [
    "## Bekerja dengan Dataframe\n",
    "\n",
    "- `pandas` adalah library yang powerful sebagai tools analisis data dan struktur pada Python. \n",
    "\n",
    "- `pandas` mampu mengolah data menjadi mudah karena disediakan salah satu objek bernama **DataFrame**. \n",
    "\n",
    "- `pandas` memiliki function yang mampu mengolah dataframe dengan menerapkan berbagai operasi dan teknik seperti join, agregasi, grouping, dan lain sebagainya\n",
    "\n",
    "> Lebih lengkapnya silahkan kunjungi [official documentation](https://pandas.pydata.org/)\n",
    "\n",
    "Untuk menggunakan `pandas`, kita perlu import terlebih dahulu library dengan cara berikut ini:"
   ]
  },
  {
   "cell_type": "code",
   "execution_count": 30,
   "metadata": {},
   "outputs": [
    {
     "name": "stdout",
     "output_type": "stream",
     "text": [
      "1.5.3\n"
     ]
    }
   ],
   "source": [
    "import pandas as pd\n",
    "print(pd.__version__)"
   ]
  },
  {
   "attachments": {},
   "cell_type": "markdown",
   "metadata": {},
   "source": [
    "### Read Data\n",
    "\n",
    "Untuk membaca data atau file dengan format `.csv` dapat menggunakan method `.read_csv()`.\n",
    "Bacalah data `household.csv` yang berada dalam folder `data`\n",
    "\n",
    "```\n",
    "Sintaks: pandas.read_csv(path/data)\n",
    "```"
   ]
  },
  {
   "cell_type": "code",
   "execution_count": 31,
   "metadata": {},
   "outputs": [
    {
     "data": {
      "text/html": [
       "<div>\n",
       "<style scoped>\n",
       "    .dataframe tbody tr th:only-of-type {\n",
       "        vertical-align: middle;\n",
       "    }\n",
       "\n",
       "    .dataframe tbody tr th {\n",
       "        vertical-align: top;\n",
       "    }\n",
       "\n",
       "    .dataframe thead th {\n",
       "        text-align: right;\n",
       "    }\n",
       "</style>\n",
       "<table border=\"1\" class=\"dataframe\">\n",
       "  <thead>\n",
       "    <tr style=\"text-align: right;\">\n",
       "      <th></th>\n",
       "      <th>kode</th>\n",
       "      <th>lokasi</th>\n",
       "      <th>latitude</th>\n",
       "      <th>longitude</th>\n",
       "    </tr>\n",
       "  </thead>\n",
       "  <tbody>\n",
       "    <tr>\n",
       "      <th>0</th>\n",
       "      <td>A</td>\n",
       "      <td>Warehouse</td>\n",
       "      <td>-6.106552</td>\n",
       "      <td>106.907915</td>\n",
       "    </tr>\n",
       "    <tr>\n",
       "      <th>1</th>\n",
       "      <td>B</td>\n",
       "      <td>Thamrin City</td>\n",
       "      <td>-6.192764</td>\n",
       "      <td>106.815997</td>\n",
       "    </tr>\n",
       "    <tr>\n",
       "      <th>2</th>\n",
       "      <td>C</td>\n",
       "      <td>AEON TB</td>\n",
       "      <td>-6.294371</td>\n",
       "      <td>106.837711</td>\n",
       "    </tr>\n",
       "    <tr>\n",
       "      <th>3</th>\n",
       "      <td>D</td>\n",
       "      <td>Kota Kasablanka</td>\n",
       "      <td>-6.216613</td>\n",
       "      <td>106.843022</td>\n",
       "    </tr>\n",
       "    <tr>\n",
       "      <th>4</th>\n",
       "      <td>E</td>\n",
       "      <td>Cipinang Indah Mall</td>\n",
       "      <td>-6.231984</td>\n",
       "      <td>106.892953</td>\n",
       "    </tr>\n",
       "    <tr>\n",
       "      <th>5</th>\n",
       "      <td>F</td>\n",
       "      <td>Lippo Mall Puri</td>\n",
       "      <td>-6.181179</td>\n",
       "      <td>106.739570</td>\n",
       "    </tr>\n",
       "    <tr>\n",
       "      <th>6</th>\n",
       "      <td>G</td>\n",
       "      <td>Plaza Blok M</td>\n",
       "      <td>-6.238328</td>\n",
       "      <td>106.797455</td>\n",
       "    </tr>\n",
       "  </tbody>\n",
       "</table>\n",
       "</div>"
      ],
      "text/plain": [
       "  kode               lokasi  latitude   longitude\n",
       "0    A            Warehouse -6.106552  106.907915\n",
       "1    B         Thamrin City -6.192764  106.815997\n",
       "2    C              AEON TB -6.294371  106.837711\n",
       "3    D      Kota Kasablanka -6.216613  106.843022\n",
       "4    E  Cipinang Indah Mall -6.231984  106.892953\n",
       "5    F      Lippo Mall Puri -6.181179  106.739570\n",
       "6    G         Plaza Blok M -6.238328  106.797455"
      ]
     },
     "execution_count": 31,
     "metadata": {},
     "output_type": "execute_result"
    }
   ],
   "source": [
    "location = pd.read_csv(\"data/lokasi.csv\")\n",
    "\n",
    "location"
   ]
  },
  {
   "cell_type": "code",
   "execution_count": 32,
   "metadata": {},
   "outputs": [
    {
     "data": {
      "text/plain": [
       "pandas.core.frame.DataFrame"
      ]
     },
     "execution_count": 32,
     "metadata": {},
     "output_type": "execute_result"
    }
   ],
   "source": [
    "type(location)"
   ]
  },
  {
   "attachments": {},
   "cell_type": "markdown",
   "metadata": {},
   "source": [
    "**Deskripsi Data:**\n",
    "\n",
    "Data `lokasi.csv` merupakan data informasi lokasi gudang dan client distribusi. Berikut informasi dari setiap kolom:\n",
    "\n",
    "- `kode`: Kode unik lokasi\n",
    "- `lokasi`: Nama lengkap lokasi\n",
    "- `latitude`: Titik latitude lokasi\n",
    "- `longitude`: Titik longitude lokasi"
   ]
  },
  {
   "attachments": {},
   "cell_type": "markdown",
   "metadata": {},
   "source": [
    "Lakukan investigasi awal untuk melihat struktur data terhadap object DataFrame dengan menggunakan method `.info()`"
   ]
  },
  {
   "cell_type": "code",
   "execution_count": 33,
   "metadata": {},
   "outputs": [
    {
     "name": "stdout",
     "output_type": "stream",
     "text": [
      "<class 'pandas.core.frame.DataFrame'>\n",
      "RangeIndex: 7 entries, 0 to 6\n",
      "Data columns (total 4 columns):\n",
      " #   Column     Non-Null Count  Dtype  \n",
      "---  ------     --------------  -----  \n",
      " 0   kode       7 non-null      object \n",
      " 1   lokasi     7 non-null      object \n",
      " 2   latitude   7 non-null      float64\n",
      " 3   longitude  7 non-null      float64\n",
      "dtypes: float64(2), object(2)\n",
      "memory usage: 352.0+ bytes\n"
     ]
    }
   ],
   "source": [
    "# inspect data\n",
    "location.info()"
   ]
  },
  {
   "attachments": {},
   "cell_type": "markdown",
   "metadata": {},
   "source": [
    "**💡 NOTES**\n",
    "\n",
    "Dengan menggunakan method `.info()`, kita dapat memeriksa **informasi** lengkap dari DataFrame kita:\n",
    "\n",
    "- Dimensi data: jumlah baris dan kolom (`.shape`)\n",
    "- Nama kolom (`.columns`)\n",
    "- Tipe data setiap kolom (`.dtypes`)\n",
    "- Penggunaan memori"
   ]
  },
  {
   "attachments": {},
   "cell_type": "markdown",
   "metadata": {},
   "source": [
    "> Dataframe : tabel yang terdiri dari kolom-kolom (series)"
   ]
  },
  {
   "attachments": {},
   "cell_type": "markdown",
   "metadata": {},
   "source": [
    "❓ Mari kita coba untuk membaca `data/track_record.csv` ke dalam variabel records."
   ]
  },
  {
   "cell_type": "code",
   "execution_count": 34,
   "metadata": {},
   "outputs": [],
   "source": [
    "records = pd.read_csv(\"data/track_record.csv\")"
   ]
  },
  {
   "attachments": {},
   "cell_type": "markdown",
   "metadata": {},
   "source": [
    "Lakukan pengamatan 5 data teratas dari `records` menggunakan `.head()`"
   ]
  },
  {
   "cell_type": "code",
   "execution_count": 35,
   "metadata": {},
   "outputs": [
    {
     "data": {
      "text/html": [
       "<div>\n",
       "<style scoped>\n",
       "    .dataframe tbody tr th:only-of-type {\n",
       "        vertical-align: middle;\n",
       "    }\n",
       "\n",
       "    .dataframe tbody tr th {\n",
       "        vertical-align: top;\n",
       "    }\n",
       "\n",
       "    .dataframe thead th {\n",
       "        text-align: right;\n",
       "    }\n",
       "</style>\n",
       "<table border=\"1\" class=\"dataframe\">\n",
       "  <thead>\n",
       "    <tr style=\"text-align: right;\">\n",
       "      <th></th>\n",
       "      <th>start</th>\n",
       "      <th>end</th>\n",
       "      <th>dist</th>\n",
       "      <th>lge/100km</th>\n",
       "      <th>add_cost</th>\n",
       "      <th>start_time</th>\n",
       "      <th>end_time</th>\n",
       "    </tr>\n",
       "  </thead>\n",
       "  <tbody>\n",
       "    <tr>\n",
       "      <th>0</th>\n",
       "      <td>E</td>\n",
       "      <td>C</td>\n",
       "      <td>20.0</td>\n",
       "      <td>10.2</td>\n",
       "      <td>0.0</td>\n",
       "      <td>2023-02-08 15:02:00</td>\n",
       "      <td>2023-02-08 15:33:00</td>\n",
       "    </tr>\n",
       "    <tr>\n",
       "      <th>1</th>\n",
       "      <td>A</td>\n",
       "      <td>E</td>\n",
       "      <td>21.0</td>\n",
       "      <td>9.6</td>\n",
       "      <td>37.0</td>\n",
       "      <td>2023-02-08 14:02:00</td>\n",
       "      <td>2023-02-08 14:32:00</td>\n",
       "    </tr>\n",
       "    <tr>\n",
       "      <th>2</th>\n",
       "      <td>F</td>\n",
       "      <td>G</td>\n",
       "      <td>12.0</td>\n",
       "      <td>11.8</td>\n",
       "      <td>8.0</td>\n",
       "      <td>2023-02-07 15:30:00</td>\n",
       "      <td>2023-02-07 15:54:00</td>\n",
       "    </tr>\n",
       "    <tr>\n",
       "      <th>3</th>\n",
       "      <td>A</td>\n",
       "      <td>F</td>\n",
       "      <td>31.0</td>\n",
       "      <td>13.3</td>\n",
       "      <td>34.5</td>\n",
       "      <td>2023-02-07 14:13:00</td>\n",
       "      <td>2023-02-07 15:01:00</td>\n",
       "    </tr>\n",
       "    <tr>\n",
       "      <th>4</th>\n",
       "      <td>B</td>\n",
       "      <td>D</td>\n",
       "      <td>6.0</td>\n",
       "      <td>14.5</td>\n",
       "      <td>0.0</td>\n",
       "      <td>2023-02-06 15:30:00</td>\n",
       "      <td>2023-02-06 15:43:00</td>\n",
       "    </tr>\n",
       "  </tbody>\n",
       "</table>\n",
       "</div>"
      ],
      "text/plain": [
       "  start end  dist  lge/100km  add_cost           start_time  \\\n",
       "0     E   C  20.0       10.2       0.0  2023-02-08 15:02:00   \n",
       "1     A   E  21.0        9.6      37.0  2023-02-08 14:02:00   \n",
       "2     F   G  12.0       11.8       8.0  2023-02-07 15:30:00   \n",
       "3     A   F  31.0       13.3      34.5  2023-02-07 14:13:00   \n",
       "4     B   D   6.0       14.5       0.0  2023-02-06 15:30:00   \n",
       "\n",
       "              end_time  \n",
       "0  2023-02-08 15:33:00  \n",
       "1  2023-02-08 14:32:00  \n",
       "2  2023-02-07 15:54:00  \n",
       "3  2023-02-07 15:01:00  \n",
       "4  2023-02-06 15:43:00  "
      ]
     },
     "execution_count": 35,
     "metadata": {},
     "output_type": "execute_result"
    }
   ],
   "source": [
    "records.head()"
   ]
  },
  {
   "attachments": {},
   "cell_type": "markdown",
   "metadata": {},
   "source": [
    "**Deskripsi Data:**\n",
    "\n",
    "Data `records` merupakan kumpulan catatan pengiriman distribusi. Berikut informasi dari setiap kolom:\n",
    "\n",
    "- `start`: Lokasi berangkat\n",
    "- `end`: Lokasi tujuan\n",
    "- `dist`: Jarak tempuh (satuan km)\n",
    "- `lge/100km`: Penggunaan liter bensin / 100 km\n",
    "- `add_cost`: Tambahan biaya dalam satuan Ribu Rupiah (Biaya Tol)\n",
    "- `start_time`: Waktu berangkat\n",
    "- `end_time`: Waktu tiba"
   ]
  },
  {
   "attachments": {},
   "cell_type": "markdown",
   "metadata": {},
   "source": [
    "## [Opsional] Visualisasi Map"
   ]
  },
  {
   "cell_type": "code",
   "execution_count": 37,
   "metadata": {},
   "outputs": [],
   "source": [
    "# import folium\n",
    "\n",
    "# map_location = folium.Map(\n",
    "#     location = [location.latitude.mean(), location.longitude.mean()],\n",
    "#     zoom_start = 11,\n",
    "#     control_scale = True\n",
    "# )\n",
    "\n",
    "# for index, location_info in location.iterrows():\n",
    "#     popup = f\"%s: %s\" % (location_info['kode'], location_info['lokasi'])\n",
    "#     folium.Marker([location_info['latitude'], \n",
    "#                     location_info['longitude']], \n",
    "#                     popup = popup).add_to(map_location)\n",
    "\n",
    "# map_location"
   ]
  },
  {
   "attachments": {},
   "cell_type": "markdown",
   "metadata": {},
   "source": [
    "## Tipe Data `pandas`\n",
    "\n",
    "- Dataframe merupakan tabel/data tabular dua dimensi yaitu baris dan kolom.\n",
    "- Dataframe terdiri dari beberapa **Series** (kolom).\n",
    "- Dalam satu series harus memiliki tipe data yang sama.\n",
    "- `pandas` akan menentukan tipe data dari masing-masing Series, tapi hasil dari pandas tidak selalu benar."
   ]
  },
  {
   "attachments": {},
   "cell_type": "markdown",
   "metadata": {},
   "source": [
    "Berikut rangkuman tipe data `pandas`:\n",
    "\n",
    "**Note: Fokus pada kolom `Pandas dtype` dan `Usage`**\n",
    "\n",
    "| Pandas dtype  | Python type  | NumPy type                                                     | Usage                                        |\n",
    "|---------------|--------------|----------------------------------------------------------------|----------------------------------------------|\n",
    "| object        | str or mixed | string_, unicode_, mixed types                                 | Text or mixed numeric and non-numeric values |\n",
    "| int64         | int          | int_, int8, int16, int32, int64, uint8, uint16, uint32, uint64 | Integer numbers                              |\n",
    "| float64       | float        | float_, float16, float32, float64                              | Floating point numbers                       |\n",
    "| bool          | bool         | bool_                                                          | True/False values                            |\n",
    "| datetime64[ns]    | NA           | datetime64[ns]                                                 | Date and time values                         |\n",
    "| timedelta[ns] | NA           | NA                                                             | Differences between two datetimes            |\n",
    "| category      | NA           | NA                                                             | Finite list of text values                   |\n",
    "\n",
    "Referensi: [Overview of Pandas Data Types](https://pbpython.com/pandas_dtypes.html)"
   ]
  },
  {
   "attachments": {},
   "cell_type": "markdown",
   "metadata": {},
   "source": [
    "**Tipe data Pandas:**\n",
    "\n",
    "- `int64`: Integer (bilangan bulat, tanpa koma)\n",
    "- `float64`: Bilangan desimal (berkoma)\n",
    "- `object`: Text (string)\n",
    "- `category`: Kategorikal \n",
    "- `datetime64[ns]`: Data waktu\n",
    "\n",
    "Karakteristik tipe data `category` :\n",
    "- Dapat dikelompokkan menjadi beberapa kelompok (category)\n",
    "- Nilainya berulang"
   ]
  },
  {
   "attachments": {},
   "cell_type": "markdown",
   "metadata": {},
   "source": [
    "----"
   ]
  },
  {
   "attachments": {},
   "cell_type": "markdown",
   "metadata": {},
   "source": [
    "Saat kita membaca data dengan `pd.read_csv()`, `pandas` akan mencoba menentukan tipe data dari setiap kolom. Untuk inspeksi tipe data dapat menggunakan `dtypes`."
   ]
  },
  {
   "cell_type": "code",
   "execution_count": 38,
   "metadata": {},
   "outputs": [
    {
     "data": {
      "text/plain": [
       "start          object\n",
       "end            object\n",
       "dist          float64\n",
       "lge/100km     float64\n",
       "add_cost      float64\n",
       "start_time     object\n",
       "end_time       object\n",
       "dtype: object"
      ]
     },
     "execution_count": 38,
     "metadata": {},
     "output_type": "execute_result"
    }
   ],
   "source": [
    "# Cek tipe data\n",
    "records.dtypes"
   ]
  },
  {
   "cell_type": "code",
   "execution_count": 39,
   "metadata": {},
   "outputs": [
    {
     "data": {
      "text/html": [
       "<div>\n",
       "<style scoped>\n",
       "    .dataframe tbody tr th:only-of-type {\n",
       "        vertical-align: middle;\n",
       "    }\n",
       "\n",
       "    .dataframe tbody tr th {\n",
       "        vertical-align: top;\n",
       "    }\n",
       "\n",
       "    .dataframe thead th {\n",
       "        text-align: right;\n",
       "    }\n",
       "</style>\n",
       "<table border=\"1\" class=\"dataframe\">\n",
       "  <thead>\n",
       "    <tr style=\"text-align: right;\">\n",
       "      <th></th>\n",
       "      <th>start</th>\n",
       "      <th>end</th>\n",
       "      <th>dist</th>\n",
       "      <th>lge/100km</th>\n",
       "      <th>add_cost</th>\n",
       "      <th>start_time</th>\n",
       "      <th>end_time</th>\n",
       "    </tr>\n",
       "  </thead>\n",
       "  <tbody>\n",
       "    <tr>\n",
       "      <th>0</th>\n",
       "      <td>E</td>\n",
       "      <td>C</td>\n",
       "      <td>20.0</td>\n",
       "      <td>10.2</td>\n",
       "      <td>0.0</td>\n",
       "      <td>2023-02-08 15:02:00</td>\n",
       "      <td>2023-02-08 15:33:00</td>\n",
       "    </tr>\n",
       "    <tr>\n",
       "      <th>1</th>\n",
       "      <td>A</td>\n",
       "      <td>E</td>\n",
       "      <td>21.0</td>\n",
       "      <td>9.6</td>\n",
       "      <td>37.0</td>\n",
       "      <td>2023-02-08 14:02:00</td>\n",
       "      <td>2023-02-08 14:32:00</td>\n",
       "    </tr>\n",
       "    <tr>\n",
       "      <th>2</th>\n",
       "      <td>F</td>\n",
       "      <td>G</td>\n",
       "      <td>12.0</td>\n",
       "      <td>11.8</td>\n",
       "      <td>8.0</td>\n",
       "      <td>2023-02-07 15:30:00</td>\n",
       "      <td>2023-02-07 15:54:00</td>\n",
       "    </tr>\n",
       "    <tr>\n",
       "      <th>3</th>\n",
       "      <td>A</td>\n",
       "      <td>F</td>\n",
       "      <td>31.0</td>\n",
       "      <td>13.3</td>\n",
       "      <td>34.5</td>\n",
       "      <td>2023-02-07 14:13:00</td>\n",
       "      <td>2023-02-07 15:01:00</td>\n",
       "    </tr>\n",
       "    <tr>\n",
       "      <th>4</th>\n",
       "      <td>B</td>\n",
       "      <td>D</td>\n",
       "      <td>6.0</td>\n",
       "      <td>14.5</td>\n",
       "      <td>0.0</td>\n",
       "      <td>2023-02-06 15:30:00</td>\n",
       "      <td>2023-02-06 15:43:00</td>\n",
       "    </tr>\n",
       "  </tbody>\n",
       "</table>\n",
       "</div>"
      ],
      "text/plain": [
       "  start end  dist  lge/100km  add_cost           start_time  \\\n",
       "0     E   C  20.0       10.2       0.0  2023-02-08 15:02:00   \n",
       "1     A   E  21.0        9.6      37.0  2023-02-08 14:02:00   \n",
       "2     F   G  12.0       11.8       8.0  2023-02-07 15:30:00   \n",
       "3     A   F  31.0       13.3      34.5  2023-02-07 14:13:00   \n",
       "4     B   D   6.0       14.5       0.0  2023-02-06 15:30:00   \n",
       "\n",
       "              end_time  \n",
       "0  2023-02-08 15:33:00  \n",
       "1  2023-02-08 14:32:00  \n",
       "2  2023-02-07 15:54:00  \n",
       "3  2023-02-07 15:01:00  \n",
       "4  2023-02-06 15:43:00  "
      ]
     },
     "execution_count": 39,
     "metadata": {},
     "output_type": "execute_result"
    }
   ],
   "source": [
    "records.head()"
   ]
  },
  {
   "attachments": {},
   "cell_type": "markdown",
   "metadata": {},
   "source": [
    "*Kolom manakah yang memiliki format tipe data yang belum sesuai?*\n",
    "\n",
    "> Jawaban:\n",
    "- `start_time`, `end_time` -> datetime64\n",
    "- `start`, `end` -> category"
   ]
  },
  {
   "attachments": {},
   "cell_type": "markdown",
   "metadata": {},
   "source": [
    "Untuk mengubah tipe data pada `pandas`, dapat menggunakan method `astype()`.\n",
    "\n",
    "**Sintaks**\n",
    "```python\n",
    "df['column_name'] = df['column_name'].astype('new_data_types')\n",
    "```"
   ]
  },
  {
   "cell_type": "code",
   "execution_count": 40,
   "metadata": {},
   "outputs": [],
   "source": [
    "records[['start_time', 'end_time']] = records[['start_time', 'end_time']].astype('datetime64[ns]')"
   ]
  },
  {
   "cell_type": "code",
   "execution_count": 41,
   "metadata": {},
   "outputs": [],
   "source": [
    "records[['start', 'end']] = records[['start', 'end']].astype('category')"
   ]
  },
  {
   "cell_type": "code",
   "execution_count": 42,
   "metadata": {},
   "outputs": [
    {
     "data": {
      "text/plain": [
       "start               category\n",
       "end                 category\n",
       "dist                 float64\n",
       "lge/100km            float64\n",
       "add_cost             float64\n",
       "start_time    datetime64[ns]\n",
       "end_time      datetime64[ns]\n",
       "dtype: object"
      ]
     },
     "execution_count": 42,
     "metadata": {},
     "output_type": "execute_result"
    }
   ],
   "source": [
    "records.dtypes"
   ]
  },
  {
   "attachments": {},
   "cell_type": "markdown",
   "metadata": {},
   "source": [
    "## Datetime"
   ]
  },
  {
   "attachments": {},
   "cell_type": "markdown",
   "metadata": {},
   "source": [
    "### Partisi Datetime\n",
    "\n",
    "Ketika sebuah kolom sudah menjadi `datetime64`, kita dapat melakukan partisi untuk menggali informasi yang lebih spesifik seperti tahun, bulan, hari, dan jam.\n",
    "\n",
    "**Date component (numeric)**\n",
    "- `.dt.year` -> partisi tahun\n",
    "- `.dt.month` -> partisi bulan (angka)\n",
    "- `.dt.week` -> partisi pekan (angka)\n",
    "- `.dt.day` -> partisi day/tanggal (dalam angka)\n",
    "- `.dt.dayofweek`\n",
    "\n",
    "**Date component (string)**\n",
    "- `.dt.month_name()`-> partisi bulan (nama)\n",
    "- `.dt.day_name()`-> partisi hari (nama)\n",
    "\n",
    "**Time component**\n",
    "- `.dt.hour` -> partisi jam\n",
    "- `.dt.minute` -> partisi menit\n",
    "- `.dt.second` -> partisi detik\n",
    "\n",
    "[Dokumentasi: datetime properties](https://pandas.pydata.org/pandas-docs/stable/reference/series.html#datetimelike-properties)"
   ]
  },
  {
   "cell_type": "code",
   "execution_count": 43,
   "metadata": {},
   "outputs": [
    {
     "data": {
      "text/html": [
       "<div>\n",
       "<style scoped>\n",
       "    .dataframe tbody tr th:only-of-type {\n",
       "        vertical-align: middle;\n",
       "    }\n",
       "\n",
       "    .dataframe tbody tr th {\n",
       "        vertical-align: top;\n",
       "    }\n",
       "\n",
       "    .dataframe thead th {\n",
       "        text-align: right;\n",
       "    }\n",
       "</style>\n",
       "<table border=\"1\" class=\"dataframe\">\n",
       "  <thead>\n",
       "    <tr style=\"text-align: right;\">\n",
       "      <th></th>\n",
       "      <th>start</th>\n",
       "      <th>end</th>\n",
       "      <th>dist</th>\n",
       "      <th>lge/100km</th>\n",
       "      <th>add_cost</th>\n",
       "      <th>start_time</th>\n",
       "      <th>end_time</th>\n",
       "      <th>month</th>\n",
       "    </tr>\n",
       "  </thead>\n",
       "  <tbody>\n",
       "    <tr>\n",
       "      <th>0</th>\n",
       "      <td>E</td>\n",
       "      <td>C</td>\n",
       "      <td>20.0</td>\n",
       "      <td>10.2</td>\n",
       "      <td>0.0</td>\n",
       "      <td>2023-02-08 15:02:00</td>\n",
       "      <td>2023-02-08 15:33:00</td>\n",
       "      <td>February</td>\n",
       "    </tr>\n",
       "    <tr>\n",
       "      <th>1</th>\n",
       "      <td>A</td>\n",
       "      <td>E</td>\n",
       "      <td>21.0</td>\n",
       "      <td>9.6</td>\n",
       "      <td>37.0</td>\n",
       "      <td>2023-02-08 14:02:00</td>\n",
       "      <td>2023-02-08 14:32:00</td>\n",
       "      <td>February</td>\n",
       "    </tr>\n",
       "    <tr>\n",
       "      <th>2</th>\n",
       "      <td>F</td>\n",
       "      <td>G</td>\n",
       "      <td>12.0</td>\n",
       "      <td>11.8</td>\n",
       "      <td>8.0</td>\n",
       "      <td>2023-02-07 15:30:00</td>\n",
       "      <td>2023-02-07 15:54:00</td>\n",
       "      <td>February</td>\n",
       "    </tr>\n",
       "    <tr>\n",
       "      <th>3</th>\n",
       "      <td>A</td>\n",
       "      <td>F</td>\n",
       "      <td>31.0</td>\n",
       "      <td>13.3</td>\n",
       "      <td>34.5</td>\n",
       "      <td>2023-02-07 14:13:00</td>\n",
       "      <td>2023-02-07 15:01:00</td>\n",
       "      <td>February</td>\n",
       "    </tr>\n",
       "    <tr>\n",
       "      <th>4</th>\n",
       "      <td>B</td>\n",
       "      <td>D</td>\n",
       "      <td>6.0</td>\n",
       "      <td>14.5</td>\n",
       "      <td>0.0</td>\n",
       "      <td>2023-02-06 15:30:00</td>\n",
       "      <td>2023-02-06 15:43:00</td>\n",
       "      <td>February</td>\n",
       "    </tr>\n",
       "  </tbody>\n",
       "</table>\n",
       "</div>"
      ],
      "text/plain": [
       "  start end  dist  lge/100km  add_cost          start_time  \\\n",
       "0     E   C  20.0       10.2       0.0 2023-02-08 15:02:00   \n",
       "1     A   E  21.0        9.6      37.0 2023-02-08 14:02:00   \n",
       "2     F   G  12.0       11.8       8.0 2023-02-07 15:30:00   \n",
       "3     A   F  31.0       13.3      34.5 2023-02-07 14:13:00   \n",
       "4     B   D   6.0       14.5       0.0 2023-02-06 15:30:00   \n",
       "\n",
       "             end_time     month  \n",
       "0 2023-02-08 15:33:00  February  \n",
       "1 2023-02-08 14:32:00  February  \n",
       "2 2023-02-07 15:54:00  February  \n",
       "3 2023-02-07 15:01:00  February  \n",
       "4 2023-02-06 15:43:00  February  "
      ]
     },
     "execution_count": 43,
     "metadata": {},
     "output_type": "execute_result"
    }
   ],
   "source": [
    "records['month'] = records['start_time'].dt.month_name()\n",
    "\n",
    "records.head()"
   ]
  },
  {
   "cell_type": "code",
   "execution_count": 44,
   "metadata": {},
   "outputs": [
    {
     "data": {
      "image/png": "[encoded data removed]",
      "text/plain": [
       "<Figure size 640x480 with 1 Axes>"
      ]
     },
     "metadata": {},
     "output_type": "display_data"
    }
   ],
   "source": [
    "records['month'].value_counts().plot(kind = 'bar');"
   ]
  },
  {
   "attachments": {},
   "cell_type": "markdown",
   "metadata": {},
   "source": [
    "Catatan yang kita punya hanya bulan Januari dan Februari.\n",
    "\n",
    "Berikutnya mari kita lihat pengiriman dilakukan pada hari apa saja."
   ]
  },
  {
   "cell_type": "code",
   "execution_count": 45,
   "metadata": {},
   "outputs": [
    {
     "data": {
      "image/png": "[encoded data removed]",
      "text/plain": [
       "<Figure size 640x480 with 1 Axes>"
      ]
     },
     "metadata": {},
     "output_type": "display_data"
    }
   ],
   "source": [
    "records['day'] = records['start_time'].dt.day_name()\n",
    "\n",
    "records['day'].value_counts().sort_index().plot(kind = 'bar');"
   ]
  },
  {
   "attachments": {},
   "cell_type": "markdown",
   "metadata": {},
   "source": [
    "> Pengiriman terjadi hanya pada hari Senin hingga Rabu"
   ]
  },
  {
   "attachments": {},
   "cell_type": "markdown",
   "metadata": {},
   "source": [
    "### Object Datetime Transformation\n",
    "\n",
    "Selain digunakan untuk melakukan partisi, kita juga dapat melakukan transformasi object `datetime64` ke dalam format periode menggunakan syntax `to_period()`.\n",
    "\n",
    "- `.dt.to_period('D')` -> mengubah ke format **D**aily (tanggal lengkap)\n",
    "- `.dt.to_period('W')` -> mengubah ke format **W**eekly (awal dan akhir minggu)\n",
    "- `.dt.to_period('M')` -> mengubah ke format **M**onthly (year-month)\n",
    "- `.dt.to_period('Q')` -> mengubah ke format **Q**uarterly (year-quarter)\n",
    "\n",
    "Reference: [Pandas anchoring suffix docs](https://pandas.pydata.org/pandas-docs/stable/user_guide/timeseries.html#anchored-offsets)"
   ]
  },
  {
   "cell_type": "code",
   "execution_count": 46,
   "metadata": {},
   "outputs": [
    {
     "data": {
      "text/plain": [
       "0     2023-02-08\n",
       "1     2023-02-08\n",
       "2     2023-02-07\n",
       "3     2023-02-07\n",
       "4     2023-02-06\n",
       "5     2023-02-06\n",
       "6     2023-01-31\n",
       "7     2023-01-31\n",
       "8     2023-01-30\n",
       "9     2023-01-30\n",
       "10    2023-01-25\n",
       "11    2023-01-25\n",
       "12    2023-01-24\n",
       "13    2023-01-24\n",
       "14    2023-01-16\n",
       "15    2023-01-16\n",
       "16    2023-01-11\n",
       "17    2023-01-11\n",
       "Name: start_time, dtype: period[D]"
      ]
     },
     "execution_count": 46,
     "metadata": {},
     "output_type": "execute_result"
    }
   ],
   "source": [
    "# periode daily\n",
    "records['start_time'].dt.to_period('D')"
   ]
  },
  {
   "attachments": {},
   "cell_type": "markdown",
   "metadata": {},
   "source": [
    "Selanjutnya mari kita lihat ada berapa total pengiriman setiap minggunya."
   ]
  },
  {
   "cell_type": "code",
   "execution_count": 47,
   "metadata": {},
   "outputs": [
    {
     "data": {
      "image/png": "[encoded data removed]",
      "text/plain": [
       "<Figure size 640x480 with 1 Axes>"
      ]
     },
     "metadata": {},
     "output_type": "display_data"
    }
   ],
   "source": [
    "records['weekly'] = records['start_time'].dt.to_period('W')\n",
    "\n",
    "records['weekly'].value_counts().plot(kind = 'bar');"
   ]
  },
  {
   "cell_type": "code",
   "execution_count": 48,
   "metadata": {},
   "outputs": [
    {
     "name": "stderr",
     "output_type": "stream",
     "text": [
      "C:\\Users\\DELL\\AppData\\Local\\Temp\\ipykernel_868\\3188823567.py:1: FutureWarning: Series.dt.weekofyear and Series.dt.week have been deprecated. Please use Series.dt.isocalendar().week instead.\n",
      "  records['weekofyear'] = records['start_time'].dt.week\n"
     ]
    },
    {
     "data": {
      "image/png": "[encoded data removed]",
      "text/plain": [
       "<Figure size 640x480 with 1 Axes>"
      ]
     },
     "metadata": {},
     "output_type": "display_data"
    }
   ],
   "source": [
    "records['weekofyear'] = records['start_time'].dt.week\n",
    "\n",
    "records['weekofyear'].value_counts().plot(kind = 'bar');"
   ]
  },
  {
   "attachments": {},
   "cell_type": "markdown",
   "metadata": {},
   "source": [
    "> Note: Records paling lengkap yang tercatat terjadi pada rentang pekan kedua Februari (Tgl 6 - Tgl 12) atau pekan ke-6 di tahun 2023. Total Record adalah 6"
   ]
  },
  {
   "attachments": {},
   "cell_type": "markdown",
   "metadata": {},
   "source": [
    "## Conditional Subsetting\n",
    "\n",
    "Conditional subsetting bermaksud untuk mengambil sebagian data dari DataFrame berdasarkan suatu kondisi tertentu.\n",
    "\n",
    "Sintaks:\n",
    "\n",
    "```python\n",
    "df[df['column_name'] <comparison_operator> <value>]\n",
    "```"
   ]
  },
  {
   "cell_type": "code",
   "execution_count": 49,
   "metadata": {},
   "outputs": [
    {
     "data": {
      "text/html": [
       "<div>\n",
       "<style scoped>\n",
       "    .dataframe tbody tr th:only-of-type {\n",
       "        vertical-align: middle;\n",
       "    }\n",
       "\n",
       "    .dataframe tbody tr th {\n",
       "        vertical-align: top;\n",
       "    }\n",
       "\n",
       "    .dataframe thead th {\n",
       "        text-align: right;\n",
       "    }\n",
       "</style>\n",
       "<table border=\"1\" class=\"dataframe\">\n",
       "  <thead>\n",
       "    <tr style=\"text-align: right;\">\n",
       "      <th></th>\n",
       "      <th>start</th>\n",
       "      <th>end</th>\n",
       "      <th>dist</th>\n",
       "      <th>lge/100km</th>\n",
       "      <th>add_cost</th>\n",
       "      <th>start_time</th>\n",
       "      <th>end_time</th>\n",
       "      <th>month</th>\n",
       "      <th>day</th>\n",
       "      <th>weekly</th>\n",
       "      <th>weekofyear</th>\n",
       "    </tr>\n",
       "  </thead>\n",
       "  <tbody>\n",
       "    <tr>\n",
       "      <th>0</th>\n",
       "      <td>E</td>\n",
       "      <td>C</td>\n",
       "      <td>20.0</td>\n",
       "      <td>10.2</td>\n",
       "      <td>0.0</td>\n",
       "      <td>2023-02-08 15:02:00</td>\n",
       "      <td>2023-02-08 15:33:00</td>\n",
       "      <td>February</td>\n",
       "      <td>Wednesday</td>\n",
       "      <td>2023-02-06/2023-02-12</td>\n",
       "      <td>6</td>\n",
       "    </tr>\n",
       "    <tr>\n",
       "      <th>1</th>\n",
       "      <td>A</td>\n",
       "      <td>E</td>\n",
       "      <td>21.0</td>\n",
       "      <td>9.6</td>\n",
       "      <td>37.0</td>\n",
       "      <td>2023-02-08 14:02:00</td>\n",
       "      <td>2023-02-08 14:32:00</td>\n",
       "      <td>February</td>\n",
       "      <td>Wednesday</td>\n",
       "      <td>2023-02-06/2023-02-12</td>\n",
       "      <td>6</td>\n",
       "    </tr>\n",
       "    <tr>\n",
       "      <th>2</th>\n",
       "      <td>F</td>\n",
       "      <td>G</td>\n",
       "      <td>12.0</td>\n",
       "      <td>11.8</td>\n",
       "      <td>8.0</td>\n",
       "      <td>2023-02-07 15:30:00</td>\n",
       "      <td>2023-02-07 15:54:00</td>\n",
       "      <td>February</td>\n",
       "      <td>Tuesday</td>\n",
       "      <td>2023-02-06/2023-02-12</td>\n",
       "      <td>6</td>\n",
       "    </tr>\n",
       "    <tr>\n",
       "      <th>3</th>\n",
       "      <td>A</td>\n",
       "      <td>F</td>\n",
       "      <td>31.0</td>\n",
       "      <td>13.3</td>\n",
       "      <td>34.5</td>\n",
       "      <td>2023-02-07 14:13:00</td>\n",
       "      <td>2023-02-07 15:01:00</td>\n",
       "      <td>February</td>\n",
       "      <td>Tuesday</td>\n",
       "      <td>2023-02-06/2023-02-12</td>\n",
       "      <td>6</td>\n",
       "    </tr>\n",
       "    <tr>\n",
       "      <th>4</th>\n",
       "      <td>B</td>\n",
       "      <td>D</td>\n",
       "      <td>6.0</td>\n",
       "      <td>14.5</td>\n",
       "      <td>0.0</td>\n",
       "      <td>2023-02-06 15:30:00</td>\n",
       "      <td>2023-02-06 15:43:00</td>\n",
       "      <td>February</td>\n",
       "      <td>Monday</td>\n",
       "      <td>2023-02-06/2023-02-12</td>\n",
       "      <td>6</td>\n",
       "    </tr>\n",
       "  </tbody>\n",
       "</table>\n",
       "</div>"
      ],
      "text/plain": [
       "  start end  dist  lge/100km  add_cost          start_time  \\\n",
       "0     E   C  20.0       10.2       0.0 2023-02-08 15:02:00   \n",
       "1     A   E  21.0        9.6      37.0 2023-02-08 14:02:00   \n",
       "2     F   G  12.0       11.8       8.0 2023-02-07 15:30:00   \n",
       "3     A   F  31.0       13.3      34.5 2023-02-07 14:13:00   \n",
       "4     B   D   6.0       14.5       0.0 2023-02-06 15:30:00   \n",
       "\n",
       "             end_time     month        day                 weekly  weekofyear  \n",
       "0 2023-02-08 15:33:00  February  Wednesday  2023-02-06/2023-02-12           6  \n",
       "1 2023-02-08 14:32:00  February  Wednesday  2023-02-06/2023-02-12           6  \n",
       "2 2023-02-07 15:54:00  February    Tuesday  2023-02-06/2023-02-12           6  \n",
       "3 2023-02-07 15:01:00  February    Tuesday  2023-02-06/2023-02-12           6  \n",
       "4 2023-02-06 15:43:00  February     Monday  2023-02-06/2023-02-12           6  "
      ]
     },
     "execution_count": 49,
     "metadata": {},
     "output_type": "execute_result"
    }
   ],
   "source": [
    "records.head()"
   ]
  },
  {
   "attachments": {},
   "cell_type": "markdown",
   "metadata": {},
   "source": [
    "❓ Menampilkan data yang memiliki `dist` (jarak) di atas 15 km"
   ]
  },
  {
   "cell_type": "code",
   "execution_count": 50,
   "metadata": {},
   "outputs": [
    {
     "data": {
      "text/html": [
       "<div>\n",
       "<style scoped>\n",
       "    .dataframe tbody tr th:only-of-type {\n",
       "        vertical-align: middle;\n",
       "    }\n",
       "\n",
       "    .dataframe tbody tr th {\n",
       "        vertical-align: top;\n",
       "    }\n",
       "\n",
       "    .dataframe thead th {\n",
       "        text-align: right;\n",
       "    }\n",
       "</style>\n",
       "<table border=\"1\" class=\"dataframe\">\n",
       "  <thead>\n",
       "    <tr style=\"text-align: right;\">\n",
       "      <th></th>\n",
       "      <th>start</th>\n",
       "      <th>end</th>\n",
       "      <th>dist</th>\n",
       "      <th>lge/100km</th>\n",
       "      <th>add_cost</th>\n",
       "      <th>start_time</th>\n",
       "      <th>end_time</th>\n",
       "      <th>month</th>\n",
       "      <th>day</th>\n",
       "      <th>weekly</th>\n",
       "      <th>weekofyear</th>\n",
       "    </tr>\n",
       "  </thead>\n",
       "  <tbody>\n",
       "    <tr>\n",
       "      <th>1</th>\n",
       "      <td>A</td>\n",
       "      <td>E</td>\n",
       "      <td>21.0</td>\n",
       "      <td>9.6</td>\n",
       "      <td>37.0</td>\n",
       "      <td>2023-02-08 14:02:00</td>\n",
       "      <td>2023-02-08 14:32:00</td>\n",
       "      <td>February</td>\n",
       "      <td>Wednesday</td>\n",
       "      <td>2023-02-06/2023-02-12</td>\n",
       "      <td>6</td>\n",
       "    </tr>\n",
       "    <tr>\n",
       "      <th>3</th>\n",
       "      <td>A</td>\n",
       "      <td>F</td>\n",
       "      <td>31.0</td>\n",
       "      <td>13.3</td>\n",
       "      <td>34.5</td>\n",
       "      <td>2023-02-07 14:13:00</td>\n",
       "      <td>2023-02-07 15:01:00</td>\n",
       "      <td>February</td>\n",
       "      <td>Tuesday</td>\n",
       "      <td>2023-02-06/2023-02-12</td>\n",
       "      <td>6</td>\n",
       "    </tr>\n",
       "    <tr>\n",
       "      <th>5</th>\n",
       "      <td>A</td>\n",
       "      <td>B</td>\n",
       "      <td>21.0</td>\n",
       "      <td>11.8</td>\n",
       "      <td>37.0</td>\n",
       "      <td>2023-02-06 14:19:00</td>\n",
       "      <td>2023-02-06 14:57:00</td>\n",
       "      <td>February</td>\n",
       "      <td>Monday</td>\n",
       "      <td>2023-02-06/2023-02-12</td>\n",
       "      <td>6</td>\n",
       "    </tr>\n",
       "    <tr>\n",
       "      <th>7</th>\n",
       "      <td>A</td>\n",
       "      <td>C</td>\n",
       "      <td>37.0</td>\n",
       "      <td>7.7</td>\n",
       "      <td>16.0</td>\n",
       "      <td>2023-01-31 14:01:00</td>\n",
       "      <td>2023-01-31 14:37:00</td>\n",
       "      <td>January</td>\n",
       "      <td>Tuesday</td>\n",
       "      <td>2023-01-30/2023-02-05</td>\n",
       "      <td>5</td>\n",
       "    </tr>\n",
       "    <tr>\n",
       "      <th>9</th>\n",
       "      <td>A</td>\n",
       "      <td>G</td>\n",
       "      <td>27.0</td>\n",
       "      <td>21.9</td>\n",
       "      <td>0.0</td>\n",
       "      <td>2023-01-30 14:10:00</td>\n",
       "      <td>2023-01-30 15:35:00</td>\n",
       "      <td>January</td>\n",
       "      <td>Monday</td>\n",
       "      <td>2023-01-30/2023-02-05</td>\n",
       "      <td>5</td>\n",
       "    </tr>\n",
       "    <tr>\n",
       "      <th>11</th>\n",
       "      <td>A</td>\n",
       "      <td>B</td>\n",
       "      <td>21.0</td>\n",
       "      <td>12.1</td>\n",
       "      <td>37.0</td>\n",
       "      <td>2023-01-25 14:09:00</td>\n",
       "      <td>2023-01-25 14:49:00</td>\n",
       "      <td>January</td>\n",
       "      <td>Wednesday</td>\n",
       "      <td>2023-01-23/2023-01-29</td>\n",
       "      <td>4</td>\n",
       "    </tr>\n",
       "    <tr>\n",
       "      <th>13</th>\n",
       "      <td>A</td>\n",
       "      <td>D</td>\n",
       "      <td>24.0</td>\n",
       "      <td>11.0</td>\n",
       "      <td>37.0</td>\n",
       "      <td>2023-01-24 14:02:00</td>\n",
       "      <td>2023-01-24 14:40:00</td>\n",
       "      <td>January</td>\n",
       "      <td>Tuesday</td>\n",
       "      <td>2023-01-23/2023-01-29</td>\n",
       "      <td>4</td>\n",
       "    </tr>\n",
       "    <tr>\n",
       "      <th>15</th>\n",
       "      <td>A</td>\n",
       "      <td>E</td>\n",
       "      <td>21.0</td>\n",
       "      <td>9.8</td>\n",
       "      <td>37.0</td>\n",
       "      <td>2023-01-16 14:01:00</td>\n",
       "      <td>2023-01-16 14:32:00</td>\n",
       "      <td>January</td>\n",
       "      <td>Monday</td>\n",
       "      <td>2023-01-16/2023-01-22</td>\n",
       "      <td>3</td>\n",
       "    </tr>\n",
       "    <tr>\n",
       "      <th>17</th>\n",
       "      <td>A</td>\n",
       "      <td>F</td>\n",
       "      <td>31.0</td>\n",
       "      <td>13.2</td>\n",
       "      <td>34.5</td>\n",
       "      <td>2023-01-11 14:07:00</td>\n",
       "      <td>2023-01-11 14:55:00</td>\n",
       "      <td>January</td>\n",
       "      <td>Wednesday</td>\n",
       "      <td>2023-01-09/2023-01-15</td>\n",
       "      <td>2</td>\n",
       "    </tr>\n",
       "  </tbody>\n",
       "</table>\n",
       "</div>"
      ],
      "text/plain": [
       "   start end  dist  lge/100km  add_cost          start_time  \\\n",
       "1      A   E  21.0        9.6      37.0 2023-02-08 14:02:00   \n",
       "3      A   F  31.0       13.3      34.5 2023-02-07 14:13:00   \n",
       "5      A   B  21.0       11.8      37.0 2023-02-06 14:19:00   \n",
       "7      A   C  37.0        7.7      16.0 2023-01-31 14:01:00   \n",
       "9      A   G  27.0       21.9       0.0 2023-01-30 14:10:00   \n",
       "11     A   B  21.0       12.1      37.0 2023-01-25 14:09:00   \n",
       "13     A   D  24.0       11.0      37.0 2023-01-24 14:02:00   \n",
       "15     A   E  21.0        9.8      37.0 2023-01-16 14:01:00   \n",
       "17     A   F  31.0       13.2      34.5 2023-01-11 14:07:00   \n",
       "\n",
       "              end_time     month        day                 weekly  weekofyear  \n",
       "1  2023-02-08 14:32:00  February  Wednesday  2023-02-06/2023-02-12           6  \n",
       "3  2023-02-07 15:01:00  February    Tuesday  2023-02-06/2023-02-12           6  \n",
       "5  2023-02-06 14:57:00  February     Monday  2023-02-06/2023-02-12           6  \n",
       "7  2023-01-31 14:37:00   January    Tuesday  2023-01-30/2023-02-05           5  \n",
       "9  2023-01-30 15:35:00   January     Monday  2023-01-30/2023-02-05           5  \n",
       "11 2023-01-25 14:49:00   January  Wednesday  2023-01-23/2023-01-29           4  \n",
       "13 2023-01-24 14:40:00   January    Tuesday  2023-01-23/2023-01-29           4  \n",
       "15 2023-01-16 14:32:00   January     Monday  2023-01-16/2023-01-22           3  \n",
       "17 2023-01-11 14:55:00   January  Wednesday  2023-01-09/2023-01-15           2  "
      ]
     },
     "execution_count": 50,
     "metadata": {},
     "output_type": "execute_result"
    }
   ],
   "source": [
    "# Code here\n",
    "records[records['dist'] > 20]"
   ]
  },
  {
   "attachments": {},
   "cell_type": "markdown",
   "metadata": {},
   "source": [
    "> Note: Jarak dari lokasi A ke semua lokasi rata-rata di atas 20km"
   ]
  },
  {
   "attachments": {},
   "cell_type": "markdown",
   "metadata": {},
   "source": [
    "❓ Menampilkan data pada week ke-6."
   ]
  },
  {
   "cell_type": "code",
   "execution_count": 51,
   "metadata": {},
   "outputs": [
    {
     "data": {
      "text/html": [
       "<div>\n",
       "<style scoped>\n",
       "    .dataframe tbody tr th:only-of-type {\n",
       "        vertical-align: middle;\n",
       "    }\n",
       "\n",
       "    .dataframe tbody tr th {\n",
       "        vertical-align: top;\n",
       "    }\n",
       "\n",
       "    .dataframe thead th {\n",
       "        text-align: right;\n",
       "    }\n",
       "</style>\n",
       "<table border=\"1\" class=\"dataframe\">\n",
       "  <thead>\n",
       "    <tr style=\"text-align: right;\">\n",
       "      <th></th>\n",
       "      <th>start</th>\n",
       "      <th>end</th>\n",
       "      <th>dist</th>\n",
       "      <th>lge/100km</th>\n",
       "      <th>add_cost</th>\n",
       "      <th>start_time</th>\n",
       "      <th>end_time</th>\n",
       "      <th>month</th>\n",
       "      <th>day</th>\n",
       "      <th>weekly</th>\n",
       "      <th>weekofyear</th>\n",
       "    </tr>\n",
       "  </thead>\n",
       "  <tbody>\n",
       "    <tr>\n",
       "      <th>0</th>\n",
       "      <td>E</td>\n",
       "      <td>C</td>\n",
       "      <td>20.0</td>\n",
       "      <td>10.2</td>\n",
       "      <td>0.0</td>\n",
       "      <td>2023-02-08 15:02:00</td>\n",
       "      <td>2023-02-08 15:33:00</td>\n",
       "      <td>February</td>\n",
       "      <td>Wednesday</td>\n",
       "      <td>2023-02-06/2023-02-12</td>\n",
       "      <td>6</td>\n",
       "    </tr>\n",
       "    <tr>\n",
       "      <th>1</th>\n",
       "      <td>A</td>\n",
       "      <td>E</td>\n",
       "      <td>21.0</td>\n",
       "      <td>9.6</td>\n",
       "      <td>37.0</td>\n",
       "      <td>2023-02-08 14:02:00</td>\n",
       "      <td>2023-02-08 14:32:00</td>\n",
       "      <td>February</td>\n",
       "      <td>Wednesday</td>\n",
       "      <td>2023-02-06/2023-02-12</td>\n",
       "      <td>6</td>\n",
       "    </tr>\n",
       "    <tr>\n",
       "      <th>2</th>\n",
       "      <td>F</td>\n",
       "      <td>G</td>\n",
       "      <td>12.0</td>\n",
       "      <td>11.8</td>\n",
       "      <td>8.0</td>\n",
       "      <td>2023-02-07 15:30:00</td>\n",
       "      <td>2023-02-07 15:54:00</td>\n",
       "      <td>February</td>\n",
       "      <td>Tuesday</td>\n",
       "      <td>2023-02-06/2023-02-12</td>\n",
       "      <td>6</td>\n",
       "    </tr>\n",
       "    <tr>\n",
       "      <th>3</th>\n",
       "      <td>A</td>\n",
       "      <td>F</td>\n",
       "      <td>31.0</td>\n",
       "      <td>13.3</td>\n",
       "      <td>34.5</td>\n",
       "      <td>2023-02-07 14:13:00</td>\n",
       "      <td>2023-02-07 15:01:00</td>\n",
       "      <td>February</td>\n",
       "      <td>Tuesday</td>\n",
       "      <td>2023-02-06/2023-02-12</td>\n",
       "      <td>6</td>\n",
       "    </tr>\n",
       "    <tr>\n",
       "      <th>4</th>\n",
       "      <td>B</td>\n",
       "      <td>D</td>\n",
       "      <td>6.0</td>\n",
       "      <td>14.5</td>\n",
       "      <td>0.0</td>\n",
       "      <td>2023-02-06 15:30:00</td>\n",
       "      <td>2023-02-06 15:43:00</td>\n",
       "      <td>February</td>\n",
       "      <td>Monday</td>\n",
       "      <td>2023-02-06/2023-02-12</td>\n",
       "      <td>6</td>\n",
       "    </tr>\n",
       "    <tr>\n",
       "      <th>5</th>\n",
       "      <td>A</td>\n",
       "      <td>B</td>\n",
       "      <td>21.0</td>\n",
       "      <td>11.8</td>\n",
       "      <td>37.0</td>\n",
       "      <td>2023-02-06 14:19:00</td>\n",
       "      <td>2023-02-06 14:57:00</td>\n",
       "      <td>February</td>\n",
       "      <td>Monday</td>\n",
       "      <td>2023-02-06/2023-02-12</td>\n",
       "      <td>6</td>\n",
       "    </tr>\n",
       "  </tbody>\n",
       "</table>\n",
       "</div>"
      ],
      "text/plain": [
       "  start end  dist  lge/100km  add_cost          start_time  \\\n",
       "0     E   C  20.0       10.2       0.0 2023-02-08 15:02:00   \n",
       "1     A   E  21.0        9.6      37.0 2023-02-08 14:02:00   \n",
       "2     F   G  12.0       11.8       8.0 2023-02-07 15:30:00   \n",
       "3     A   F  31.0       13.3      34.5 2023-02-07 14:13:00   \n",
       "4     B   D   6.0       14.5       0.0 2023-02-06 15:30:00   \n",
       "5     A   B  21.0       11.8      37.0 2023-02-06 14:19:00   \n",
       "\n",
       "             end_time     month        day                 weekly  weekofyear  \n",
       "0 2023-02-08 15:33:00  February  Wednesday  2023-02-06/2023-02-12           6  \n",
       "1 2023-02-08 14:32:00  February  Wednesday  2023-02-06/2023-02-12           6  \n",
       "2 2023-02-07 15:54:00  February    Tuesday  2023-02-06/2023-02-12           6  \n",
       "3 2023-02-07 15:01:00  February    Tuesday  2023-02-06/2023-02-12           6  \n",
       "4 2023-02-06 15:43:00  February     Monday  2023-02-06/2023-02-12           6  \n",
       "5 2023-02-06 14:57:00  February     Monday  2023-02-06/2023-02-12           6  "
      ]
     },
     "execution_count": 51,
     "metadata": {},
     "output_type": "execute_result"
    }
   ],
   "source": [
    "records[records['weekofyear'] == 6]"
   ]
  },
  {
   "attachments": {},
   "cell_type": "markdown",
   "metadata": {},
   "source": [
    "❓ Menampilkan data pada week ke-6 dan hari Senin"
   ]
  },
  {
   "cell_type": "code",
   "execution_count": 52,
   "metadata": {},
   "outputs": [
    {
     "data": {
      "text/html": [
       "<div>\n",
       "<style scoped>\n",
       "    .dataframe tbody tr th:only-of-type {\n",
       "        vertical-align: middle;\n",
       "    }\n",
       "\n",
       "    .dataframe tbody tr th {\n",
       "        vertical-align: top;\n",
       "    }\n",
       "\n",
       "    .dataframe thead th {\n",
       "        text-align: right;\n",
       "    }\n",
       "</style>\n",
       "<table border=\"1\" class=\"dataframe\">\n",
       "  <thead>\n",
       "    <tr style=\"text-align: right;\">\n",
       "      <th></th>\n",
       "      <th>start</th>\n",
       "      <th>end</th>\n",
       "      <th>dist</th>\n",
       "      <th>lge/100km</th>\n",
       "      <th>add_cost</th>\n",
       "      <th>start_time</th>\n",
       "      <th>end_time</th>\n",
       "      <th>month</th>\n",
       "      <th>day</th>\n",
       "      <th>weekly</th>\n",
       "      <th>weekofyear</th>\n",
       "    </tr>\n",
       "  </thead>\n",
       "  <tbody>\n",
       "    <tr>\n",
       "      <th>4</th>\n",
       "      <td>B</td>\n",
       "      <td>D</td>\n",
       "      <td>6.0</td>\n",
       "      <td>14.5</td>\n",
       "      <td>0.0</td>\n",
       "      <td>2023-02-06 15:30:00</td>\n",
       "      <td>2023-02-06 15:43:00</td>\n",
       "      <td>February</td>\n",
       "      <td>Monday</td>\n",
       "      <td>2023-02-06/2023-02-12</td>\n",
       "      <td>6</td>\n",
       "    </tr>\n",
       "    <tr>\n",
       "      <th>5</th>\n",
       "      <td>A</td>\n",
       "      <td>B</td>\n",
       "      <td>21.0</td>\n",
       "      <td>11.8</td>\n",
       "      <td>37.0</td>\n",
       "      <td>2023-02-06 14:19:00</td>\n",
       "      <td>2023-02-06 14:57:00</td>\n",
       "      <td>February</td>\n",
       "      <td>Monday</td>\n",
       "      <td>2023-02-06/2023-02-12</td>\n",
       "      <td>6</td>\n",
       "    </tr>\n",
       "  </tbody>\n",
       "</table>\n",
       "</div>"
      ],
      "text/plain": [
       "  start end  dist  lge/100km  add_cost          start_time  \\\n",
       "4     B   D   6.0       14.5       0.0 2023-02-06 15:30:00   \n",
       "5     A   B  21.0       11.8      37.0 2023-02-06 14:19:00   \n",
       "\n",
       "             end_time     month     day                 weekly  weekofyear  \n",
       "4 2023-02-06 15:43:00  February  Monday  2023-02-06/2023-02-12           6  \n",
       "5 2023-02-06 14:57:00  February  Monday  2023-02-06/2023-02-12           6  "
      ]
     },
     "execution_count": 52,
     "metadata": {},
     "output_type": "execute_result"
    }
   ],
   "source": [
    "records[(records['weekofyear'] == 6) & (records['day'] == 'Monday')]"
   ]
  },
  {
   "attachments": {},
   "cell_type": "markdown",
   "metadata": {},
   "source": [
    "> Notes: Jika kita perhatikan, jalur distribusi pada hari Senin pekan ke-6 berangkat dari A (warehouse) menuju B  (Thamrin City) kemudian dari B menuju D (Kota Kasabalanka).\n",
    "\n",
    "Rute: A - B - D"
   ]
  },
  {
   "attachments": {},
   "cell_type": "markdown",
   "metadata": {},
   "source": [
    "❓ Cobalah untuk mencari jenis rute yang lain"
   ]
  },
  {
   "attachments": {},
   "cell_type": "markdown",
   "metadata": {},
   "source": [
    "Kita mempunyai data records distribusi kita. Apakah terdapat cara untuk menggambarkan hubungan antar lokasi?\n",
    "\n",
    "Data yang saling terkoneksi (seperti data distribusi kita) dapat dihubungkan ke dalam graf. Lalu apa itu graf?"
   ]
  },
  {
   "attachments": {},
   "cell_type": "markdown",
   "metadata": {},
   "source": [
    "# Teori Graf"
   ]
  },
  {
   "attachments": {},
   "cell_type": "markdown",
   "metadata": {},
   "source": [
    "### Nodes & Edges\n",
    "\n",
    "Graf (graph) adalah kumpulan dari *nodes* (simpul/sudut) dan *edges* (sisi) yang menggambarkan hubungan:\n",
    "- *Nodes* adalah simpul/sudut yang merepresentasikan object.\n",
    "- *Edges* menggambarkan koneksi antar objek/*nodes*\n",
    "\n",
    "Sesuatu yang memiliki hubungan antar objek dapat direpresentasikan dengan graph, seperti jarak antar kota, jaringan telfon, hingga hubungan antar akun di sosial media.\n",
    "\n",
    "Contoh visualisasi graph seperti berikut\n",
    "\n",
    "![](assets/graph_1.png)"
   ]
  },
  {
   "attachments": {},
   "cell_type": "markdown",
   "metadata": {},
   "source": [
    "**💡 NOTES**\n",
    "\n",
    "Informasi dari Graf di atas:\n",
    "\n",
    "- Nodes: [A, B, C, D, E]\n",
    "- Edges: [AC, AB, BD, BE, DE, EC]"
   ]
  },
  {
   "attachments": {},
   "cell_type": "markdown",
   "metadata": {},
   "source": [
    "💬 **Diskusi**: Apakah terdapat hubungan antara nodes A dan nodes E? Jika Antar node menyatakan hubungan antar kota, bagaimana rute dari kota A ke kota E?"
   ]
  },
  {
   "attachments": {},
   "cell_type": "markdown",
   "metadata": {},
   "source": [
    "### Graf Unweighted & Graf Weighted"
   ]
  },
  {
   "attachments": {},
   "cell_type": "markdown",
   "metadata": {},
   "source": [
    "Graf terbagi menjadi dua jenis, yaitu *unweighted graph* dan *weighted graph*:\n",
    "\n",
    "![](assets/graph_2.png)\n",
    "\n",
    "- *Unweighted Graph* \n",
    "*Unweighted Graph* adalah jenis graph yang merepresentasikan apakah antar *node* memiliki hubungan atau tidak.\n",
    "\n",
    "- *Weighted Graph* \n",
    "*Weighted Graph* adalah pengembangan dari *unweighted graph* dimana setiap *edges* memiliki *weight* (beban). *Weight* ini sangat berguna untuk merepresentasikan hubungan antar objek yang memiliki nilai numerik, seperti hubungan jarak antar kota, waktu tempuh, atau biaya antar objeknya."
   ]
  },
  {
   "attachments": {},
   "cell_type": "markdown",
   "metadata": {},
   "source": [
    "💬 **Diskusi**: Pada weighted graph di atas, jika kita ingin berpergian dari kota A ke kota E dan weight menggambarkan waktu tempuh ke masing-masing kota. Maka rute apa memiliki waktu tempuh tercepat?"
   ]
  },
  {
   "attachments": {},
   "cell_type": "markdown",
   "metadata": {},
   "source": [
    "# Implementasi Teori Graf di Python"
   ]
  },
  {
   "attachments": {},
   "cell_type": "markdown",
   "metadata": {},
   "source": [
    "## Pre-processing & Feature Engineering"
   ]
  },
  {
   "cell_type": "markdown",
   "metadata": {},
   "source": []
  },
  {
   "attachments": {},
   "cell_type": "markdown",
   "metadata": {},
   "source": [
    "## Pembentukan dan Visualisasi Graf"
   ]
  },
  {
   "cell_type": "markdown",
   "metadata": {},
   "source": []
  },
  {
   "attachments": {},
   "cell_type": "markdown",
   "metadata": {},
   "source": [
    "## Pencarian Rute Optimal (Total Cost)"
   ]
  },
  {
   "cell_type": "markdown",
   "metadata": {},
   "source": []
  },
  {
   "attachments": {},
   "cell_type": "markdown",
   "metadata": {},
   "source": [
    "## Pencarian Rute Optimal (Skala Prioritas)"
   ]
  },
  {
   "cell_type": "markdown",
   "metadata": {},
   "source": []
  },
  {
   "cell_type": "code",
   "execution_count": 56,
   "metadata": {},
   "outputs": [
    {
     "data": {
      "text/html": [
       "<div>\n",
       "<style scoped>\n",
       "    .dataframe tbody tr th:only-of-type {\n",
       "        vertical-align: middle;\n",
       "    }\n",
       "\n",
       "    .dataframe tbody tr th {\n",
       "        vertical-align: top;\n",
       "    }\n",
       "\n",
       "    .dataframe thead th {\n",
       "        text-align: right;\n",
       "    }\n",
       "</style>\n",
       "<table border=\"1\" class=\"dataframe\">\n",
       "  <thead>\n",
       "    <tr style=\"text-align: right;\">\n",
       "      <th></th>\n",
       "      <th>start</th>\n",
       "      <th>end</th>\n",
       "    </tr>\n",
       "  </thead>\n",
       "  <tbody>\n",
       "    <tr>\n",
       "      <th>0</th>\n",
       "      <td>E</td>\n",
       "      <td>C</td>\n",
       "    </tr>\n",
       "    <tr>\n",
       "      <th>1</th>\n",
       "      <td>A</td>\n",
       "      <td>E</td>\n",
       "    </tr>\n",
       "    <tr>\n",
       "      <th>2</th>\n",
       "      <td>F</td>\n",
       "      <td>G</td>\n",
       "    </tr>\n",
       "    <tr>\n",
       "      <th>3</th>\n",
       "      <td>A</td>\n",
       "      <td>F</td>\n",
       "    </tr>\n",
       "    <tr>\n",
       "      <th>4</th>\n",
       "      <td>B</td>\n",
       "      <td>D</td>\n",
       "    </tr>\n",
       "  </tbody>\n",
       "</table>\n",
       "</div>"
      ],
      "text/plain": [
       "  start end\n",
       "0     E   C\n",
       "1     A   E\n",
       "2     F   G\n",
       "3     A   F\n",
       "4     B   D"
      ]
     },
     "execution_count": 56,
     "metadata": {},
     "output_type": "execute_result"
    }
   ],
   "source": [
    "data_try = records[['start', 'end']]\n",
    "\n",
    "data_try.head()"
   ]
  },
  {
   "cell_type": "code",
   "execution_count": 58,
   "metadata": {},
   "outputs": [],
   "source": [
    "import matplotlib.pyplot as plt\n",
    "import networkx as nx\n",
    "from helper import *\n",
    "\n",
    "Graf = nx.Graph()\n",
    "\n",
    "for ind in range(len(data_try)):\n",
    "    row = data_try.iloc[ind].tolist()\n",
    "    Graf.add_edge(row[0], row[1])"
   ]
  },
  {
   "cell_type": "code",
   "execution_count": 59,
   "metadata": {},
   "outputs": [
    {
     "data": {
      "image/png": "[encoded data removed]",
      "text/plain": [
       "<Figure size 640x480 with 1 Axes>"
      ]
     },
     "metadata": {},
     "output_type": "display_data"
    }
   ],
   "source": [
    "visualize_graph(Graf)"
   ]
  },
  {
   "cell_type": "markdown",
   "metadata": {},
   "source": []
  },
  {
   "cell_type": "code",
   "execution_count": 381,
   "metadata": {},
   "outputs": [
    {
     "data": {
      "text/html": [
       "<div>\n",
       "<style scoped>\n",
       "    .dataframe tbody tr th:only-of-type {\n",
       "        vertical-align: middle;\n",
       "    }\n",
       "\n",
       "    .dataframe tbody tr th {\n",
       "        vertical-align: top;\n",
       "    }\n",
       "\n",
       "    .dataframe thead th {\n",
       "        text-align: right;\n",
       "    }\n",
       "</style>\n",
       "<table border=\"1\" class=\"dataframe\">\n",
       "  <thead>\n",
       "    <tr style=\"text-align: right;\">\n",
       "      <th></th>\n",
       "      <th>edge1</th>\n",
       "      <th>edge2</th>\n",
       "      <th>dist</th>\n",
       "      <th>lge/100km</th>\n",
       "      <th>add_cost</th>\n",
       "      <th>start_time</th>\n",
       "      <th>end_time</th>\n",
       "      <th>time</th>\n",
       "    </tr>\n",
       "  </thead>\n",
       "  <tbody>\n",
       "    <tr>\n",
       "      <th>0</th>\n",
       "      <td>E</td>\n",
       "      <td>C</td>\n",
       "      <td>20.0</td>\n",
       "      <td>10.2</td>\n",
       "      <td>0.0</td>\n",
       "      <td>2023-02-08 15:02:00</td>\n",
       "      <td>2023-02-08 15:33:00</td>\n",
       "      <td>31.0</td>\n",
       "    </tr>\n",
       "    <tr>\n",
       "      <th>1</th>\n",
       "      <td>A</td>\n",
       "      <td>E</td>\n",
       "      <td>21.0</td>\n",
       "      <td>9.6</td>\n",
       "      <td>37.0</td>\n",
       "      <td>2023-02-08 14:02:00</td>\n",
       "      <td>2023-02-08 14:32:00</td>\n",
       "      <td>30.0</td>\n",
       "    </tr>\n",
       "    <tr>\n",
       "      <th>2</th>\n",
       "      <td>F</td>\n",
       "      <td>G</td>\n",
       "      <td>12.0</td>\n",
       "      <td>11.8</td>\n",
       "      <td>8.0</td>\n",
       "      <td>2023-02-07 15:30:00</td>\n",
       "      <td>2023-02-07 15:54:00</td>\n",
       "      <td>24.0</td>\n",
       "    </tr>\n",
       "    <tr>\n",
       "      <th>3</th>\n",
       "      <td>A</td>\n",
       "      <td>F</td>\n",
       "      <td>31.0</td>\n",
       "      <td>13.3</td>\n",
       "      <td>34.5</td>\n",
       "      <td>2023-02-07 14:13:00</td>\n",
       "      <td>2023-02-07 15:01:00</td>\n",
       "      <td>48.0</td>\n",
       "    </tr>\n",
       "    <tr>\n",
       "      <th>4</th>\n",
       "      <td>B</td>\n",
       "      <td>D</td>\n",
       "      <td>6.0</td>\n",
       "      <td>14.5</td>\n",
       "      <td>0.0</td>\n",
       "      <td>2023-02-06 15:30:00</td>\n",
       "      <td>2023-02-06 15:43:00</td>\n",
       "      <td>13.0</td>\n",
       "    </tr>\n",
       "  </tbody>\n",
       "</table>\n",
       "</div>"
      ],
      "text/plain": [
       "  edge1 edge2  dist  lge/100km  add_cost          start_time  \\\n",
       "0     E     C  20.0       10.2       0.0 2023-02-08 15:02:00   \n",
       "1     A     E  21.0        9.6      37.0 2023-02-08 14:02:00   \n",
       "2     F     G  12.0       11.8       8.0 2023-02-07 15:30:00   \n",
       "3     A     F  31.0       13.3      34.5 2023-02-07 14:13:00   \n",
       "4     B     D   6.0       14.5       0.0 2023-02-06 15:30:00   \n",
       "\n",
       "             end_time  time  \n",
       "0 2023-02-08 15:33:00  31.0  \n",
       "1 2023-02-08 14:32:00  30.0  \n",
       "2 2023-02-07 15:54:00  24.0  \n",
       "3 2023-02-07 15:01:00  48.0  \n",
       "4 2023-02-06 15:43:00  13.0  "
      ]
     },
     "execution_count": 381,
     "metadata": {},
     "output_type": "execute_result"
    }
   ],
   "source": [
    "records['time'] = (records['end_time'] - records['start_time']).dt.total_seconds() / 60\n",
    "\n",
    "records.head()"
   ]
  },
  {
   "attachments": {},
   "cell_type": "markdown",
   "metadata": {},
   "source": [
    "Kita ingin menghitung cost dari penggunaan bensin untuk setiap rutenya.\n",
    "Bensin yang digunakan adalah dexlite dari pertamina dengan harga 14.950\n",
    "\n",
    "Cost:\n",
    "1. Bensin Rp.14,950 setiap liternya\n",
    "2. Biaya mesin pendingin Rp.9000/jam\n",
    "3. Waktu untuk drop pada setiap lokasi adalah 30 menit"
   ]
  },
  {
   "cell_type": "code",
   "execution_count": 382,
   "metadata": {},
   "outputs": [
    {
     "data": {
      "text/html": [
       "<div>\n",
       "<style scoped>\n",
       "    .dataframe tbody tr th:only-of-type {\n",
       "        vertical-align: middle;\n",
       "    }\n",
       "\n",
       "    .dataframe tbody tr th {\n",
       "        vertical-align: top;\n",
       "    }\n",
       "\n",
       "    .dataframe thead th {\n",
       "        text-align: right;\n",
       "    }\n",
       "</style>\n",
       "<table border=\"1\" class=\"dataframe\">\n",
       "  <thead>\n",
       "    <tr style=\"text-align: right;\">\n",
       "      <th></th>\n",
       "      <th>edge1</th>\n",
       "      <th>edge2</th>\n",
       "      <th>dist</th>\n",
       "      <th>lge/100km</th>\n",
       "      <th>add_cost</th>\n",
       "      <th>start_time</th>\n",
       "      <th>end_time</th>\n",
       "      <th>time</th>\n",
       "      <th>literneed</th>\n",
       "      <th>cost_fuel</th>\n",
       "      <th>cost_ref</th>\n",
       "      <th>total</th>\n",
       "    </tr>\n",
       "  </thead>\n",
       "  <tbody>\n",
       "    <tr>\n",
       "      <th>0</th>\n",
       "      <td>E</td>\n",
       "      <td>C</td>\n",
       "      <td>20.0</td>\n",
       "      <td>10.2</td>\n",
       "      <td>0.0</td>\n",
       "      <td>2023-02-08 15:02:00</td>\n",
       "      <td>2023-02-08 15:33:00</td>\n",
       "      <td>31.0</td>\n",
       "      <td>2.040</td>\n",
       "      <td>30.0</td>\n",
       "      <td>4.65</td>\n",
       "      <td>35.0</td>\n",
       "    </tr>\n",
       "    <tr>\n",
       "      <th>1</th>\n",
       "      <td>A</td>\n",
       "      <td>E</td>\n",
       "      <td>21.0</td>\n",
       "      <td>9.6</td>\n",
       "      <td>37.0</td>\n",
       "      <td>2023-02-08 14:02:00</td>\n",
       "      <td>2023-02-08 14:32:00</td>\n",
       "      <td>30.0</td>\n",
       "      <td>2.016</td>\n",
       "      <td>30.0</td>\n",
       "      <td>4.50</td>\n",
       "      <td>72.0</td>\n",
       "    </tr>\n",
       "    <tr>\n",
       "      <th>2</th>\n",
       "      <td>F</td>\n",
       "      <td>G</td>\n",
       "      <td>12.0</td>\n",
       "      <td>11.8</td>\n",
       "      <td>8.0</td>\n",
       "      <td>2023-02-07 15:30:00</td>\n",
       "      <td>2023-02-07 15:54:00</td>\n",
       "      <td>24.0</td>\n",
       "      <td>1.416</td>\n",
       "      <td>21.0</td>\n",
       "      <td>3.60</td>\n",
       "      <td>33.0</td>\n",
       "    </tr>\n",
       "    <tr>\n",
       "      <th>3</th>\n",
       "      <td>A</td>\n",
       "      <td>F</td>\n",
       "      <td>31.0</td>\n",
       "      <td>13.3</td>\n",
       "      <td>34.5</td>\n",
       "      <td>2023-02-07 14:13:00</td>\n",
       "      <td>2023-02-07 15:01:00</td>\n",
       "      <td>48.0</td>\n",
       "      <td>4.123</td>\n",
       "      <td>62.0</td>\n",
       "      <td>7.20</td>\n",
       "      <td>104.0</td>\n",
       "    </tr>\n",
       "    <tr>\n",
       "      <th>4</th>\n",
       "      <td>B</td>\n",
       "      <td>D</td>\n",
       "      <td>6.0</td>\n",
       "      <td>14.5</td>\n",
       "      <td>0.0</td>\n",
       "      <td>2023-02-06 15:30:00</td>\n",
       "      <td>2023-02-06 15:43:00</td>\n",
       "      <td>13.0</td>\n",
       "      <td>0.870</td>\n",
       "      <td>13.0</td>\n",
       "      <td>1.95</td>\n",
       "      <td>15.0</td>\n",
       "    </tr>\n",
       "  </tbody>\n",
       "</table>\n",
       "</div>"
      ],
      "text/plain": [
       "  edge1 edge2  dist  lge/100km  add_cost          start_time  \\\n",
       "0     E     C  20.0       10.2       0.0 2023-02-08 15:02:00   \n",
       "1     A     E  21.0        9.6      37.0 2023-02-08 14:02:00   \n",
       "2     F     G  12.0       11.8       8.0 2023-02-07 15:30:00   \n",
       "3     A     F  31.0       13.3      34.5 2023-02-07 14:13:00   \n",
       "4     B     D   6.0       14.5       0.0 2023-02-06 15:30:00   \n",
       "\n",
       "             end_time  time  literneed  cost_fuel  cost_ref  total  \n",
       "0 2023-02-08 15:33:00  31.0      2.040       30.0      4.65   35.0  \n",
       "1 2023-02-08 14:32:00  30.0      2.016       30.0      4.50   72.0  \n",
       "2 2023-02-07 15:54:00  24.0      1.416       21.0      3.60   33.0  \n",
       "3 2023-02-07 15:01:00  48.0      4.123       62.0      7.20  104.0  \n",
       "4 2023-02-06 15:43:00  13.0      0.870       13.0      1.95   15.0  "
      ]
     },
     "execution_count": 382,
     "metadata": {},
     "output_type": "execute_result"
    }
   ],
   "source": [
    "fuel = 14.95\n",
    "refrigerator = 9\n",
    "\n",
    "records['literneed'] = records['lge/100km'] * (records['dist'] / 100)\n",
    "records['cost_fuel'] = round(records['literneed'] * fuel)\n",
    "records['cost_ref'] = (records['time'] / 60) * refrigerator\n",
    "# Waktu untuk drop setiap lokasi\n",
    "# records['cost_ref'] += (refrigerator * (30/60))\n",
    "\n",
    "records['total'] = round(records['cost_fuel'] + records['cost_ref'] + records['add_cost'])\n",
    "\n",
    "records.head()"
   ]
  },
  {
   "attachments": {},
   "cell_type": "markdown",
   "metadata": {},
   "source": [
    "Mari kita lihat apakah terdapat jalur duplikat, kita akan mengambil jalur dengan total cost terendah."
   ]
  },
  {
   "cell_type": "code",
   "execution_count": 383,
   "metadata": {},
   "outputs": [
    {
     "data": {
      "text/html": [
       "<div>\n",
       "<style scoped>\n",
       "    .dataframe tbody tr th:only-of-type {\n",
       "        vertical-align: middle;\n",
       "    }\n",
       "\n",
       "    .dataframe tbody tr th {\n",
       "        vertical-align: top;\n",
       "    }\n",
       "\n",
       "    .dataframe thead th {\n",
       "        text-align: right;\n",
       "    }\n",
       "</style>\n",
       "<table border=\"1\" class=\"dataframe\">\n",
       "  <thead>\n",
       "    <tr style=\"text-align: right;\">\n",
       "      <th></th>\n",
       "      <th>edge1</th>\n",
       "      <th>edge2</th>\n",
       "      <th>dist</th>\n",
       "      <th>lge/100km</th>\n",
       "      <th>add_cost</th>\n",
       "      <th>start_time</th>\n",
       "      <th>end_time</th>\n",
       "      <th>time</th>\n",
       "      <th>literneed</th>\n",
       "      <th>cost_fuel</th>\n",
       "      <th>cost_ref</th>\n",
       "      <th>total</th>\n",
       "    </tr>\n",
       "  </thead>\n",
       "  <tbody>\n",
       "    <tr>\n",
       "      <th>1</th>\n",
       "      <td>A</td>\n",
       "      <td>E</td>\n",
       "      <td>21.0</td>\n",
       "      <td>9.6</td>\n",
       "      <td>37.0</td>\n",
       "      <td>2023-02-08 14:02:00</td>\n",
       "      <td>2023-02-08 14:32:00</td>\n",
       "      <td>30.0</td>\n",
       "      <td>2.016</td>\n",
       "      <td>30.0</td>\n",
       "      <td>4.50</td>\n",
       "      <td>72.0</td>\n",
       "    </tr>\n",
       "    <tr>\n",
       "      <th>3</th>\n",
       "      <td>A</td>\n",
       "      <td>F</td>\n",
       "      <td>31.0</td>\n",
       "      <td>13.3</td>\n",
       "      <td>34.5</td>\n",
       "      <td>2023-02-07 14:13:00</td>\n",
       "      <td>2023-02-07 15:01:00</td>\n",
       "      <td>48.0</td>\n",
       "      <td>4.123</td>\n",
       "      <td>62.0</td>\n",
       "      <td>7.20</td>\n",
       "      <td>104.0</td>\n",
       "    </tr>\n",
       "    <tr>\n",
       "      <th>5</th>\n",
       "      <td>A</td>\n",
       "      <td>B</td>\n",
       "      <td>21.0</td>\n",
       "      <td>11.8</td>\n",
       "      <td>37.0</td>\n",
       "      <td>2023-02-06 14:19:00</td>\n",
       "      <td>2023-02-06 14:57:00</td>\n",
       "      <td>38.0</td>\n",
       "      <td>2.478</td>\n",
       "      <td>37.0</td>\n",
       "      <td>5.70</td>\n",
       "      <td>80.0</td>\n",
       "    </tr>\n",
       "    <tr>\n",
       "      <th>11</th>\n",
       "      <td>A</td>\n",
       "      <td>B</td>\n",
       "      <td>21.0</td>\n",
       "      <td>12.1</td>\n",
       "      <td>37.0</td>\n",
       "      <td>2023-01-24 14:09:00</td>\n",
       "      <td>2023-01-24 14:49:00</td>\n",
       "      <td>40.0</td>\n",
       "      <td>2.541</td>\n",
       "      <td>38.0</td>\n",
       "      <td>6.00</td>\n",
       "      <td>81.0</td>\n",
       "    </tr>\n",
       "    <tr>\n",
       "      <th>15</th>\n",
       "      <td>A</td>\n",
       "      <td>E</td>\n",
       "      <td>21.0</td>\n",
       "      <td>9.8</td>\n",
       "      <td>37.0</td>\n",
       "      <td>2023-01-16 14:01:00</td>\n",
       "      <td>2023-01-16 14:32:00</td>\n",
       "      <td>31.0</td>\n",
       "      <td>2.058</td>\n",
       "      <td>31.0</td>\n",
       "      <td>4.65</td>\n",
       "      <td>73.0</td>\n",
       "    </tr>\n",
       "    <tr>\n",
       "      <th>17</th>\n",
       "      <td>A</td>\n",
       "      <td>F</td>\n",
       "      <td>31.0</td>\n",
       "      <td>13.2</td>\n",
       "      <td>34.5</td>\n",
       "      <td>2023-01-09 14:07:00</td>\n",
       "      <td>2023-01-09 14:55:00</td>\n",
       "      <td>48.0</td>\n",
       "      <td>4.092</td>\n",
       "      <td>61.0</td>\n",
       "      <td>7.20</td>\n",
       "      <td>103.0</td>\n",
       "    </tr>\n",
       "  </tbody>\n",
       "</table>\n",
       "</div>"
      ],
      "text/plain": [
       "   edge1 edge2  dist  lge/100km  add_cost          start_time  \\\n",
       "1      A     E  21.0        9.6      37.0 2023-02-08 14:02:00   \n",
       "3      A     F  31.0       13.3      34.5 2023-02-07 14:13:00   \n",
       "5      A     B  21.0       11.8      37.0 2023-02-06 14:19:00   \n",
       "11     A     B  21.0       12.1      37.0 2023-01-24 14:09:00   \n",
       "15     A     E  21.0        9.8      37.0 2023-01-16 14:01:00   \n",
       "17     A     F  31.0       13.2      34.5 2023-01-09 14:07:00   \n",
       "\n",
       "              end_time  time  literneed  cost_fuel  cost_ref  total  \n",
       "1  2023-02-08 14:32:00  30.0      2.016       30.0      4.50   72.0  \n",
       "3  2023-02-07 15:01:00  48.0      4.123       62.0      7.20  104.0  \n",
       "5  2023-02-06 14:57:00  38.0      2.478       37.0      5.70   80.0  \n",
       "11 2023-01-24 14:49:00  40.0      2.541       38.0      6.00   81.0  \n",
       "15 2023-01-16 14:32:00  31.0      2.058       31.0      4.65   73.0  \n",
       "17 2023-01-09 14:55:00  48.0      4.092       61.0      7.20  103.0  "
      ]
     },
     "execution_count": 383,
     "metadata": {},
     "output_type": "execute_result"
    }
   ],
   "source": [
    "records[records.duplicated(subset = ['edge1', 'edge2'], keep = False)]"
   ]
  },
  {
   "attachments": {},
   "cell_type": "markdown",
   "metadata": {},
   "source": [
    "Jika kita perhatikan, maka jalur yang melalui jalan tol memiliki cost lebih rendah daripada yang tidak melalui jalan tol"
   ]
  },
  {
   "cell_type": "code",
   "execution_count": 417,
   "metadata": {},
   "outputs": [
    {
     "data": {
      "text/html": [
       "<div>\n",
       "<style scoped>\n",
       "    .dataframe tbody tr th:only-of-type {\n",
       "        vertical-align: middle;\n",
       "    }\n",
       "\n",
       "    .dataframe tbody tr th {\n",
       "        vertical-align: top;\n",
       "    }\n",
       "\n",
       "    .dataframe thead th {\n",
       "        text-align: right;\n",
       "    }\n",
       "</style>\n",
       "<table border=\"1\" class=\"dataframe\">\n",
       "  <thead>\n",
       "    <tr style=\"text-align: right;\">\n",
       "      <th></th>\n",
       "      <th>edge1</th>\n",
       "      <th>edge2</th>\n",
       "      <th>dist</th>\n",
       "      <th>lge/100km</th>\n",
       "      <th>add_cost</th>\n",
       "      <th>start_time</th>\n",
       "      <th>end_time</th>\n",
       "      <th>time</th>\n",
       "      <th>literneed</th>\n",
       "      <th>cost_fuel</th>\n",
       "      <th>cost_ref</th>\n",
       "      <th>total</th>\n",
       "    </tr>\n",
       "  </thead>\n",
       "  <tbody>\n",
       "  </tbody>\n",
       "</table>\n",
       "</div>"
      ],
      "text/plain": [
       "Empty DataFrame\n",
       "Columns: [edge1, edge2, dist, lge/100km, add_cost, start_time, end_time, time, literneed, cost_fuel, cost_ref, total]\n",
       "Index: []"
      ]
     },
     "execution_count": 417,
     "metadata": {},
     "output_type": "execute_result"
    }
   ],
   "source": [
    "# records_new = records.drop([7,15])\n",
    "records_new = records[~records.duplicated(subset = ['edge1', 'edge2'], keep = 'first')].copy()\n",
    "\n",
    "records_new[records_new.duplicated(subset = ['edge1', 'edge2'], keep = False)]"
   ]
  },
  {
   "cell_type": "code",
   "execution_count": 53,
   "metadata": {},
   "outputs": [],
   "source": [
    "import matplotlib.pyplot as plt\n",
    "import networkx as nx"
   ]
  },
  {
   "cell_type": "code",
   "execution_count": 418,
   "metadata": {},
   "outputs": [
    {
     "data": {
      "text/html": [
       "<div>\n",
       "<style scoped>\n",
       "    .dataframe tbody tr th:only-of-type {\n",
       "        vertical-align: middle;\n",
       "    }\n",
       "\n",
       "    .dataframe tbody tr th {\n",
       "        vertical-align: top;\n",
       "    }\n",
       "\n",
       "    .dataframe thead th {\n",
       "        text-align: right;\n",
       "    }\n",
       "</style>\n",
       "<table border=\"1\" class=\"dataframe\">\n",
       "  <thead>\n",
       "    <tr style=\"text-align: right;\">\n",
       "      <th></th>\n",
       "      <th>edge1</th>\n",
       "      <th>edge2</th>\n",
       "      <th>total</th>\n",
       "    </tr>\n",
       "  </thead>\n",
       "  <tbody>\n",
       "    <tr>\n",
       "      <th>0</th>\n",
       "      <td>E</td>\n",
       "      <td>C</td>\n",
       "      <td>35.0</td>\n",
       "    </tr>\n",
       "    <tr>\n",
       "      <th>1</th>\n",
       "      <td>A</td>\n",
       "      <td>E</td>\n",
       "      <td>72.0</td>\n",
       "    </tr>\n",
       "    <tr>\n",
       "      <th>2</th>\n",
       "      <td>F</td>\n",
       "      <td>G</td>\n",
       "      <td>33.0</td>\n",
       "    </tr>\n",
       "    <tr>\n",
       "      <th>3</th>\n",
       "      <td>A</td>\n",
       "      <td>F</td>\n",
       "      <td>104.0</td>\n",
       "    </tr>\n",
       "    <tr>\n",
       "      <th>4</th>\n",
       "      <td>B</td>\n",
       "      <td>D</td>\n",
       "      <td>15.0</td>\n",
       "    </tr>\n",
       "  </tbody>\n",
       "</table>\n",
       "</div>"
      ],
      "text/plain": [
       "  edge1 edge2  total\n",
       "0     E     C   35.0\n",
       "1     A     E   72.0\n",
       "2     F     G   33.0\n",
       "3     A     F  104.0\n",
       "4     B     D   15.0"
      ]
     },
     "execution_count": 418,
     "metadata": {},
     "output_type": "execute_result"
    }
   ],
   "source": [
    "data = records_new[['edge1', 'edge2', 'total']]\n",
    "\n",
    "data.head()"
   ]
  },
  {
   "cell_type": "code",
   "execution_count": 419,
   "metadata": {},
   "outputs": [],
   "source": [
    "Graf = nx.Graph()\n",
    "\n",
    "for ind in range(len(data)):\n",
    "    row = data.iloc[ind].tolist()\n",
    "    Graf.add_edge(row[0], row[1], weight = row[2])"
   ]
  },
  {
   "cell_type": "code",
   "execution_count": 1,
   "metadata": {},
   "outputs": [],
   "source": [
    "# Opsional(?)\n",
    "def visualize_graph(Graf):\n",
    "    pos = nx.shell_layout(Graf)\n",
    "\n",
    "    nx.draw_networkx_nodes(Graf, pos,node_size=600)\n",
    "\n",
    "    nx.draw_networkx_edges(Graf, pos, width=1)\n",
    "\n",
    "    nx.draw_networkx_labels(Graf, pos, font_size=8, font_family='sans-serif')\n",
    "\n",
    "    edge_labels = nx.get_edge_attributes(Graf, 'weight')\n",
    "    nx.draw_networkx_edge_labels(Graf, pos, edge_labels)\n",
    "\n",
    "    ax = plt.gca()\n",
    "    ax.margins(0.01)\n",
    "    plt.tight_layout()\n",
    "    plt.show()"
   ]
  },
  {
   "cell_type": "code",
   "execution_count": 421,
   "metadata": {},
   "outputs": [
    {
     "data": {
      "text/plain": [
       "['A', 'E', 'G']"
      ]
     },
     "execution_count": 421,
     "metadata": {},
     "output_type": "execute_result"
    }
   ],
   "source": [
    "nx.dijkstra_path(Graf, \"A\", \"G\")"
   ]
  },
  {
   "cell_type": "code",
   "execution_count": 399,
   "metadata": {},
   "outputs": [
    {
     "data": {
      "text/plain": [
       "99.0"
      ]
     },
     "execution_count": 399,
     "metadata": {},
     "output_type": "execute_result"
    }
   ],
   "source": [
    "nx.dijkstra_path_length(Graf, \"A\", \"G\")"
   ]
  },
  {
   "cell_type": "code",
   "execution_count": 400,
   "metadata": {},
   "outputs": [
    {
     "data": {
      "text/html": [
       "<div>\n",
       "<style scoped>\n",
       "    .dataframe tbody tr th:only-of-type {\n",
       "        vertical-align: middle;\n",
       "    }\n",
       "\n",
       "    .dataframe tbody tr th {\n",
       "        vertical-align: top;\n",
       "    }\n",
       "\n",
       "    .dataframe thead th {\n",
       "        text-align: right;\n",
       "    }\n",
       "</style>\n",
       "<table border=\"1\" class=\"dataframe\">\n",
       "  <thead>\n",
       "    <tr style=\"text-align: right;\">\n",
       "      <th></th>\n",
       "      <th>edge1</th>\n",
       "      <th>edge2</th>\n",
       "      <th>total</th>\n",
       "    </tr>\n",
       "  </thead>\n",
       "  <tbody>\n",
       "    <tr>\n",
       "      <th>9</th>\n",
       "      <td>A</td>\n",
       "      <td>G</td>\n",
       "      <td>101.0</td>\n",
       "    </tr>\n",
       "  </tbody>\n",
       "</table>\n",
       "</div>"
      ],
      "text/plain": [
       "  edge1 edge2  total\n",
       "9     A     G  101.0"
      ]
     },
     "execution_count": 400,
     "metadata": {},
     "output_type": "execute_result"
    }
   ],
   "source": [
    "data[(data['edge1'] == 'A') & (data['edge2'] == 'G')]"
   ]
  },
  {
   "cell_type": "code",
   "execution_count": 401,
   "metadata": {},
   "outputs": [
    {
     "data": {
      "text/html": [
       "<div>\n",
       "<style scoped>\n",
       "    .dataframe tbody tr th:only-of-type {\n",
       "        vertical-align: middle;\n",
       "    }\n",
       "\n",
       "    .dataframe tbody tr th {\n",
       "        vertical-align: top;\n",
       "    }\n",
       "\n",
       "    .dataframe thead th {\n",
       "        text-align: right;\n",
       "    }\n",
       "</style>\n",
       "<table border=\"1\" class=\"dataframe\">\n",
       "  <thead>\n",
       "    <tr style=\"text-align: right;\">\n",
       "      <th></th>\n",
       "      <th>edge1</th>\n",
       "      <th>edge2</th>\n",
       "      <th>total</th>\n",
       "    </tr>\n",
       "  </thead>\n",
       "  <tbody>\n",
       "    <tr>\n",
       "      <th>1</th>\n",
       "      <td>A</td>\n",
       "      <td>E</td>\n",
       "      <td>72.0</td>\n",
       "    </tr>\n",
       "  </tbody>\n",
       "</table>\n",
       "</div>"
      ],
      "text/plain": [
       "  edge1 edge2  total\n",
       "1     A     E   72.0"
      ]
     },
     "execution_count": 401,
     "metadata": {},
     "output_type": "execute_result"
    }
   ],
   "source": [
    "data[(data['edge1'] == 'A') & (data['edge2'] == 'E')]"
   ]
  },
  {
   "cell_type": "code",
   "execution_count": 404,
   "metadata": {},
   "outputs": [],
   "source": [
    "def get_total(G, source, target, cutoff=2):\n",
    "    route, total = [], []\n",
    "    path = nx.all_simple_paths(G, source=source, target=target, cutoff=cutoff)\n",
    "\n",
    "    for p in path:\n",
    "        le = nx.path_weight(G, p, weight=\"weight\")\n",
    "        route.append(p)\n",
    "        total.append(le)\n",
    "\n",
    "    df = pd.DataFrame({'route': route, 'total': total})\n",
    "\n",
    "    return df.sort_values(by = 'total')"
   ]
  },
  {
   "cell_type": "code",
   "execution_count": 405,
   "metadata": {},
   "outputs": [
    {
     "data": {
      "text/html": [
       "<div>\n",
       "<style scoped>\n",
       "    .dataframe tbody tr th:only-of-type {\n",
       "        vertical-align: middle;\n",
       "    }\n",
       "\n",
       "    .dataframe tbody tr th {\n",
       "        vertical-align: top;\n",
       "    }\n",
       "\n",
       "    .dataframe thead th {\n",
       "        text-align: right;\n",
       "    }\n",
       "</style>\n",
       "<table border=\"1\" class=\"dataframe\">\n",
       "  <thead>\n",
       "    <tr style=\"text-align: right;\">\n",
       "      <th></th>\n",
       "      <th>route</th>\n",
       "      <th>total</th>\n",
       "    </tr>\n",
       "  </thead>\n",
       "  <tbody>\n",
       "    <tr>\n",
       "      <th>2</th>\n",
       "      <td>[A, B]</td>\n",
       "      <td>80.0</td>\n",
       "    </tr>\n",
       "    <tr>\n",
       "      <th>5</th>\n",
       "      <td>[A, D, B]</td>\n",
       "      <td>97.0</td>\n",
       "    </tr>\n",
       "    <tr>\n",
       "      <th>0</th>\n",
       "      <td>[A, E, B]</td>\n",
       "      <td>109.0</td>\n",
       "    </tr>\n",
       "    <tr>\n",
       "      <th>4</th>\n",
       "      <td>[A, G, B]</td>\n",
       "      <td>122.0</td>\n",
       "    </tr>\n",
       "    <tr>\n",
       "      <th>3</th>\n",
       "      <td>[A, C, B]</td>\n",
       "      <td>129.0</td>\n",
       "    </tr>\n",
       "    <tr>\n",
       "      <th>1</th>\n",
       "      <td>[A, F, B]</td>\n",
       "      <td>131.0</td>\n",
       "    </tr>\n",
       "  </tbody>\n",
       "</table>\n",
       "</div>"
      ],
      "text/plain": [
       "       route  total\n",
       "2     [A, B]   80.0\n",
       "5  [A, D, B]   97.0\n",
       "0  [A, E, B]  109.0\n",
       "4  [A, G, B]  122.0\n",
       "3  [A, C, B]  129.0\n",
       "1  [A, F, B]  131.0"
      ]
     },
     "execution_count": 405,
     "metadata": {},
     "output_type": "execute_result"
    }
   ],
   "source": [
    "get_total(Graf, 'A', 'B')"
   ]
  },
  {
   "cell_type": "code",
   "execution_count": 406,
   "metadata": {},
   "outputs": [
    {
     "data": {
      "text/html": [
       "<div>\n",
       "<style scoped>\n",
       "    .dataframe tbody tr th:only-of-type {\n",
       "        vertical-align: middle;\n",
       "    }\n",
       "\n",
       "    .dataframe tbody tr th {\n",
       "        vertical-align: top;\n",
       "    }\n",
       "\n",
       "    .dataframe thead th {\n",
       "        text-align: right;\n",
       "    }\n",
       "</style>\n",
       "<table border=\"1\" class=\"dataframe\">\n",
       "  <thead>\n",
       "    <tr style=\"text-align: right;\">\n",
       "      <th></th>\n",
       "      <th>route</th>\n",
       "      <th>total</th>\n",
       "    </tr>\n",
       "  </thead>\n",
       "  <tbody>\n",
       "    <tr>\n",
       "      <th>2</th>\n",
       "      <td>[A, C]</td>\n",
       "      <td>64.0</td>\n",
       "    </tr>\n",
       "    <tr>\n",
       "      <th>0</th>\n",
       "      <td>[A, E, C]</td>\n",
       "      <td>107.0</td>\n",
       "    </tr>\n",
       "    <tr>\n",
       "      <th>3</th>\n",
       "      <td>[A, D, C]</td>\n",
       "      <td>116.0</td>\n",
       "    </tr>\n",
       "    <tr>\n",
       "      <th>1</th>\n",
       "      <td>[A, B, C]</td>\n",
       "      <td>145.0</td>\n",
       "    </tr>\n",
       "  </tbody>\n",
       "</table>\n",
       "</div>"
      ],
      "text/plain": [
       "       route  total\n",
       "2     [A, C]   64.0\n",
       "0  [A, E, C]  107.0\n",
       "3  [A, D, C]  116.0\n",
       "1  [A, B, C]  145.0"
      ]
     },
     "execution_count": 406,
     "metadata": {},
     "output_type": "execute_result"
    }
   ],
   "source": [
    "get_total(Graf, 'A', 'C')"
   ]
  },
  {
   "cell_type": "code",
   "execution_count": 407,
   "metadata": {},
   "outputs": [
    {
     "data": {
      "text/html": [
       "<div>\n",
       "<style scoped>\n",
       "    .dataframe tbody tr th:only-of-type {\n",
       "        vertical-align: middle;\n",
       "    }\n",
       "\n",
       "    .dataframe tbody tr th {\n",
       "        vertical-align: top;\n",
       "    }\n",
       "\n",
       "    .dataframe thead th {\n",
       "        text-align: right;\n",
       "    }\n",
       "</style>\n",
       "<table border=\"1\" class=\"dataframe\">\n",
       "  <thead>\n",
       "    <tr style=\"text-align: right;\">\n",
       "      <th></th>\n",
       "      <th>route</th>\n",
       "      <th>total</th>\n",
       "    </tr>\n",
       "  </thead>\n",
       "  <tbody>\n",
       "    <tr>\n",
       "      <th>2</th>\n",
       "      <td>[A, D]</td>\n",
       "      <td>82.0</td>\n",
       "    </tr>\n",
       "    <tr>\n",
       "      <th>0</th>\n",
       "      <td>[A, B, D]</td>\n",
       "      <td>95.0</td>\n",
       "    </tr>\n",
       "    <tr>\n",
       "      <th>1</th>\n",
       "      <td>[A, C, D]</td>\n",
       "      <td>98.0</td>\n",
       "    </tr>\n",
       "  </tbody>\n",
       "</table>\n",
       "</div>"
      ],
      "text/plain": [
       "       route  total\n",
       "2     [A, D]   82.0\n",
       "0  [A, B, D]   95.0\n",
       "1  [A, C, D]   98.0"
      ]
     },
     "execution_count": 407,
     "metadata": {},
     "output_type": "execute_result"
    }
   ],
   "source": [
    "get_total(Graf, 'A', 'D')"
   ]
  },
  {
   "cell_type": "code",
   "execution_count": 408,
   "metadata": {},
   "outputs": [
    {
     "data": {
      "text/html": [
       "<div>\n",
       "<style scoped>\n",
       "    .dataframe tbody tr th:only-of-type {\n",
       "        vertical-align: middle;\n",
       "    }\n",
       "\n",
       "    .dataframe tbody tr th {\n",
       "        vertical-align: top;\n",
       "    }\n",
       "\n",
       "    .dataframe thead th {\n",
       "        text-align: right;\n",
       "    }\n",
       "</style>\n",
       "<table border=\"1\" class=\"dataframe\">\n",
       "  <thead>\n",
       "    <tr style=\"text-align: right;\">\n",
       "      <th></th>\n",
       "      <th>route</th>\n",
       "      <th>total</th>\n",
       "    </tr>\n",
       "  </thead>\n",
       "  <tbody>\n",
       "    <tr>\n",
       "      <th>0</th>\n",
       "      <td>[A, E]</td>\n",
       "      <td>72.0</td>\n",
       "    </tr>\n",
       "    <tr>\n",
       "      <th>2</th>\n",
       "      <td>[A, C, E]</td>\n",
       "      <td>99.0</td>\n",
       "    </tr>\n",
       "    <tr>\n",
       "      <th>1</th>\n",
       "      <td>[A, B, E]</td>\n",
       "      <td>117.0</td>\n",
       "    </tr>\n",
       "    <tr>\n",
       "      <th>3</th>\n",
       "      <td>[A, G, E]</td>\n",
       "      <td>128.0</td>\n",
       "    </tr>\n",
       "  </tbody>\n",
       "</table>\n",
       "</div>"
      ],
      "text/plain": [
       "       route  total\n",
       "0     [A, E]   72.0\n",
       "2  [A, C, E]   99.0\n",
       "1  [A, B, E]  117.0\n",
       "3  [A, G, E]  128.0"
      ]
     },
     "execution_count": 408,
     "metadata": {},
     "output_type": "execute_result"
    }
   ],
   "source": [
    "get_total(Graf, 'A', 'E')"
   ]
  },
  {
   "cell_type": "code",
   "execution_count": 409,
   "metadata": {},
   "outputs": [
    {
     "data": {
      "text/html": [
       "<div>\n",
       "<style scoped>\n",
       "    .dataframe tbody tr th:only-of-type {\n",
       "        vertical-align: middle;\n",
       "    }\n",
       "\n",
       "    .dataframe tbody tr th {\n",
       "        vertical-align: top;\n",
       "    }\n",
       "\n",
       "    .dataframe thead th {\n",
       "        text-align: right;\n",
       "    }\n",
       "</style>\n",
       "<table border=\"1\" class=\"dataframe\">\n",
       "  <thead>\n",
       "    <tr style=\"text-align: right;\">\n",
       "      <th></th>\n",
       "      <th>route</th>\n",
       "      <th>total</th>\n",
       "    </tr>\n",
       "  </thead>\n",
       "  <tbody>\n",
       "    <tr>\n",
       "      <th>0</th>\n",
       "      <td>[A, F]</td>\n",
       "      <td>104.0</td>\n",
       "    </tr>\n",
       "    <tr>\n",
       "      <th>1</th>\n",
       "      <td>[A, B, F]</td>\n",
       "      <td>107.0</td>\n",
       "    </tr>\n",
       "    <tr>\n",
       "      <th>2</th>\n",
       "      <td>[A, G, F]</td>\n",
       "      <td>134.0</td>\n",
       "    </tr>\n",
       "  </tbody>\n",
       "</table>\n",
       "</div>"
      ],
      "text/plain": [
       "       route  total\n",
       "0     [A, F]  104.0\n",
       "1  [A, B, F]  107.0\n",
       "2  [A, G, F]  134.0"
      ]
     },
     "execution_count": 409,
     "metadata": {},
     "output_type": "execute_result"
    }
   ],
   "source": [
    "get_total(Graf, 'A', 'F')"
   ]
  },
  {
   "cell_type": "code",
   "execution_count": 410,
   "metadata": {},
   "outputs": [
    {
     "data": {
      "text/html": [
       "<div>\n",
       "<style scoped>\n",
       "    .dataframe tbody tr th:only-of-type {\n",
       "        vertical-align: middle;\n",
       "    }\n",
       "\n",
       "    .dataframe tbody tr th {\n",
       "        vertical-align: top;\n",
       "    }\n",
       "\n",
       "    .dataframe thead th {\n",
       "        text-align: right;\n",
       "    }\n",
       "</style>\n",
       "<table border=\"1\" class=\"dataframe\">\n",
       "  <thead>\n",
       "    <tr style=\"text-align: right;\">\n",
       "      <th></th>\n",
       "      <th>route</th>\n",
       "      <th>total</th>\n",
       "    </tr>\n",
       "  </thead>\n",
       "  <tbody>\n",
       "    <tr>\n",
       "      <th>0</th>\n",
       "      <td>[A, E, G]</td>\n",
       "      <td>99.0</td>\n",
       "    </tr>\n",
       "    <tr>\n",
       "      <th>2</th>\n",
       "      <td>[A, B, G]</td>\n",
       "      <td>101.0</td>\n",
       "    </tr>\n",
       "    <tr>\n",
       "      <th>3</th>\n",
       "      <td>[A, G]</td>\n",
       "      <td>101.0</td>\n",
       "    </tr>\n",
       "    <tr>\n",
       "      <th>1</th>\n",
       "      <td>[A, F, G]</td>\n",
       "      <td>137.0</td>\n",
       "    </tr>\n",
       "  </tbody>\n",
       "</table>\n",
       "</div>"
      ],
      "text/plain": [
       "       route  total\n",
       "0  [A, E, G]   99.0\n",
       "2  [A, B, G]  101.0\n",
       "3     [A, G]  101.0\n",
       "1  [A, F, G]  137.0"
      ]
     },
     "execution_count": 410,
     "metadata": {},
     "output_type": "execute_result"
    }
   ],
   "source": [
    "get_total(Graf, 'A', 'G')"
   ]
  },
  {
   "attachments": {},
   "cell_type": "markdown",
   "metadata": {},
   "source": [
    "New Optimal Route"
   ]
  },
  {
   "attachments": {},
   "cell_type": "markdown",
   "metadata": {},
   "source": [
    "- [AEG] = 99\n",
    "- [ACD] = 98\n",
    "- [ABF] = 107\n",
    "\n",
    "Total: 304"
   ]
  },
  {
   "cell_type": "code",
   "execution_count": 451,
   "metadata": {},
   "outputs": [
    {
     "data": {
      "text/html": [
       "<div>\n",
       "<style scoped>\n",
       "    .dataframe tbody tr th:only-of-type {\n",
       "        vertical-align: middle;\n",
       "    }\n",
       "\n",
       "    .dataframe tbody tr th {\n",
       "        vertical-align: top;\n",
       "    }\n",
       "\n",
       "    .dataframe thead th {\n",
       "        text-align: right;\n",
       "    }\n",
       "</style>\n",
       "<table border=\"1\" class=\"dataframe\">\n",
       "  <thead>\n",
       "    <tr style=\"text-align: right;\">\n",
       "      <th></th>\n",
       "      <th>edge1</th>\n",
       "      <th>edge2</th>\n",
       "      <th>dist</th>\n",
       "      <th>lge/100km</th>\n",
       "      <th>add_cost</th>\n",
       "      <th>start_time</th>\n",
       "      <th>end_time</th>\n",
       "      <th>time</th>\n",
       "      <th>literneed</th>\n",
       "      <th>cost_fuel</th>\n",
       "      <th>cost_ref</th>\n",
       "      <th>total</th>\n",
       "      <th>add_cost_norm</th>\n",
       "      <th>cost_fuel_norm</th>\n",
       "      <th>cost_ref_norm</th>\n",
       "      <th>weight</th>\n",
       "    </tr>\n",
       "  </thead>\n",
       "  <tbody>\n",
       "    <tr>\n",
       "      <th>0</th>\n",
       "      <td>E</td>\n",
       "      <td>C</td>\n",
       "      <td>20.0</td>\n",
       "      <td>10.2</td>\n",
       "      <td>0.0</td>\n",
       "      <td>2023-02-08 15:02:00</td>\n",
       "      <td>2023-02-08 15:33:00</td>\n",
       "      <td>31.0</td>\n",
       "      <td>2.040</td>\n",
       "      <td>30.0</td>\n",
       "      <td>4.65</td>\n",
       "      <td>35.0</td>\n",
       "      <td>0.000000</td>\n",
       "      <td>0.192312</td>\n",
       "      <td>0.209829</td>\n",
       "      <td>0.10</td>\n",
       "    </tr>\n",
       "    <tr>\n",
       "      <th>1</th>\n",
       "      <td>A</td>\n",
       "      <td>E</td>\n",
       "      <td>21.0</td>\n",
       "      <td>9.6</td>\n",
       "      <td>37.0</td>\n",
       "      <td>2023-02-08 14:02:00</td>\n",
       "      <td>2023-02-08 14:32:00</td>\n",
       "      <td>30.0</td>\n",
       "      <td>2.016</td>\n",
       "      <td>30.0</td>\n",
       "      <td>4.50</td>\n",
       "      <td>72.0</td>\n",
       "      <td>0.488899</td>\n",
       "      <td>0.192312</td>\n",
       "      <td>0.203060</td>\n",
       "      <td>0.34</td>\n",
       "    </tr>\n",
       "    <tr>\n",
       "      <th>2</th>\n",
       "      <td>F</td>\n",
       "      <td>G</td>\n",
       "      <td>12.0</td>\n",
       "      <td>11.8</td>\n",
       "      <td>8.0</td>\n",
       "      <td>2023-02-07 15:30:00</td>\n",
       "      <td>2023-02-07 15:54:00</td>\n",
       "      <td>24.0</td>\n",
       "      <td>1.416</td>\n",
       "      <td>21.0</td>\n",
       "      <td>3.60</td>\n",
       "      <td>33.0</td>\n",
       "      <td>0.105708</td>\n",
       "      <td>0.134618</td>\n",
       "      <td>0.162448</td>\n",
       "      <td>0.13</td>\n",
       "    </tr>\n",
       "    <tr>\n",
       "      <th>3</th>\n",
       "      <td>A</td>\n",
       "      <td>F</td>\n",
       "      <td>31.0</td>\n",
       "      <td>13.3</td>\n",
       "      <td>34.5</td>\n",
       "      <td>2023-02-07 14:13:00</td>\n",
       "      <td>2023-02-07 15:01:00</td>\n",
       "      <td>48.0</td>\n",
       "      <td>4.123</td>\n",
       "      <td>62.0</td>\n",
       "      <td>7.20</td>\n",
       "      <td>104.0</td>\n",
       "      <td>0.455865</td>\n",
       "      <td>0.397444</td>\n",
       "      <td>0.324896</td>\n",
       "      <td>0.41</td>\n",
       "    </tr>\n",
       "    <tr>\n",
       "      <th>4</th>\n",
       "      <td>B</td>\n",
       "      <td>D</td>\n",
       "      <td>6.0</td>\n",
       "      <td>14.5</td>\n",
       "      <td>0.0</td>\n",
       "      <td>2023-02-06 15:30:00</td>\n",
       "      <td>2023-02-06 15:43:00</td>\n",
       "      <td>13.0</td>\n",
       "      <td>0.870</td>\n",
       "      <td>13.0</td>\n",
       "      <td>1.95</td>\n",
       "      <td>15.0</td>\n",
       "      <td>0.000000</td>\n",
       "      <td>0.083335</td>\n",
       "      <td>0.087993</td>\n",
       "      <td>0.04</td>\n",
       "    </tr>\n",
       "    <tr>\n",
       "      <th>5</th>\n",
       "      <td>A</td>\n",
       "      <td>B</td>\n",
       "      <td>21.0</td>\n",
       "      <td>11.8</td>\n",
       "      <td>37.0</td>\n",
       "      <td>2023-02-06 14:19:00</td>\n",
       "      <td>2023-02-06 14:57:00</td>\n",
       "      <td>38.0</td>\n",
       "      <td>2.478</td>\n",
       "      <td>37.0</td>\n",
       "      <td>5.70</td>\n",
       "      <td>80.0</td>\n",
       "      <td>0.488899</td>\n",
       "      <td>0.237184</td>\n",
       "      <td>0.257209</td>\n",
       "      <td>0.37</td>\n",
       "    </tr>\n",
       "  </tbody>\n",
       "</table>\n",
       "</div>"
      ],
      "text/plain": [
       "  edge1 edge2  dist  lge/100km  add_cost          start_time  \\\n",
       "0     E     C  20.0       10.2       0.0 2023-02-08 15:02:00   \n",
       "1     A     E  21.0        9.6      37.0 2023-02-08 14:02:00   \n",
       "2     F     G  12.0       11.8       8.0 2023-02-07 15:30:00   \n",
       "3     A     F  31.0       13.3      34.5 2023-02-07 14:13:00   \n",
       "4     B     D   6.0       14.5       0.0 2023-02-06 15:30:00   \n",
       "5     A     B  21.0       11.8      37.0 2023-02-06 14:19:00   \n",
       "\n",
       "             end_time  time  literneed  cost_fuel  cost_ref  total  \\\n",
       "0 2023-02-08 15:33:00  31.0      2.040       30.0      4.65   35.0   \n",
       "1 2023-02-08 14:32:00  30.0      2.016       30.0      4.50   72.0   \n",
       "2 2023-02-07 15:54:00  24.0      1.416       21.0      3.60   33.0   \n",
       "3 2023-02-07 15:01:00  48.0      4.123       62.0      7.20  104.0   \n",
       "4 2023-02-06 15:43:00  13.0      0.870       13.0      1.95   15.0   \n",
       "5 2023-02-06 14:57:00  38.0      2.478       37.0      5.70   80.0   \n",
       "\n",
       "   add_cost_norm  cost_fuel_norm  cost_ref_norm  weight  \n",
       "0       0.000000        0.192312       0.209829    0.10  \n",
       "1       0.488899        0.192312       0.203060    0.34  \n",
       "2       0.105708        0.134618       0.162448    0.13  \n",
       "3       0.455865        0.397444       0.324896    0.41  \n",
       "4       0.000000        0.083335       0.087993    0.04  \n",
       "5       0.488899        0.237184       0.257209    0.37  "
      ]
     },
     "execution_count": 451,
     "metadata": {},
     "output_type": "execute_result"
    }
   ],
   "source": [
    "records_new.head(6)"
   ]
  },
  {
   "cell_type": "code",
   "execution_count": 450,
   "metadata": {},
   "outputs": [
    {
     "data": {
      "text/plain": [
       "339.0"
      ]
     },
     "execution_count": 450,
     "metadata": {},
     "output_type": "execute_result"
    }
   ],
   "source": [
    "records_new.head(6)['total'].sum()"
   ]
  },
  {
   "attachments": {},
   "cell_type": "markdown",
   "metadata": {},
   "source": [
    "## Priority Weight"
   ]
  },
  {
   "cell_type": "code",
   "execution_count": 422,
   "metadata": {},
   "outputs": [],
   "source": [
    "from sklearn.preprocessing import normalize\n",
    "import numpy as np"
   ]
  },
  {
   "cell_type": "code",
   "execution_count": 423,
   "metadata": {},
   "outputs": [
    {
     "data": {
      "text/html": [
       "<div>\n",
       "<style scoped>\n",
       "    .dataframe tbody tr th:only-of-type {\n",
       "        vertical-align: middle;\n",
       "    }\n",
       "\n",
       "    .dataframe tbody tr th {\n",
       "        vertical-align: top;\n",
       "    }\n",
       "\n",
       "    .dataframe thead th {\n",
       "        text-align: right;\n",
       "    }\n",
       "</style>\n",
       "<table border=\"1\" class=\"dataframe\">\n",
       "  <thead>\n",
       "    <tr style=\"text-align: right;\">\n",
       "      <th></th>\n",
       "      <th>edge1</th>\n",
       "      <th>edge2</th>\n",
       "      <th>dist</th>\n",
       "      <th>lge/100km</th>\n",
       "      <th>add_cost</th>\n",
       "      <th>start_time</th>\n",
       "      <th>end_time</th>\n",
       "      <th>time</th>\n",
       "      <th>literneed</th>\n",
       "      <th>cost_fuel</th>\n",
       "      <th>cost_ref</th>\n",
       "      <th>total</th>\n",
       "    </tr>\n",
       "  </thead>\n",
       "  <tbody>\n",
       "    <tr>\n",
       "      <th>0</th>\n",
       "      <td>E</td>\n",
       "      <td>C</td>\n",
       "      <td>20.0</td>\n",
       "      <td>10.2</td>\n",
       "      <td>0.0</td>\n",
       "      <td>2023-02-08 15:02:00</td>\n",
       "      <td>2023-02-08 15:33:00</td>\n",
       "      <td>31.0</td>\n",
       "      <td>2.040</td>\n",
       "      <td>30.0</td>\n",
       "      <td>4.65</td>\n",
       "      <td>35.0</td>\n",
       "    </tr>\n",
       "    <tr>\n",
       "      <th>1</th>\n",
       "      <td>A</td>\n",
       "      <td>E</td>\n",
       "      <td>21.0</td>\n",
       "      <td>9.6</td>\n",
       "      <td>37.0</td>\n",
       "      <td>2023-02-08 14:02:00</td>\n",
       "      <td>2023-02-08 14:32:00</td>\n",
       "      <td>30.0</td>\n",
       "      <td>2.016</td>\n",
       "      <td>30.0</td>\n",
       "      <td>4.50</td>\n",
       "      <td>72.0</td>\n",
       "    </tr>\n",
       "    <tr>\n",
       "      <th>2</th>\n",
       "      <td>F</td>\n",
       "      <td>G</td>\n",
       "      <td>12.0</td>\n",
       "      <td>11.8</td>\n",
       "      <td>8.0</td>\n",
       "      <td>2023-02-07 15:30:00</td>\n",
       "      <td>2023-02-07 15:54:00</td>\n",
       "      <td>24.0</td>\n",
       "      <td>1.416</td>\n",
       "      <td>21.0</td>\n",
       "      <td>3.60</td>\n",
       "      <td>33.0</td>\n",
       "    </tr>\n",
       "    <tr>\n",
       "      <th>3</th>\n",
       "      <td>A</td>\n",
       "      <td>F</td>\n",
       "      <td>31.0</td>\n",
       "      <td>13.3</td>\n",
       "      <td>34.5</td>\n",
       "      <td>2023-02-07 14:13:00</td>\n",
       "      <td>2023-02-07 15:01:00</td>\n",
       "      <td>48.0</td>\n",
       "      <td>4.123</td>\n",
       "      <td>62.0</td>\n",
       "      <td>7.20</td>\n",
       "      <td>104.0</td>\n",
       "    </tr>\n",
       "    <tr>\n",
       "      <th>4</th>\n",
       "      <td>B</td>\n",
       "      <td>D</td>\n",
       "      <td>6.0</td>\n",
       "      <td>14.5</td>\n",
       "      <td>0.0</td>\n",
       "      <td>2023-02-06 15:30:00</td>\n",
       "      <td>2023-02-06 15:43:00</td>\n",
       "      <td>13.0</td>\n",
       "      <td>0.870</td>\n",
       "      <td>13.0</td>\n",
       "      <td>1.95</td>\n",
       "      <td>15.0</td>\n",
       "    </tr>\n",
       "  </tbody>\n",
       "</table>\n",
       "</div>"
      ],
      "text/plain": [
       "  edge1 edge2  dist  lge/100km  add_cost          start_time  \\\n",
       "0     E     C  20.0       10.2       0.0 2023-02-08 15:02:00   \n",
       "1     A     E  21.0        9.6      37.0 2023-02-08 14:02:00   \n",
       "2     F     G  12.0       11.8       8.0 2023-02-07 15:30:00   \n",
       "3     A     F  31.0       13.3      34.5 2023-02-07 14:13:00   \n",
       "4     B     D   6.0       14.5       0.0 2023-02-06 15:30:00   \n",
       "\n",
       "             end_time  time  literneed  cost_fuel  cost_ref  total  \n",
       "0 2023-02-08 15:33:00  31.0      2.040       30.0      4.65   35.0  \n",
       "1 2023-02-08 14:32:00  30.0      2.016       30.0      4.50   72.0  \n",
       "2 2023-02-07 15:54:00  24.0      1.416       21.0      3.60   33.0  \n",
       "3 2023-02-07 15:01:00  48.0      4.123       62.0      7.20  104.0  \n",
       "4 2023-02-06 15:43:00  13.0      0.870       13.0      1.95   15.0  "
      ]
     },
     "execution_count": 423,
     "metadata": {},
     "output_type": "execute_result"
    }
   ],
   "source": [
    "records_new.head()"
   ]
  },
  {
   "cell_type": "code",
   "execution_count": 424,
   "metadata": {},
   "outputs": [],
   "source": [
    "records_new[['add_cost_norm', 'cost_fuel_norm', 'cost_ref_norm']] = normalize(records_new[['add_cost', 'cost_fuel', 'cost_ref']], axis = 0)"
   ]
  },
  {
   "cell_type": "code",
   "execution_count": 425,
   "metadata": {},
   "outputs": [
    {
     "data": {
      "text/html": [
       "<div>\n",
       "<style scoped>\n",
       "    .dataframe tbody tr th:only-of-type {\n",
       "        vertical-align: middle;\n",
       "    }\n",
       "\n",
       "    .dataframe tbody tr th {\n",
       "        vertical-align: top;\n",
       "    }\n",
       "\n",
       "    .dataframe thead th {\n",
       "        text-align: right;\n",
       "    }\n",
       "</style>\n",
       "<table border=\"1\" class=\"dataframe\">\n",
       "  <thead>\n",
       "    <tr style=\"text-align: right;\">\n",
       "      <th></th>\n",
       "      <th>edge1</th>\n",
       "      <th>edge2</th>\n",
       "      <th>dist</th>\n",
       "      <th>lge/100km</th>\n",
       "      <th>add_cost</th>\n",
       "      <th>start_time</th>\n",
       "      <th>end_time</th>\n",
       "      <th>time</th>\n",
       "      <th>literneed</th>\n",
       "      <th>cost_fuel</th>\n",
       "      <th>cost_ref</th>\n",
       "      <th>total</th>\n",
       "      <th>add_cost_norm</th>\n",
       "      <th>cost_fuel_norm</th>\n",
       "      <th>cost_ref_norm</th>\n",
       "    </tr>\n",
       "  </thead>\n",
       "  <tbody>\n",
       "    <tr>\n",
       "      <th>0</th>\n",
       "      <td>E</td>\n",
       "      <td>C</td>\n",
       "      <td>20.0</td>\n",
       "      <td>10.2</td>\n",
       "      <td>0.0</td>\n",
       "      <td>2023-02-08 15:02:00</td>\n",
       "      <td>2023-02-08 15:33:00</td>\n",
       "      <td>31.0</td>\n",
       "      <td>2.040</td>\n",
       "      <td>30.0</td>\n",
       "      <td>4.65</td>\n",
       "      <td>35.0</td>\n",
       "      <td>0.000000</td>\n",
       "      <td>0.192312</td>\n",
       "      <td>0.209829</td>\n",
       "    </tr>\n",
       "    <tr>\n",
       "      <th>1</th>\n",
       "      <td>A</td>\n",
       "      <td>E</td>\n",
       "      <td>21.0</td>\n",
       "      <td>9.6</td>\n",
       "      <td>37.0</td>\n",
       "      <td>2023-02-08 14:02:00</td>\n",
       "      <td>2023-02-08 14:32:00</td>\n",
       "      <td>30.0</td>\n",
       "      <td>2.016</td>\n",
       "      <td>30.0</td>\n",
       "      <td>4.50</td>\n",
       "      <td>72.0</td>\n",
       "      <td>0.488899</td>\n",
       "      <td>0.192312</td>\n",
       "      <td>0.203060</td>\n",
       "    </tr>\n",
       "    <tr>\n",
       "      <th>2</th>\n",
       "      <td>F</td>\n",
       "      <td>G</td>\n",
       "      <td>12.0</td>\n",
       "      <td>11.8</td>\n",
       "      <td>8.0</td>\n",
       "      <td>2023-02-07 15:30:00</td>\n",
       "      <td>2023-02-07 15:54:00</td>\n",
       "      <td>24.0</td>\n",
       "      <td>1.416</td>\n",
       "      <td>21.0</td>\n",
       "      <td>3.60</td>\n",
       "      <td>33.0</td>\n",
       "      <td>0.105708</td>\n",
       "      <td>0.134618</td>\n",
       "      <td>0.162448</td>\n",
       "    </tr>\n",
       "    <tr>\n",
       "      <th>3</th>\n",
       "      <td>A</td>\n",
       "      <td>F</td>\n",
       "      <td>31.0</td>\n",
       "      <td>13.3</td>\n",
       "      <td>34.5</td>\n",
       "      <td>2023-02-07 14:13:00</td>\n",
       "      <td>2023-02-07 15:01:00</td>\n",
       "      <td>48.0</td>\n",
       "      <td>4.123</td>\n",
       "      <td>62.0</td>\n",
       "      <td>7.20</td>\n",
       "      <td>104.0</td>\n",
       "      <td>0.455865</td>\n",
       "      <td>0.397444</td>\n",
       "      <td>0.324896</td>\n",
       "    </tr>\n",
       "    <tr>\n",
       "      <th>4</th>\n",
       "      <td>B</td>\n",
       "      <td>D</td>\n",
       "      <td>6.0</td>\n",
       "      <td>14.5</td>\n",
       "      <td>0.0</td>\n",
       "      <td>2023-02-06 15:30:00</td>\n",
       "      <td>2023-02-06 15:43:00</td>\n",
       "      <td>13.0</td>\n",
       "      <td>0.870</td>\n",
       "      <td>13.0</td>\n",
       "      <td>1.95</td>\n",
       "      <td>15.0</td>\n",
       "      <td>0.000000</td>\n",
       "      <td>0.083335</td>\n",
       "      <td>0.087993</td>\n",
       "    </tr>\n",
       "  </tbody>\n",
       "</table>\n",
       "</div>"
      ],
      "text/plain": [
       "  edge1 edge2  dist  lge/100km  add_cost          start_time  \\\n",
       "0     E     C  20.0       10.2       0.0 2023-02-08 15:02:00   \n",
       "1     A     E  21.0        9.6      37.0 2023-02-08 14:02:00   \n",
       "2     F     G  12.0       11.8       8.0 2023-02-07 15:30:00   \n",
       "3     A     F  31.0       13.3      34.5 2023-02-07 14:13:00   \n",
       "4     B     D   6.0       14.5       0.0 2023-02-06 15:30:00   \n",
       "\n",
       "             end_time  time  literneed  cost_fuel  cost_ref  total  \\\n",
       "0 2023-02-08 15:33:00  31.0      2.040       30.0      4.65   35.0   \n",
       "1 2023-02-08 14:32:00  30.0      2.016       30.0      4.50   72.0   \n",
       "2 2023-02-07 15:54:00  24.0      1.416       21.0      3.60   33.0   \n",
       "3 2023-02-07 15:01:00  48.0      4.123       62.0      7.20  104.0   \n",
       "4 2023-02-06 15:43:00  13.0      0.870       13.0      1.95   15.0   \n",
       "\n",
       "   add_cost_norm  cost_fuel_norm  cost_ref_norm  \n",
       "0       0.000000        0.192312       0.209829  \n",
       "1       0.488899        0.192312       0.203060  \n",
       "2       0.105708        0.134618       0.162448  \n",
       "3       0.455865        0.397444       0.324896  \n",
       "4       0.000000        0.083335       0.087993  "
      ]
     },
     "execution_count": 425,
     "metadata": {},
     "output_type": "execute_result"
    }
   ],
   "source": [
    "records_new.head()"
   ]
  },
  {
   "cell_type": "code",
   "execution_count": 426,
   "metadata": {},
   "outputs": [
    {
     "data": {
      "text/html": [
       "<div>\n",
       "<style scoped>\n",
       "    .dataframe tbody tr th:only-of-type {\n",
       "        vertical-align: middle;\n",
       "    }\n",
       "\n",
       "    .dataframe tbody tr th {\n",
       "        vertical-align: top;\n",
       "    }\n",
       "\n",
       "    .dataframe thead th {\n",
       "        text-align: right;\n",
       "    }\n",
       "</style>\n",
       "<table border=\"1\" class=\"dataframe\">\n",
       "  <thead>\n",
       "    <tr style=\"text-align: right;\">\n",
       "      <th></th>\n",
       "      <th>edge1</th>\n",
       "      <th>edge2</th>\n",
       "      <th>weight</th>\n",
       "    </tr>\n",
       "  </thead>\n",
       "  <tbody>\n",
       "    <tr>\n",
       "      <th>0</th>\n",
       "      <td>E</td>\n",
       "      <td>C</td>\n",
       "      <td>0.10</td>\n",
       "    </tr>\n",
       "    <tr>\n",
       "      <th>1</th>\n",
       "      <td>A</td>\n",
       "      <td>E</td>\n",
       "      <td>0.34</td>\n",
       "    </tr>\n",
       "    <tr>\n",
       "      <th>2</th>\n",
       "      <td>F</td>\n",
       "      <td>G</td>\n",
       "      <td>0.13</td>\n",
       "    </tr>\n",
       "    <tr>\n",
       "      <th>3</th>\n",
       "      <td>A</td>\n",
       "      <td>F</td>\n",
       "      <td>0.41</td>\n",
       "    </tr>\n",
       "    <tr>\n",
       "      <th>4</th>\n",
       "      <td>B</td>\n",
       "      <td>D</td>\n",
       "      <td>0.04</td>\n",
       "    </tr>\n",
       "  </tbody>\n",
       "</table>\n",
       "</div>"
      ],
      "text/plain": [
       "  edge1 edge2  weight\n",
       "0     E     C    0.10\n",
       "1     A     E    0.34\n",
       "2     F     G    0.13\n",
       "3     A     F    0.41\n",
       "4     B     D    0.04"
      ]
     },
     "execution_count": 426,
     "metadata": {},
     "output_type": "execute_result"
    }
   ],
   "source": [
    "records_new['weight'] = \\\n",
    "    records_new['add_cost_norm'] * 0.5 + \\\n",
    "    records_new['cost_ref_norm'] * 0.2 + \\\n",
    "    records_new['cost_fuel_norm'] * 0.3\n",
    "\n",
    "records_new['weight'] = records_new['weight'].round(2)\n",
    "\n",
    "data_prio = records_new[['edge1', 'edge2', 'weight']]\n",
    "\n",
    "data_prio.head()"
   ]
  },
  {
   "cell_type": "code",
   "execution_count": 427,
   "metadata": {},
   "outputs": [],
   "source": [
    "Graf_prio = nx.Graph()\n",
    "\n",
    "for ind in range(len(data_prio)):\n",
    "    row = data_prio.iloc[ind].tolist()\n",
    "    Graf_prio.add_edge(row[0], row[1], weight = row[2])"
   ]
  },
  {
   "cell_type": "code",
   "execution_count": 428,
   "metadata": {},
   "outputs": [
    {
     "data": {
      "image/png": "[encoded data removed]",
      "text/plain": [
       "<Figure size 640x480 with 1 Axes>"
      ]
     },
     "metadata": {},
     "output_type": "display_data"
    }
   ],
   "source": [
    "pos = nx.shell_layout(Graf_prio)\n",
    "nx.draw_networkx_nodes(Graf_prio, pos, node_size=600)\n",
    "nx.draw_networkx_edges(Graf_prio, pos, width=1)\n",
    "nx.draw_networkx_labels(Graf_prio, pos, font_size=8, font_family=\"sans-serif\")\n",
    "edge_labels = nx.get_edge_attributes(Graf_prio, \"weight\")\n",
    "nx.draw_networkx_edge_labels(Graf_prio, pos, edge_labels)\n",
    "\n",
    "ax = plt.gca()\n",
    "ax.margins(0.01)\n",
    "plt.tight_layout()\n",
    "plt.show()"
   ]
  },
  {
   "cell_type": "code",
   "execution_count": 443,
   "metadata": {},
   "outputs": [
    {
     "data": {
      "text/html": [
       "<div>\n",
       "<style scoped>\n",
       "    .dataframe tbody tr th:only-of-type {\n",
       "        vertical-align: middle;\n",
       "    }\n",
       "\n",
       "    .dataframe tbody tr th {\n",
       "        vertical-align: top;\n",
       "    }\n",
       "\n",
       "    .dataframe thead th {\n",
       "        text-align: right;\n",
       "    }\n",
       "</style>\n",
       "<table border=\"1\" class=\"dataframe\">\n",
       "  <thead>\n",
       "    <tr style=\"text-align: right;\">\n",
       "      <th></th>\n",
       "      <th>route</th>\n",
       "      <th>total</th>\n",
       "    </tr>\n",
       "  </thead>\n",
       "  <tbody>\n",
       "    <tr>\n",
       "      <th>0</th>\n",
       "      <td>[A, F]</td>\n",
       "      <td>0.41</td>\n",
       "    </tr>\n",
       "    <tr>\n",
       "      <th>2</th>\n",
       "      <td>[A, G, F]</td>\n",
       "      <td>0.41</td>\n",
       "    </tr>\n",
       "    <tr>\n",
       "      <th>1</th>\n",
       "      <td>[A, B, F]</td>\n",
       "      <td>0.45</td>\n",
       "    </tr>\n",
       "  </tbody>\n",
       "</table>\n",
       "</div>"
      ],
      "text/plain": [
       "       route  total\n",
       "0     [A, F]   0.41\n",
       "2  [A, G, F]   0.41\n",
       "1  [A, B, F]   0.45"
      ]
     },
     "execution_count": 443,
     "metadata": {},
     "output_type": "execute_result"
    }
   ],
   "source": [
    "get_total(Graf_prio, 'A', 'F')"
   ]
  },
  {
   "cell_type": "code",
   "execution_count": 453,
   "metadata": {},
   "outputs": [
    {
     "data": {
      "text/plain": [
       "27.599999999999998"
      ]
     },
     "execution_count": 453,
     "metadata": {},
     "output_type": "execute_result"
    }
   ],
   "source": [
    "records_new.head(6)['cost_ref'].sum()"
   ]
  }
 ],
 "metadata": {
  "kernelspec": {
   "display_name": "dss_mice",
   "language": "python",
   "name": "dss_mice"
  },
  "language_info": {
   "codemirror_mode": {
    "name": "ipython",
    "version": 3
   },
   "file_extension": ".py",
   "mimetype": "text/x-python",
   "name": "python",
   "nbconvert_exporter": "python",
   "pygments_lexer": "ipython3",
   "version": "3.10.9"
  },
  "orig_nbformat": 4
 },
 "nbformat": 4,
 "nbformat_minor": 2
}
