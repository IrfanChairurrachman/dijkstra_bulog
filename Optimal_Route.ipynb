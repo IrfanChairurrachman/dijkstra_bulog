{
 "cells": [
  {
   "attachments": {},
   "cell_type": "markdown",
   "metadata": {},
   "source": [
    "# Optimal Route Distribution using Graph Theory"
   ]
  },
  {
   "attachments": {},
   "cell_type": "markdown",
   "metadata": {},
   "source": [
    "## Background\n",
    "\n",
    "Saat ini jaringan distribusi produk menjadi cukup kompleks, dimana penentu kebijakan harus mempertimbangkan banyak parameter untuk menentukan kebijakan yang optimal. Pada kebanyakan kasus, parameter yang dijadikan pertimbangan dalam menentukan kebijakan adalah biaya distribusi, demi tercapainya sistem biaya yang efektif untuk distribusi barang atau produk ke pelanggan. Pemilihan rute jaringan distribusi juga sangat mempengeruhi biaya distribusi, sehingga salah satu cara untuk optimalisasi biaya distribusi dapat dicapai dengan optimalisasi rute distribusi.\n",
    "\n",
    "Teori Graf dapat merepresentasikan hubungan antar objek, termasuk merepresentasikan rute distribusi yang merepresentasikan hubungan antar lokasi, baik secara jarak, waktu ataupun total biaya pengiriman ke antar lokasinya. Dengan begitu, dapat dilihat kombinasi rute dari lokasi satu ke lokasi lainnya untuk menentukan rute dengan pengeluaran biaya paling sedikit (rute optimal).\n",
    "\n",
    "Materi ini bertujuan memberikan pemahaman kepada pembaca terkait penggunaan teori Graf dalam kasus jaringan distribusi untuk mendapatkan rute optimal. Adapun setelah mempelajari materi ini pembaca diharapkan dapat memahami kegunaan dan potensi pemanfaatan teori Graf sesuai dengan proses bisnis yang ada pada bidang industri masing-masing pembaca"
   ]
  },
  {
   "attachments": {},
   "cell_type": "markdown",
   "metadata": {},
   "source": [
    "## Output\n",
    "\n",
    "Notebook ini mencoba untuk menjawab pertanyaan apakah terdapat rekomendasi rute optimal jika diberikan data history rute distribusi perusahaan produsen makanan dingin. Sehingga output dari notebook ini adalah rekomendasi rute-rute dengan biaya paling sedikit dibandingkan rute-rute lainnya menggunakan teori Graf.\n",
    "\n",
    "Untuk melihat apakah rekomendasi rute ini lebih optimal atau tidak, maka total biaya rute baru akan dibandingkan dengan total biaya rute-rute terdahulu dari data history perusahaan."
   ]
  },
  {
   "attachments": {},
   "cell_type": "markdown",
   "metadata": {},
   "source": [
    "## Tujuan Pembelajaran\n",
    "\n",
    "- **Pemrograman Dasar Python**  \n",
    "  - Mempersiapkan Environment Anaconda\n",
    "  - Bekerja dengan Jupyter Notebook\n",
    "  - Tipe Data\n",
    "  - Fungsi\n",
    "  - Looping (perulangan)\n",
    "- **Pandas**\n",
    "  - Bekerja dengan Dataframe\n",
    "  - Tipe Data Pandas\n",
    "  - Datetime di pandas\n",
    "  - Conditional Subsetting\n",
    "- **Teori Graf**\n",
    "  - Nodes & Edges\n",
    "  - Graf Unweighted & Graf Weighted\n",
    "- **Implementasi Teori Graf di Python**\n",
    "  - Pre-processing\n",
    "  - Pembentukan Graf dan Visualisasi Graf\n",
    "  - Pencarian rute optimal berdasarkan total cost\n",
    "  - Pencarian rute optimal berdasarkan skala prioritas"
   ]
  },
  {
   "attachments": {},
   "cell_type": "markdown",
   "metadata": {},
   "source": [
    "# Pemrograman Dasar Python"
   ]
  },
  {
   "attachments": {},
   "cell_type": "markdown",
   "metadata": {},
   "source": [
    "## Mempersiapkan Environment Anaconda\n",
    "\n",
    "**Membuat virtual environment baru:**\n",
    "\n",
    "1. Buka Anaconda Prompt\n",
    "\n",
    "2. Buat virtual environment baru dengan:\n",
    "    ```\n",
    "    conda create -n <ENV_NAME> python=<PYTHON_VERSION>\n",
    "    ```\n",
    "    Contoh: `conda create -n dss_graph python=3.10`\n",
    "\n",
    "3. Aktifkan virtual environment baru dengan:\n",
    "    ```\n",
    "    conda activate <ENV_NAME>\n",
    "    ```\n",
    "    For example: `conda activate dss_graph`\n",
    "\n",
    "4. Ubah directory pada terminal ke lokasi direktori dimana requirement.txt disimpan. Contohnya jika file terdapat di dalam folder `Algoritma/Project` gunakan: `cd C:\\Algoritma\\Project`\n",
    "\n",
    "5. Untuk standarisasi librari, install `requirements.txt` yang dibagikan ke Anda.\n",
    "    ```\n",
    "    pip install -r requirements.txt\n",
    "    ```\n",
    "\n",
    "6. Install kernel untuk membuat koneksi antara virtual environment dengan Jupyter Notebook.\n",
    "    ```\n",
    "    pip install ipykernel\n",
    "    python -m ipykernel install --user --name=<ENV_NAME>\n",
    "    ```\n",
    "    Contoh: `python -m ipykernel install --user --name=dss_graph`"
   ]
  },
  {
   "attachments": {},
   "cell_type": "markdown",
   "metadata": {},
   "source": [
    "## Bekerja dengan Jupyter Notebook"
   ]
  },
  {
   "attachments": {},
   "cell_type": "markdown",
   "metadata": {},
   "source": [
    "### Markdown Cell and Code Cell\n",
    "\n",
    "Tipe cell dalam notebook:\n",
    "1. Markdown \n",
    "2. Code\n",
    "\n",
    "**Contoh Markdown Cell**\n",
    "\n",
    "Ini adalah cell markdown. Kita bisa menulis teks **bold**, *italic*, bahkan formula matematis seperti:\n",
    "\n",
    "\\begin{equation}\n",
    "f(x) = \\frac{e^{-x}}{(1+e^{-x})}\n",
    "\\end{equation}"
   ]
  },
  {
   "attachments": {},
   "cell_type": "markdown",
   "metadata": {},
   "source": [
    "**Contoh Code Cell**"
   ]
  },
  {
   "cell_type": "code",
   "execution_count": 2,
   "metadata": {},
   "outputs": [
    {
     "name": "stdout",
     "output_type": "stream",
     "text": [
      "Hello 2023!\n"
     ]
    }
   ],
   "source": [
    "# ini adalah cell code\n",
    "print('Hello 2023!')"
   ]
  },
  {
   "attachments": {},
   "cell_type": "markdown",
   "metadata": {},
   "source": [
    "### Command Mode and Edit Mode\n",
    "\n",
    "Ada 2 mode cell dalam notebook:\n",
    "1. Command mode (cell berwarna BIRU)\n",
    "    - `a` : Menambah cell baru di atas\n",
    "    - `b` : Menambah cell baru di bawah\n",
    "    - `d` + `d` : Menghapus cell terpilih\n",
    "    - `x` : Cut cell terpilih\n",
    "    - `c` : Menyalin cell terpilih\n",
    "    - `v` : Paste cell terpilih\n",
    "    - `z` : undo \n",
    "    - `m` : Mengubah tipe cell ke markdown\n",
    "    - `y` : Mengubah tipe cell ke kode\n",
    "    - `enter` : enter Edit Mode\n",
    "    - `h` : Melihat shortcut\n",
    "\n",
    "\n",
    "2. Edit mode (cell berwarna HIJAU)\n",
    "    - `Ctrl + Enter`: eksekusi satu cell\n",
    "    - `Esc`: mengubah edit mode menjadi command mode\n",
    "    \n",
    "Kumpulan shortcut: **CTRL + SHIFT + P**"
   ]
  },
  {
   "attachments": {},
   "cell_type": "markdown",
   "metadata": {},
   "source": [
    "## Variabel & *Keywords*\n",
    "\n",
    "Mari kita telaah konsep paling fundamental dalam bahasa pemrograman: variabel.\n",
    "\n",
    "Variabel adalah wadah untuk menyimpan sebuah nilai. Simpelnya, variabel adalah nama yang mengacu pada sebuah nilai. Dimana ketika nilai ini ingin kita gunakan, kita dapat memanggilnya dengan nama variabel yang telah kita buat."
   ]
  },
  {
   "cell_type": "code",
   "execution_count": 3,
   "metadata": {},
   "outputs": [
    {
     "name": "stdout",
     "output_type": "stream",
     "text": [
      "Data Science Series: Optimal Route with Graph Theory\n"
     ]
    }
   ],
   "source": [
    "dss_name = \"Data Science Series: Optimal Route with Graph Theory\"\n",
    "print(dss_name)"
   ]
  },
  {
   "cell_type": "code",
   "execution_count": 4,
   "metadata": {},
   "outputs": [
    {
     "data": {
      "text/plain": [
       "10"
      ]
     },
     "execution_count": 4,
     "metadata": {},
     "output_type": "execute_result"
    }
   ],
   "source": [
    "nilai = 10\n",
    "\n",
    "nilai"
   ]
  },
  {
   "attachments": {},
   "cell_type": "markdown",
   "metadata": {},
   "source": [
    "Sebagai catatan, seperti bahasa pemrograman yang lainnya, Python bersifat **case-sensitive**, sehingga `dss_name` dan `DSS_Name` dimaknai berbeda sehingga akan dianggap variabel yang berbeda pula."
   ]
  },
  {
   "cell_type": "code",
   "execution_count": 5,
   "metadata": {},
   "outputs": [
    {
     "data": {
      "text/plain": [
       "True"
      ]
     },
     "execution_count": 5,
     "metadata": {},
     "output_type": "execute_result"
    }
   ],
   "source": [
    "## code here\n",
    "dss_name == dss_name"
   ]
  },
  {
   "attachments": {},
   "cell_type": "markdown",
   "metadata": {},
   "source": [
    "Kode di atas mengembalikan `True` sebagai output. Cobalah untuk membuat variabel baru dan gunakan `True` sebagai namanya. kemudian lihat apa yang akan terjadi.\n",
    "\n",
    "> SyntaxError: can't assign to keyword"
   ]
  },
  {
   "attachments": {},
   "cell_type": "markdown",
   "metadata": {},
   "source": [
    "Sebagai catatan, `True`, dan juga lawannya, False termasuk ke dalam daftar kata yang dinamakan **Python Keywords**. Kita tidak dapat menggunakan keyword sebagai nama variabel ataupun sebagai fungsi.\n",
    "\n",
    "Menariknya, semua python keyword selain **True**, **False**, dan **None** adalah huruf kecil."
   ]
  },
  {
   "attachments": {},
   "cell_type": "markdown",
   "metadata": {},
   "source": [
    "___\n",
    "\n",
    "**Keywords** adalah kata kunci yang sudah ditetapkan oleh Python sebagai nama yang tidak bisa dipakai baik untuk penamaan fungsi, variabel, dan lainnya. Keyword ditulis dalam lower-case (huruf kecil semua) kecuali keyword `True`, `False`, dan `None`. Sejauh ini (Python 3.10) keyword yang ada pada Python adalah sebagai berikut:"
   ]
  },
  {
   "cell_type": "code",
   "execution_count": 6,
   "metadata": {},
   "outputs": [
    {
     "data": {
      "text/plain": [
       "['False',\n",
       " 'None',\n",
       " 'True',\n",
       " 'and',\n",
       " 'as',\n",
       " 'assert',\n",
       " 'async',\n",
       " 'await',\n",
       " 'break',\n",
       " 'class',\n",
       " 'continue',\n",
       " 'def',\n",
       " 'del',\n",
       " 'elif',\n",
       " 'else',\n",
       " 'except',\n",
       " 'finally',\n",
       " 'for',\n",
       " 'from',\n",
       " 'global',\n",
       " 'if',\n",
       " 'import',\n",
       " 'in',\n",
       " 'is',\n",
       " 'lambda',\n",
       " 'nonlocal',\n",
       " 'not',\n",
       " 'or',\n",
       " 'pass',\n",
       " 'raise',\n",
       " 'return',\n",
       " 'try',\n",
       " 'while',\n",
       " 'with',\n",
       " 'yield']"
      ]
     },
     "execution_count": 6,
     "metadata": {},
     "output_type": "execute_result"
    }
   ],
   "source": [
    "# Cek daftar keyword\n",
    "import keyword\n",
    "keyword.kwlist"
   ]
  },
  {
   "attachments": {},
   "cell_type": "markdown",
   "metadata": {},
   "source": [
    "**💡 NOTES**\n",
    "\n",
    "Syarat dan ketentuan dalam memberikan nama variable pada Python:\n",
    "- Menggunakan kombinasi dari huruf kapital (A-Z), huruf nomina (a-z), angka (0-9).\n",
    "- Special character `!, $ , &, dll` tidak dapat digunakan dalam penamaan variabel.\n",
    "- **Tidak boleh** menggunakan angka di awal.\n",
    "- Bersifat **case-sensitive** sehingga penamaan variable `algoritma`, `ALGORITMA`, dan `Algoritma` adalah 3 variable yang berbeda\n",
    "- **Tidak boleh** menggunakan **keyword** pada Python"
   ]
  },
  {
   "attachments": {},
   "cell_type": "markdown",
   "metadata": {},
   "source": [
    "## Tipe Data"
   ]
  },
  {
   "attachments": {},
   "cell_type": "markdown",
   "metadata": {},
   "source": [
    "- Tipe data adalah pengelompokkan data berdasarkan jenis data. \n",
    "- Pengecekan tipe data bisa menggunakan fungsi `type()`\n",
    "\n",
    "Berikut beberapa jenis tipe data pada python:"
   ]
  },
  {
   "attachments": {},
   "cell_type": "markdown",
   "metadata": {},
   "source": [
    "### 1. String\n",
    "\n",
    "Untuk menyimpan kumpulan karakter disebut tipe data `str`. \n",
    "\n",
    "Ada beberapa cara untuk membuat nilai string:\n",
    "- menggunakan `''` \n",
    "- menggunakan `\"\"` \n",
    "- menggunakan `'''` atau `\"\"\"` "
   ]
  },
  {
   "cell_type": "code",
   "execution_count": 7,
   "metadata": {},
   "outputs": [],
   "source": [
    "# contoh menggunakan petik 1\n",
    "kalimat1 = 'Hari ini kami belajar Python.'"
   ]
  },
  {
   "cell_type": "code",
   "execution_count": 8,
   "metadata": {},
   "outputs": [],
   "source": [
    "# contoh menggunakan petik 2\n",
    "kalimat2 = \"Hari Jum'at.\""
   ]
  },
  {
   "cell_type": "code",
   "execution_count": 9,
   "metadata": {},
   "outputs": [],
   "source": [
    "# contoh menggunakan petik 3\n",
    "kalimat3 = '''\n",
    "            Dia berkata \"Jum'at hari yang baik.\"\n",
    "            Iyakan?\n",
    "            '''"
   ]
  },
  {
   "cell_type": "code",
   "execution_count": 10,
   "metadata": {},
   "outputs": [
    {
     "data": {
      "text/plain": [
       "str"
      ]
     },
     "execution_count": 10,
     "metadata": {},
     "output_type": "execute_result"
    }
   ],
   "source": [
    "## cek tipe data\n",
    "type(kalimat1)"
   ]
  },
  {
   "attachments": {},
   "cell_type": "markdown",
   "metadata": {},
   "source": [
    "### 2. Number\n",
    "\n",
    "Untuk menyimpan number, python memiliki dua tipe data number yaitu `int` dan `float`.\n",
    "- `int` digunakan untuk menyimpan bilangan bulat (yaitu: 1,2,-3)\n",
    "- `float` digunakan untuk menyimpan bilangan real (yaitu: 0.7, -1.8, -1000.0)."
   ]
  },
  {
   "cell_type": "code",
   "execution_count": 11,
   "metadata": {},
   "outputs": [],
   "source": [
    "a = 123445678910\n",
    "b = 0.6724624632746"
   ]
  },
  {
   "cell_type": "code",
   "execution_count": 12,
   "metadata": {},
   "outputs": [
    {
     "data": {
      "text/plain": [
       "int"
      ]
     },
     "execution_count": 12,
     "metadata": {},
     "output_type": "execute_result"
    }
   ],
   "source": [
    "## cek tipe data a\n",
    "type(a)"
   ]
  },
  {
   "cell_type": "code",
   "execution_count": 13,
   "metadata": {},
   "outputs": [
    {
     "data": {
      "text/plain": [
       "float"
      ]
     },
     "execution_count": 13,
     "metadata": {},
     "output_type": "execute_result"
    }
   ],
   "source": [
    "type(b)"
   ]
  },
  {
   "attachments": {},
   "cell_type": "markdown",
   "metadata": {},
   "source": [
    "**Operasi Angka** \\\n",
    "Operator Aritmatika:\n",
    "- `+` - Penambahan\n",
    "- `-` - Pengurangan\n",
    "- `*` - Perkalian\n",
    "- `/` - Pembagian\n",
    "- `//` - Floor Division (pembagian dengan pembulatan ke bawah) \n",
    "- `%` - Modulus (hasil lagi)\n",
    "- `**` - Eksponen (pangkat)\n",
    "\n",
    "Operator Perbandingan:\n",
    "- `<` - Lebih kecil dari (yaitu : a < b)\n",
    "- `<=` - Lebih kecil atau sama dengan (yaitu : a <= b)\n",
    "- `>` - Lebih besar dari (yaitu: a > b)\n",
    "- `>=` - Lebih besar atau sama dengan (yaitu: a >= b)\n",
    "- `==` - Sama dengan (yaitu: a == b)\n",
    "- `!=` - Tidak Sama dengan (yaitu: a != b)"
   ]
  },
  {
   "cell_type": "code",
   "execution_count": 14,
   "metadata": {},
   "outputs": [
    {
     "data": {
      "text/plain": [
       "123445678910.67245"
      ]
     },
     "execution_count": 14,
     "metadata": {},
     "output_type": "execute_result"
    }
   ],
   "source": [
    "a + b"
   ]
  },
  {
   "cell_type": "code",
   "execution_count": 15,
   "metadata": {},
   "outputs": [],
   "source": [
    "c = a > b"
   ]
  },
  {
   "cell_type": "code",
   "execution_count": 16,
   "metadata": {},
   "outputs": [
    {
     "data": {
      "text/plain": [
       "True"
      ]
     },
     "execution_count": 16,
     "metadata": {},
     "output_type": "execute_result"
    }
   ],
   "source": [
    "bool(c)"
   ]
  },
  {
   "attachments": {},
   "cell_type": "markdown",
   "metadata": {},
   "source": [
    "### 3. Boolean\n",
    "\n",
    "- Boolean menyimpan nilai yang hanya memuat 2 nilai yaitu `True` atau `False`\n",
    "- Boolean berguna ketika berkaitan dengan kondisi dan perulangan"
   ]
  },
  {
   "cell_type": "code",
   "execution_count": 17,
   "metadata": {},
   "outputs": [],
   "source": [
    "x = True \n",
    "y = False"
   ]
  },
  {
   "cell_type": "code",
   "execution_count": 18,
   "metadata": {},
   "outputs": [
    {
     "data": {
      "text/plain": [
       "bool"
      ]
     },
     "execution_count": 18,
     "metadata": {},
     "output_type": "execute_result"
    }
   ],
   "source": [
    "# cek tipe data  \n",
    "type(y)"
   ]
  },
  {
   "attachments": {},
   "cell_type": "markdown",
   "metadata": {},
   "source": [
    "**Operasi Boolean** \\\n",
    "Operator logika:\n",
    "- `and` (contoh: `a and b` -> mengembalikan nilai `True` kalau nilai **a dan b** adalah True)\n",
    "- `or` (contoh: `a or b` -> mengembalikan nilai `True` kalau setidaknya **salah satu** nilai a dan b adalah True)\n",
    "- `not` (contoh: `not a` -> negasi dari a, jika `a = True`, maka `not a` adalah `False`) "
   ]
  },
  {
   "cell_type": "code",
   "execution_count": 19,
   "metadata": {},
   "outputs": [
    {
     "data": {
      "text/plain": [
       "True"
      ]
     },
     "execution_count": 19,
     "metadata": {},
     "output_type": "execute_result"
    }
   ],
   "source": [
    "2 < 0 or 9 < 10"
   ]
  },
  {
   "attachments": {},
   "cell_type": "markdown",
   "metadata": {},
   "source": [
    "### 4. List\n",
    "\n",
    "`list` digunakan untuk menyimpan beberapa nilai dalam python.\\\n",
    "Cara deklarasi variabel `list`: `nama_variable = [nilai1, nilai2, nilai3]`"
   ]
  },
  {
   "cell_type": "code",
   "execution_count": 20,
   "metadata": {},
   "outputs": [
    {
     "data": {
      "text/plain": [
       "list"
      ]
     },
     "execution_count": 20,
     "metadata": {},
     "output_type": "execute_result"
    }
   ],
   "source": [
    "data = [1, 2, 3, 4, \"lima\", False]\n",
    "\n",
    "type(data)"
   ]
  },
  {
   "cell_type": "markdown",
   "metadata": {},
   "source": [
    "**Operasi List**\n",
    "- `x.append(a)` : tambahkan a ke list dengan nama variabel x\n",
    "- `x.remove(a)` : hapus a dari list dengan nama variabel x\n",
    "\n",
    "Fungsi agregasi:\n",
    "- `len(x)` : ekstrak panjang daftar\n",
    "- `a in b` : memeriksa apakah nilai `a` ada di objek daftar `b`\n",
    "- `max(x)` : mendapatkan nilai tertinggi dalam x\n",
    "- `sum(x)` : mendapatkan jumlah nilai dalam x\n",
    "\n",
    "Operasi lain yang harus diketahui dalam daftar adalah pengindeksan:\n",
    "- `x[i]` : mengakses elemen ke-i dari x"
   ]
  },
  {
   "cell_type": "code",
   "execution_count": 21,
   "metadata": {},
   "outputs": [
    {
     "data": {
      "text/plain": [
       "[1, 2, 3, 4, 'lima', False, 7]"
      ]
     },
     "execution_count": 21,
     "metadata": {},
     "output_type": "execute_result"
    }
   ],
   "source": [
    "data.append(7)\n",
    "\n",
    "data"
   ]
  },
  {
   "cell_type": "code",
   "execution_count": 22,
   "metadata": {},
   "outputs": [
    {
     "data": {
      "text/plain": [
       "2"
      ]
     },
     "execution_count": 22,
     "metadata": {},
     "output_type": "execute_result"
    }
   ],
   "source": [
    "data[1]"
   ]
  },
  {
   "attachments": {},
   "cell_type": "markdown",
   "metadata": {},
   "source": [
    "> Note: zero based indexing -> perhitungan python dimulai dari 0"
   ]
  },
  {
   "attachments": {},
   "cell_type": "markdown",
   "metadata": {},
   "source": [
    "## Fungsi"
   ]
  },
  {
   "attachments": {},
   "cell_type": "markdown",
   "metadata": {},
   "source": [
    "Function merupakan sekelompok perintah yang digunakan untuk melakukan tugas tertentu. Ketika kita melakukan sesuatu yang berulang dan rumit, alangkah baiknya kita menggunakan fungsi agar tidak ada langkah yang berubah maupun penulisan kode yang salah. Penulisan umum sebuah fungsi yaitu:\n",
    "```python\n",
    "def nama_fungsi(parameter):\n",
    "    perintah\n",
    "```\n",
    "Pada syntax umum di atas, `def` merupakan inisiator untuk sebuah fungsi. Sementara hal-hal yang harus kita tentukan yaitu nama dari fungsi, parameter yang akan digunakan di dalamnya, serta perintah atau kode. \n",
    "\n",
    "Sebagai contoh, kita akan membuat sebuah fungsi luas segitiga:"
   ]
  },
  {
   "cell_type": "code",
   "execution_count": 23,
   "metadata": {},
   "outputs": [],
   "source": [
    "# fungsi luas_segitiga\n",
    "def luas_segitiga(alas, tinggi):\n",
    "    hasil = (alas * tinggi) / 2\n",
    "    return(hasil)"
   ]
  },
  {
   "cell_type": "code",
   "execution_count": 24,
   "metadata": {},
   "outputs": [
    {
     "data": {
      "text/plain": [
       "16.0"
      ]
     },
     "execution_count": 24,
     "metadata": {},
     "output_type": "execute_result"
    }
   ],
   "source": [
    "hasil = luas_segitiga(8, 4)\n",
    "\n",
    "hasil"
   ]
  },
  {
   "attachments": {},
   "cell_type": "markdown",
   "metadata": {},
   "source": [
    "Contoh fungsi tanpa parameter"
   ]
  },
  {
   "cell_type": "code",
   "execution_count": 25,
   "metadata": {},
   "outputs": [],
   "source": [
    "def hello():\n",
    "    print(\"Hello World\")"
   ]
  },
  {
   "cell_type": "code",
   "execution_count": 26,
   "metadata": {},
   "outputs": [
    {
     "name": "stdout",
     "output_type": "stream",
     "text": [
      "Hello World\n"
     ]
    }
   ],
   "source": [
    "hello()"
   ]
  },
  {
   "attachments": {},
   "cell_type": "markdown",
   "metadata": {},
   "source": [
    "## Perulangan (Looping)"
   ]
  },
  {
   "attachments": {},
   "cell_type": "markdown",
   "metadata": {},
   "source": [
    "`for loop` digunakan untuk mengulangi/mengiterasi suatu urutan (dapat berupa list atau string)."
   ]
  },
  {
   "cell_type": "markdown",
   "metadata": {},
   "source": [
    "Contoh `for loop` untuk mengiterasi elemen pada list:"
   ]
  },
  {
   "cell_type": "code",
   "execution_count": 27,
   "metadata": {},
   "outputs": [
    {
     "name": "stdout",
     "output_type": "stream",
     "text": [
      "kucing\n",
      "kelinci\n",
      "hamster\n"
     ]
    }
   ],
   "source": [
    "hewan = [\"kucing\", \"kelinci\", \"hamster\"]\n",
    "for x in hewan:\n",
    "  print(x)"
   ]
  },
  {
   "attachments": {},
   "cell_type": "markdown",
   "metadata": {},
   "source": [
    "Untuk mengulang satu set kode beberapa kali, kita dapat menggunakan fungsi `range()`. Fungsi range() mengembalikan urutan angka, mulai dari 0 secara default, dan bertambah 1 (secara default), dan berakhir pada angka yang ditentukan.\n",
    "\n",
    "parameter range:\n",
    "`range(start = 0, end, interval = 1)`"
   ]
  },
  {
   "cell_type": "code",
   "execution_count": 28,
   "metadata": {},
   "outputs": [
    {
     "name": "stdout",
     "output_type": "stream",
     "text": [
      "0\n",
      "1\n",
      "2\n",
      "3\n",
      "4\n",
      "5\n",
      "6\n"
     ]
    }
   ],
   "source": [
    "for x in range(7):\n",
    "  print(x)"
   ]
  },
  {
   "attachments": {},
   "cell_type": "markdown",
   "metadata": {},
   "source": [
    "# Pandas"
   ]
  },
  {
   "attachments": {},
   "cell_type": "markdown",
   "metadata": {},
   "source": [
    "## Bekerja dengan Dataframe\n",
    "\n",
    "- `pandas` adalah library yang powerful sebagai tools analisis data dan struktur pada Python. \n",
    "\n",
    "- `pandas` mampu mengolah data menjadi mudah karena disediakan salah satu objek bernama **DataFrame**. \n",
    "\n",
    "- `pandas` memiliki function yang mampu mengolah dataframe dengan menerapkan berbagai operasi dan teknik seperti join, agregasi, grouping, dan lain sebagainya\n",
    "\n",
    "> Lebih lengkapnya silahkan kunjungi [official documentation](https://pandas.pydata.org/)\n",
    "\n",
    "Untuk menggunakan `pandas`, kita perlu import terlebih dahulu library dengan cara berikut ini:"
   ]
  },
  {
   "cell_type": "code",
   "execution_count": 29,
   "metadata": {},
   "outputs": [
    {
     "name": "stdout",
     "output_type": "stream",
     "text": [
      "2.0.0\n"
     ]
    }
   ],
   "source": [
    "import pandas as pd\n",
    "print(pd.__version__)"
   ]
  },
  {
   "attachments": {},
   "cell_type": "markdown",
   "metadata": {},
   "source": [
    "### Read Data\n",
    "\n",
    "Untuk membaca data atau file dengan format `.csv` dapat menggunakan method `.read_csv()`.\n",
    "Bacalah data `lokasi.csv` yang berada dalam folder `data`\n",
    "\n",
    "Sintaks: \n",
    "```python\n",
    "pandas.read_csv(\"path/data\")\n",
    "```"
   ]
  },
  {
   "cell_type": "code",
   "execution_count": 30,
   "metadata": {},
   "outputs": [
    {
     "data": {
      "text/html": [
       "<div>\n",
       "<style scoped>\n",
       "    .dataframe tbody tr th:only-of-type {\n",
       "        vertical-align: middle;\n",
       "    }\n",
       "\n",
       "    .dataframe tbody tr th {\n",
       "        vertical-align: top;\n",
       "    }\n",
       "\n",
       "    .dataframe thead th {\n",
       "        text-align: right;\n",
       "    }\n",
       "</style>\n",
       "<table border=\"1\" class=\"dataframe\">\n",
       "  <thead>\n",
       "    <tr style=\"text-align: right;\">\n",
       "      <th></th>\n",
       "      <th>kode</th>\n",
       "      <th>lokasi</th>\n",
       "      <th>latitude</th>\n",
       "      <th>longitude</th>\n",
       "    </tr>\n",
       "  </thead>\n",
       "  <tbody>\n",
       "    <tr>\n",
       "      <th>0</th>\n",
       "      <td>A</td>\n",
       "      <td>Warehouse</td>\n",
       "      <td>-6.106552</td>\n",
       "      <td>106.907915</td>\n",
       "    </tr>\n",
       "    <tr>\n",
       "      <th>1</th>\n",
       "      <td>B</td>\n",
       "      <td>Thamrin City</td>\n",
       "      <td>-6.192764</td>\n",
       "      <td>106.815997</td>\n",
       "    </tr>\n",
       "    <tr>\n",
       "      <th>2</th>\n",
       "      <td>C</td>\n",
       "      <td>AEON TB</td>\n",
       "      <td>-6.294371</td>\n",
       "      <td>106.837711</td>\n",
       "    </tr>\n",
       "    <tr>\n",
       "      <th>3</th>\n",
       "      <td>D</td>\n",
       "      <td>Kota Kasablanka</td>\n",
       "      <td>-6.216613</td>\n",
       "      <td>106.843022</td>\n",
       "    </tr>\n",
       "    <tr>\n",
       "      <th>4</th>\n",
       "      <td>E</td>\n",
       "      <td>Cipinang Indah Mall</td>\n",
       "      <td>-6.231984</td>\n",
       "      <td>106.892953</td>\n",
       "    </tr>\n",
       "    <tr>\n",
       "      <th>5</th>\n",
       "      <td>F</td>\n",
       "      <td>Lippo Mall Puri</td>\n",
       "      <td>-6.181179</td>\n",
       "      <td>106.739570</td>\n",
       "    </tr>\n",
       "    <tr>\n",
       "      <th>6</th>\n",
       "      <td>G</td>\n",
       "      <td>Plaza Blok M</td>\n",
       "      <td>-6.238328</td>\n",
       "      <td>106.797455</td>\n",
       "    </tr>\n",
       "  </tbody>\n",
       "</table>\n",
       "</div>"
      ],
      "text/plain": [
       "  kode               lokasi  latitude   longitude\n",
       "0    A            Warehouse -6.106552  106.907915\n",
       "1    B         Thamrin City -6.192764  106.815997\n",
       "2    C              AEON TB -6.294371  106.837711\n",
       "3    D      Kota Kasablanka -6.216613  106.843022\n",
       "4    E  Cipinang Indah Mall -6.231984  106.892953\n",
       "5    F      Lippo Mall Puri -6.181179  106.739570\n",
       "6    G         Plaza Blok M -6.238328  106.797455"
      ]
     },
     "execution_count": 30,
     "metadata": {},
     "output_type": "execute_result"
    }
   ],
   "source": [
    "location = pd.read_csv(\"data/lokasi.csv\")\n",
    "\n",
    "location"
   ]
  },
  {
   "cell_type": "code",
   "execution_count": 31,
   "metadata": {},
   "outputs": [
    {
     "data": {
      "text/plain": [
       "pandas.core.frame.DataFrame"
      ]
     },
     "execution_count": 31,
     "metadata": {},
     "output_type": "execute_result"
    }
   ],
   "source": [
    "type(location)"
   ]
  },
  {
   "attachments": {},
   "cell_type": "markdown",
   "metadata": {},
   "source": [
    "**Deskripsi Data:**\n",
    "\n",
    "Data `lokasi.csv` merupakan data informasi lokasi gudang dan client distribusi. Berikut informasi dari setiap kolom:\n",
    "\n",
    "- `kode`: Kode unik lokasi\n",
    "- `lokasi`: Nama lengkap lokasi\n",
    "- `latitude`: Titik latitude lokasi\n",
    "- `longitude`: Titik longitude lokasi"
   ]
  },
  {
   "attachments": {},
   "cell_type": "markdown",
   "metadata": {},
   "source": [
    "Lakukan investigasi awal untuk melihat struktur data terhadap object DataFrame dengan menggunakan method `.info()`"
   ]
  },
  {
   "cell_type": "code",
   "execution_count": 32,
   "metadata": {},
   "outputs": [
    {
     "name": "stdout",
     "output_type": "stream",
     "text": [
      "<class 'pandas.core.frame.DataFrame'>\n",
      "RangeIndex: 7 entries, 0 to 6\n",
      "Data columns (total 4 columns):\n",
      " #   Column     Non-Null Count  Dtype  \n",
      "---  ------     --------------  -----  \n",
      " 0   kode       7 non-null      object \n",
      " 1   lokasi     7 non-null      object \n",
      " 2   latitude   7 non-null      float64\n",
      " 3   longitude  7 non-null      float64\n",
      "dtypes: float64(2), object(2)\n",
      "memory usage: 352.0+ bytes\n"
     ]
    }
   ],
   "source": [
    "# inspect data\n",
    "location.info()"
   ]
  },
  {
   "attachments": {},
   "cell_type": "markdown",
   "metadata": {},
   "source": [
    "**💡 NOTES**\n",
    "\n",
    "Dengan menggunakan method `.info()`, kita dapat memeriksa **informasi** lengkap dari DataFrame kita:\n",
    "\n",
    "- Dimensi data: jumlah baris dan kolom (`.shape`)\n",
    "- Nama kolom (`.columns`)\n",
    "- Tipe data setiap kolom (`.dtypes`)\n",
    "- Penggunaan memori"
   ]
  },
  {
   "attachments": {},
   "cell_type": "markdown",
   "metadata": {},
   "source": [
    "> Dataframe : tabel yang terdiri dari kolom-kolom (series)"
   ]
  },
  {
   "attachments": {},
   "cell_type": "markdown",
   "metadata": {},
   "source": [
    "❓ Mari kita coba untuk membaca `data/track_record.csv` ke dalam variabel records."
   ]
  },
  {
   "cell_type": "code",
   "execution_count": 33,
   "metadata": {},
   "outputs": [],
   "source": [
    "records = pd.read_csv(\"data/track_record.csv\")"
   ]
  },
  {
   "attachments": {},
   "cell_type": "markdown",
   "metadata": {},
   "source": [
    "Lakukan pengamatan 5 data teratas dari `records` menggunakan `.head()`"
   ]
  },
  {
   "cell_type": "code",
   "execution_count": 34,
   "metadata": {},
   "outputs": [
    {
     "data": {
      "text/html": [
       "<div>\n",
       "<style scoped>\n",
       "    .dataframe tbody tr th:only-of-type {\n",
       "        vertical-align: middle;\n",
       "    }\n",
       "\n",
       "    .dataframe tbody tr th {\n",
       "        vertical-align: top;\n",
       "    }\n",
       "\n",
       "    .dataframe thead th {\n",
       "        text-align: right;\n",
       "    }\n",
       "</style>\n",
       "<table border=\"1\" class=\"dataframe\">\n",
       "  <thead>\n",
       "    <tr style=\"text-align: right;\">\n",
       "      <th></th>\n",
       "      <th>start</th>\n",
       "      <th>end</th>\n",
       "      <th>dist</th>\n",
       "      <th>lge/100km</th>\n",
       "      <th>add_cost</th>\n",
       "      <th>start_time</th>\n",
       "      <th>end_time</th>\n",
       "    </tr>\n",
       "  </thead>\n",
       "  <tbody>\n",
       "    <tr>\n",
       "      <th>0</th>\n",
       "      <td>E</td>\n",
       "      <td>C</td>\n",
       "      <td>20.0</td>\n",
       "      <td>10.2</td>\n",
       "      <td>0.0</td>\n",
       "      <td>2023-02-08 15:02:00</td>\n",
       "      <td>2023-02-08 15:33:00</td>\n",
       "    </tr>\n",
       "    <tr>\n",
       "      <th>1</th>\n",
       "      <td>A</td>\n",
       "      <td>E</td>\n",
       "      <td>21.0</td>\n",
       "      <td>9.6</td>\n",
       "      <td>37.0</td>\n",
       "      <td>2023-02-08 14:02:00</td>\n",
       "      <td>2023-02-08 14:32:00</td>\n",
       "    </tr>\n",
       "    <tr>\n",
       "      <th>2</th>\n",
       "      <td>F</td>\n",
       "      <td>G</td>\n",
       "      <td>12.0</td>\n",
       "      <td>11.8</td>\n",
       "      <td>8.0</td>\n",
       "      <td>2023-02-07 15:30:00</td>\n",
       "      <td>2023-02-07 15:54:00</td>\n",
       "    </tr>\n",
       "    <tr>\n",
       "      <th>3</th>\n",
       "      <td>A</td>\n",
       "      <td>F</td>\n",
       "      <td>31.0</td>\n",
       "      <td>13.3</td>\n",
       "      <td>34.5</td>\n",
       "      <td>2023-02-07 14:13:00</td>\n",
       "      <td>2023-02-07 15:01:00</td>\n",
       "    </tr>\n",
       "    <tr>\n",
       "      <th>4</th>\n",
       "      <td>B</td>\n",
       "      <td>D</td>\n",
       "      <td>6.0</td>\n",
       "      <td>14.5</td>\n",
       "      <td>0.0</td>\n",
       "      <td>2023-02-06 15:30:00</td>\n",
       "      <td>2023-02-06 15:43:00</td>\n",
       "    </tr>\n",
       "  </tbody>\n",
       "</table>\n",
       "</div>"
      ],
      "text/plain": [
       "  start end  dist  lge/100km  add_cost           start_time   \n",
       "0     E   C  20.0       10.2       0.0  2023-02-08 15:02:00  \\\n",
       "1     A   E  21.0        9.6      37.0  2023-02-08 14:02:00   \n",
       "2     F   G  12.0       11.8       8.0  2023-02-07 15:30:00   \n",
       "3     A   F  31.0       13.3      34.5  2023-02-07 14:13:00   \n",
       "4     B   D   6.0       14.5       0.0  2023-02-06 15:30:00   \n",
       "\n",
       "              end_time  \n",
       "0  2023-02-08 15:33:00  \n",
       "1  2023-02-08 14:32:00  \n",
       "2  2023-02-07 15:54:00  \n",
       "3  2023-02-07 15:01:00  \n",
       "4  2023-02-06 15:43:00  "
      ]
     },
     "execution_count": 34,
     "metadata": {},
     "output_type": "execute_result"
    }
   ],
   "source": [
    "records.head()"
   ]
  },
  {
   "attachments": {},
   "cell_type": "markdown",
   "metadata": {},
   "source": [
    "**Deskripsi Data:**\n",
    "\n",
    "Data `records` merupakan kumpulan catatan pengiriman distribusi. Berikut informasi dari setiap kolom:\n",
    "\n",
    "- `start`: Lokasi berangkat\n",
    "- `end`: Lokasi tujuan\n",
    "- `dist`: Jarak tempuh (satuan km)\n",
    "- `lge/100km`: Penggunaan liter bensin / 100 km\n",
    "- `add_cost`: Tambahan biaya dalam satuan Ribu Rupiah (Biaya Tol)\n",
    "- `start_time`: Waktu berangkat\n",
    "- `end_time`: Waktu tiba"
   ]
  },
  {
   "attachments": {},
   "cell_type": "markdown",
   "metadata": {},
   "source": [
    "## Tipe Data `pandas`\n",
    "\n",
    "- Dataframe merupakan tabel/data tabular dua dimensi yaitu baris dan kolom.\n",
    "- Dataframe terdiri dari beberapa **Series** (kolom).\n",
    "- Dalam satu series harus memiliki tipe data yang sama.\n",
    "- `pandas` akan menentukan tipe data dari masing-masing Series, tapi hasil dari pandas tidak selalu benar."
   ]
  },
  {
   "attachments": {},
   "cell_type": "markdown",
   "metadata": {},
   "source": [
    "Berikut rangkuman tipe data `pandas`:\n",
    "\n",
    "**Note: Fokus pada kolom `Pandas dtype` dan `Usage`**\n",
    "\n",
    "| Pandas dtype  | Python type  | NumPy type                                                     | Usage                                        |\n",
    "|---------------|--------------|----------------------------------------------------------------|----------------------------------------------|\n",
    "| object        | str or mixed | string_, unicode_, mixed types                                 | Text or mixed numeric and non-numeric values |\n",
    "| int64         | int          | int_, int8, int16, int32, int64, uint8, uint16, uint32, uint64 | Integer numbers                              |\n",
    "| float64       | float        | float_, float16, float32, float64                              | Floating point numbers                       |\n",
    "| bool          | bool         | bool_                                                          | True/False values                            |\n",
    "| datetime64[ns]    | NA           | datetime64[ns]                                                 | Date and time values                         |\n",
    "| timedelta[ns] | NA           | NA                                                             | Differences between two datetimes            |\n",
    "| category      | NA           | NA                                                             | Finite list of text values                   |\n",
    "\n",
    "Referensi: [Overview of Pandas Data Types](https://pbpython.com/pandas_dtypes.html)"
   ]
  },
  {
   "attachments": {},
   "cell_type": "markdown",
   "metadata": {},
   "source": [
    "**Tipe data Pandas:**\n",
    "\n",
    "- `int64`: Integer (bilangan bulat, tanpa koma)\n",
    "- `float64`: Bilangan desimal (berkoma)\n",
    "- `object`: Text (string)\n",
    "- `category`: Kategorikal \n",
    "- `datetime64[ns]`: Data waktu\n",
    "\n",
    "Karakteristik tipe data `category` :\n",
    "- Dapat dikelompokkan menjadi beberapa kelompok (category)\n",
    "- Nilainya berulang"
   ]
  },
  {
   "attachments": {},
   "cell_type": "markdown",
   "metadata": {},
   "source": [
    "----"
   ]
  },
  {
   "attachments": {},
   "cell_type": "markdown",
   "metadata": {},
   "source": [
    "Saat kita membaca data dengan `pd.read_csv()`, `pandas` akan mencoba menentukan tipe data dari setiap kolom. Untuk inspeksi tipe data dapat menggunakan `dtypes`."
   ]
  },
  {
   "cell_type": "code",
   "execution_count": 35,
   "metadata": {},
   "outputs": [
    {
     "data": {
      "text/plain": [
       "start          object\n",
       "end            object\n",
       "dist          float64\n",
       "lge/100km     float64\n",
       "add_cost      float64\n",
       "start_time     object\n",
       "end_time       object\n",
       "dtype: object"
      ]
     },
     "execution_count": 35,
     "metadata": {},
     "output_type": "execute_result"
    }
   ],
   "source": [
    "# Cek tipe data\n",
    "records.dtypes"
   ]
  },
  {
   "cell_type": "code",
   "execution_count": 36,
   "metadata": {},
   "outputs": [
    {
     "data": {
      "text/html": [
       "<div>\n",
       "<style scoped>\n",
       "    .dataframe tbody tr th:only-of-type {\n",
       "        vertical-align: middle;\n",
       "    }\n",
       "\n",
       "    .dataframe tbody tr th {\n",
       "        vertical-align: top;\n",
       "    }\n",
       "\n",
       "    .dataframe thead th {\n",
       "        text-align: right;\n",
       "    }\n",
       "</style>\n",
       "<table border=\"1\" class=\"dataframe\">\n",
       "  <thead>\n",
       "    <tr style=\"text-align: right;\">\n",
       "      <th></th>\n",
       "      <th>start</th>\n",
       "      <th>end</th>\n",
       "      <th>dist</th>\n",
       "      <th>lge/100km</th>\n",
       "      <th>add_cost</th>\n",
       "      <th>start_time</th>\n",
       "      <th>end_time</th>\n",
       "    </tr>\n",
       "  </thead>\n",
       "  <tbody>\n",
       "    <tr>\n",
       "      <th>0</th>\n",
       "      <td>E</td>\n",
       "      <td>C</td>\n",
       "      <td>20.0</td>\n",
       "      <td>10.2</td>\n",
       "      <td>0.0</td>\n",
       "      <td>2023-02-08 15:02:00</td>\n",
       "      <td>2023-02-08 15:33:00</td>\n",
       "    </tr>\n",
       "    <tr>\n",
       "      <th>1</th>\n",
       "      <td>A</td>\n",
       "      <td>E</td>\n",
       "      <td>21.0</td>\n",
       "      <td>9.6</td>\n",
       "      <td>37.0</td>\n",
       "      <td>2023-02-08 14:02:00</td>\n",
       "      <td>2023-02-08 14:32:00</td>\n",
       "    </tr>\n",
       "    <tr>\n",
       "      <th>2</th>\n",
       "      <td>F</td>\n",
       "      <td>G</td>\n",
       "      <td>12.0</td>\n",
       "      <td>11.8</td>\n",
       "      <td>8.0</td>\n",
       "      <td>2023-02-07 15:30:00</td>\n",
       "      <td>2023-02-07 15:54:00</td>\n",
       "    </tr>\n",
       "    <tr>\n",
       "      <th>3</th>\n",
       "      <td>A</td>\n",
       "      <td>F</td>\n",
       "      <td>31.0</td>\n",
       "      <td>13.3</td>\n",
       "      <td>34.5</td>\n",
       "      <td>2023-02-07 14:13:00</td>\n",
       "      <td>2023-02-07 15:01:00</td>\n",
       "    </tr>\n",
       "    <tr>\n",
       "      <th>4</th>\n",
       "      <td>B</td>\n",
       "      <td>D</td>\n",
       "      <td>6.0</td>\n",
       "      <td>14.5</td>\n",
       "      <td>0.0</td>\n",
       "      <td>2023-02-06 15:30:00</td>\n",
       "      <td>2023-02-06 15:43:00</td>\n",
       "    </tr>\n",
       "  </tbody>\n",
       "</table>\n",
       "</div>"
      ],
      "text/plain": [
       "  start end  dist  lge/100km  add_cost           start_time   \n",
       "0     E   C  20.0       10.2       0.0  2023-02-08 15:02:00  \\\n",
       "1     A   E  21.0        9.6      37.0  2023-02-08 14:02:00   \n",
       "2     F   G  12.0       11.8       8.0  2023-02-07 15:30:00   \n",
       "3     A   F  31.0       13.3      34.5  2023-02-07 14:13:00   \n",
       "4     B   D   6.0       14.5       0.0  2023-02-06 15:30:00   \n",
       "\n",
       "              end_time  \n",
       "0  2023-02-08 15:33:00  \n",
       "1  2023-02-08 14:32:00  \n",
       "2  2023-02-07 15:54:00  \n",
       "3  2023-02-07 15:01:00  \n",
       "4  2023-02-06 15:43:00  "
      ]
     },
     "execution_count": 36,
     "metadata": {},
     "output_type": "execute_result"
    }
   ],
   "source": [
    "records.head()"
   ]
  },
  {
   "attachments": {},
   "cell_type": "markdown",
   "metadata": {},
   "source": [
    "*Kolom manakah yang memiliki format tipe data yang belum sesuai?*\n",
    "\n",
    "> Jawaban:\n",
    "- `start_time`, `end_time` -> datetime64\n",
    "- `start`, `end` -> category"
   ]
  },
  {
   "attachments": {},
   "cell_type": "markdown",
   "metadata": {},
   "source": [
    "Untuk mengubah tipe data pada `pandas`, dapat menggunakan method `astype()`.\n",
    "\n",
    "**Sintaks**\n",
    "```python\n",
    "df['column_name'] = df['column_name'].astype('new_data_types')\n",
    "```"
   ]
  },
  {
   "cell_type": "code",
   "execution_count": 37,
   "metadata": {},
   "outputs": [],
   "source": [
    "records[['start_time', 'end_time']] = records[['start_time', 'end_time']].astype('datetime64[ns]')"
   ]
  },
  {
   "cell_type": "code",
   "execution_count": 38,
   "metadata": {},
   "outputs": [],
   "source": [
    "records[['start', 'end']] = records[['start', 'end']].astype('category')"
   ]
  },
  {
   "cell_type": "code",
   "execution_count": 39,
   "metadata": {},
   "outputs": [
    {
     "data": {
      "text/plain": [
       "start               category\n",
       "end                 category\n",
       "dist                 float64\n",
       "lge/100km            float64\n",
       "add_cost             float64\n",
       "start_time    datetime64[ns]\n",
       "end_time      datetime64[ns]\n",
       "dtype: object"
      ]
     },
     "execution_count": 39,
     "metadata": {},
     "output_type": "execute_result"
    }
   ],
   "source": [
    "records.dtypes"
   ]
  },
  {
   "attachments": {},
   "cell_type": "markdown",
   "metadata": {},
   "source": [
    "## Datetime"
   ]
  },
  {
   "attachments": {},
   "cell_type": "markdown",
   "metadata": {},
   "source": [
    "### Partisi Datetime\n",
    "\n",
    "Ketika sebuah kolom sudah menjadi `datetime64`, kita dapat melakukan partisi untuk menggali informasi yang lebih spesifik seperti tahun, bulan, hari, dan jam.\n",
    "\n",
    "**Date component (numeric)**\n",
    "- `.dt.year` -> partisi tahun\n",
    "- `.dt.month` -> partisi bulan (angka)\n",
    "- `.dt.isocalendar().week` -> partisi pekan (angka)\n",
    "- `.dt.day` -> partisi day/tanggal (dalam angka)\n",
    "- `.dt.dayofweek`\n",
    "\n",
    "**Date component (string)**\n",
    "- `.dt.month_name()`-> partisi bulan (nama)\n",
    "- `.dt.day_name()`-> partisi hari (nama)\n",
    "\n",
    "**Time component**\n",
    "- `.dt.hour` -> partisi jam\n",
    "- `.dt.minute` -> partisi menit\n",
    "- `.dt.second` -> partisi detik\n",
    "\n",
    "[Dokumentasi: datetime properties](https://pandas.pydata.org/pandas-docs/stable/reference/series.html#datetimelike-properties)"
   ]
  },
  {
   "cell_type": "code",
   "execution_count": 40,
   "metadata": {},
   "outputs": [
    {
     "data": {
      "text/html": [
       "<div>\n",
       "<style scoped>\n",
       "    .dataframe tbody tr th:only-of-type {\n",
       "        vertical-align: middle;\n",
       "    }\n",
       "\n",
       "    .dataframe tbody tr th {\n",
       "        vertical-align: top;\n",
       "    }\n",
       "\n",
       "    .dataframe thead th {\n",
       "        text-align: right;\n",
       "    }\n",
       "</style>\n",
       "<table border=\"1\" class=\"dataframe\">\n",
       "  <thead>\n",
       "    <tr style=\"text-align: right;\">\n",
       "      <th></th>\n",
       "      <th>start</th>\n",
       "      <th>end</th>\n",
       "      <th>dist</th>\n",
       "      <th>lge/100km</th>\n",
       "      <th>add_cost</th>\n",
       "      <th>start_time</th>\n",
       "      <th>end_time</th>\n",
       "      <th>month</th>\n",
       "    </tr>\n",
       "  </thead>\n",
       "  <tbody>\n",
       "    <tr>\n",
       "      <th>0</th>\n",
       "      <td>E</td>\n",
       "      <td>C</td>\n",
       "      <td>20.0</td>\n",
       "      <td>10.2</td>\n",
       "      <td>0.0</td>\n",
       "      <td>2023-02-08 15:02:00</td>\n",
       "      <td>2023-02-08 15:33:00</td>\n",
       "      <td>February</td>\n",
       "    </tr>\n",
       "    <tr>\n",
       "      <th>1</th>\n",
       "      <td>A</td>\n",
       "      <td>E</td>\n",
       "      <td>21.0</td>\n",
       "      <td>9.6</td>\n",
       "      <td>37.0</td>\n",
       "      <td>2023-02-08 14:02:00</td>\n",
       "      <td>2023-02-08 14:32:00</td>\n",
       "      <td>February</td>\n",
       "    </tr>\n",
       "    <tr>\n",
       "      <th>2</th>\n",
       "      <td>F</td>\n",
       "      <td>G</td>\n",
       "      <td>12.0</td>\n",
       "      <td>11.8</td>\n",
       "      <td>8.0</td>\n",
       "      <td>2023-02-07 15:30:00</td>\n",
       "      <td>2023-02-07 15:54:00</td>\n",
       "      <td>February</td>\n",
       "    </tr>\n",
       "    <tr>\n",
       "      <th>3</th>\n",
       "      <td>A</td>\n",
       "      <td>F</td>\n",
       "      <td>31.0</td>\n",
       "      <td>13.3</td>\n",
       "      <td>34.5</td>\n",
       "      <td>2023-02-07 14:13:00</td>\n",
       "      <td>2023-02-07 15:01:00</td>\n",
       "      <td>February</td>\n",
       "    </tr>\n",
       "    <tr>\n",
       "      <th>4</th>\n",
       "      <td>B</td>\n",
       "      <td>D</td>\n",
       "      <td>6.0</td>\n",
       "      <td>14.5</td>\n",
       "      <td>0.0</td>\n",
       "      <td>2023-02-06 15:30:00</td>\n",
       "      <td>2023-02-06 15:43:00</td>\n",
       "      <td>February</td>\n",
       "    </tr>\n",
       "  </tbody>\n",
       "</table>\n",
       "</div>"
      ],
      "text/plain": [
       "  start end  dist  lge/100km  add_cost          start_time   \n",
       "0     E   C  20.0       10.2       0.0 2023-02-08 15:02:00  \\\n",
       "1     A   E  21.0        9.6      37.0 2023-02-08 14:02:00   \n",
       "2     F   G  12.0       11.8       8.0 2023-02-07 15:30:00   \n",
       "3     A   F  31.0       13.3      34.5 2023-02-07 14:13:00   \n",
       "4     B   D   6.0       14.5       0.0 2023-02-06 15:30:00   \n",
       "\n",
       "             end_time     month  \n",
       "0 2023-02-08 15:33:00  February  \n",
       "1 2023-02-08 14:32:00  February  \n",
       "2 2023-02-07 15:54:00  February  \n",
       "3 2023-02-07 15:01:00  February  \n",
       "4 2023-02-06 15:43:00  February  "
      ]
     },
     "execution_count": 40,
     "metadata": {},
     "output_type": "execute_result"
    }
   ],
   "source": [
    "records['month'] = records['start_time'].dt.month_name()\n",
    "\n",
    "records.head()"
   ]
  },
  {
   "cell_type": "code",
   "execution_count": 41,
   "metadata": {},
   "outputs": [
    {
     "data": {
      "image/png": "[encoded data removed]",
      "text/plain": [
       "<Figure size 640x480 with 1 Axes>"
      ]
     },
     "metadata": {},
     "output_type": "display_data"
    }
   ],
   "source": [
    "records['month'].value_counts().plot(kind = 'bar');"
   ]
  },
  {
   "attachments": {},
   "cell_type": "markdown",
   "metadata": {},
   "source": [
    "Catatan yang kita punya hanya bulan Januari dan Februari.\n",
    "\n",
    "Berikutnya mari kita lihat pengiriman dilakukan pada hari apa saja."
   ]
  },
  {
   "cell_type": "code",
   "execution_count": 42,
   "metadata": {},
   "outputs": [
    {
     "data": {
      "image/png": "[encoded data removed]",
      "text/plain": [
       "<Figure size 640x480 with 1 Axes>"
      ]
     },
     "metadata": {},
     "output_type": "display_data"
    }
   ],
   "source": [
    "records['day'] = records['start_time'].dt.day_name()\n",
    "\n",
    "records['day'].value_counts().sort_index().plot(kind = 'bar');"
   ]
  },
  {
   "attachments": {},
   "cell_type": "markdown",
   "metadata": {},
   "source": [
    "> Pengiriman terjadi hanya pada hari Senin hingga Rabu"
   ]
  },
  {
   "attachments": {},
   "cell_type": "markdown",
   "metadata": {},
   "source": [
    "### Object Datetime Transformation\n",
    "\n",
    "Selain digunakan untuk melakukan partisi, kita juga dapat melakukan transformasi object `datetime64` ke dalam format periode menggunakan syntax `to_period()`.\n",
    "\n",
    "- `.dt.to_period('D')` -> mengubah ke format **D**aily (tanggal lengkap)\n",
    "- `.dt.to_period('W')` -> mengubah ke format **W**eekly (awal dan akhir minggu)\n",
    "- `.dt.to_period('M')` -> mengubah ke format **M**onthly (year-month)\n",
    "- `.dt.to_period('Q')` -> mengubah ke format **Q**uarterly (year-quarter)\n",
    "\n",
    "Reference: [Pandas anchoring suffix docs](https://pandas.pydata.org/pandas-docs/stable/user_guide/timeseries.html#anchored-offsets)"
   ]
  },
  {
   "cell_type": "code",
   "execution_count": 43,
   "metadata": {},
   "outputs": [
    {
     "data": {
      "text/plain": [
       "0     2023-02-08\n",
       "1     2023-02-08\n",
       "2     2023-02-07\n",
       "3     2023-02-07\n",
       "4     2023-02-06\n",
       "5     2023-02-06\n",
       "6     2023-02-01\n",
       "7     2023-02-01\n",
       "8     2023-01-31\n",
       "9     2023-01-31\n",
       "10    2023-01-30\n",
       "11    2023-01-30\n",
       "12    2023-01-25\n",
       "13    2023-01-25\n",
       "14    2023-01-24\n",
       "15    2023-01-24\n",
       "16    2023-01-23\n",
       "17    2023-01-23\n",
       "18    2023-01-16\n",
       "19    2023-01-16\n",
       "20    2023-01-11\n",
       "21    2023-01-11\n",
       "Name: start_time, dtype: period[D]"
      ]
     },
     "execution_count": 43,
     "metadata": {},
     "output_type": "execute_result"
    }
   ],
   "source": [
    "# periode daily\n",
    "records['start_time'].dt.to_period('D')"
   ]
  },
  {
   "attachments": {},
   "cell_type": "markdown",
   "metadata": {},
   "source": [
    "Selanjutnya mari kita lihat ada berapa total pengiriman setiap minggunya."
   ]
  },
  {
   "cell_type": "code",
   "execution_count": 44,
   "metadata": {},
   "outputs": [
    {
     "data": {
      "image/png": "[encoded data removed]",
      "text/plain": [
       "<Figure size 640x480 with 1 Axes>"
      ]
     },
     "metadata": {},
     "output_type": "display_data"
    }
   ],
   "source": [
    "records['weekly'] = records['start_time'].dt.to_period('W')\n",
    "\n",
    "records['weekly'].value_counts().plot(kind = 'bar');"
   ]
  },
  {
   "cell_type": "code",
   "execution_count": 45,
   "metadata": {},
   "outputs": [
    {
     "data": {
      "image/png": "[encoded data removed]",
      "text/plain": [
       "<Figure size 640x480 with 1 Axes>"
      ]
     },
     "metadata": {},
     "output_type": "display_data"
    }
   ],
   "source": [
    "records['weekofyear'] = records['start_time'].dt.isocalendar().week\n",
    "\n",
    "records['weekofyear'].value_counts().plot(kind = 'bar');"
   ]
  },
  {
   "attachments": {},
   "cell_type": "markdown",
   "metadata": {},
   "source": [
    "> Note: Records paling lengkap yang tercatat terjadi pada 3 pekan, yaitu pekan 4 hingga 6 (Pekan terakhir Januari hingga pekan kedua Februari) dengan jumlah records adalah 6"
   ]
  },
  {
   "attachments": {},
   "cell_type": "markdown",
   "metadata": {},
   "source": [
    "## Conditional Subsetting\n",
    "\n",
    "Conditional subsetting bermaksud untuk mengambil sebagian data dari DataFrame berdasarkan suatu kondisi tertentu.\n",
    "\n",
    "Sintaks:\n",
    "\n",
    "```python\n",
    "df[df['column_name'] <comparison_operator> <value>]\n",
    "```"
   ]
  },
  {
   "cell_type": "code",
   "execution_count": 46,
   "metadata": {},
   "outputs": [
    {
     "data": {
      "text/html": [
       "<div>\n",
       "<style scoped>\n",
       "    .dataframe tbody tr th:only-of-type {\n",
       "        vertical-align: middle;\n",
       "    }\n",
       "\n",
       "    .dataframe tbody tr th {\n",
       "        vertical-align: top;\n",
       "    }\n",
       "\n",
       "    .dataframe thead th {\n",
       "        text-align: right;\n",
       "    }\n",
       "</style>\n",
       "<table border=\"1\" class=\"dataframe\">\n",
       "  <thead>\n",
       "    <tr style=\"text-align: right;\">\n",
       "      <th></th>\n",
       "      <th>start</th>\n",
       "      <th>end</th>\n",
       "      <th>dist</th>\n",
       "      <th>lge/100km</th>\n",
       "      <th>add_cost</th>\n",
       "      <th>start_time</th>\n",
       "      <th>end_time</th>\n",
       "      <th>month</th>\n",
       "      <th>day</th>\n",
       "      <th>weekly</th>\n",
       "      <th>weekofyear</th>\n",
       "    </tr>\n",
       "  </thead>\n",
       "  <tbody>\n",
       "    <tr>\n",
       "      <th>0</th>\n",
       "      <td>E</td>\n",
       "      <td>C</td>\n",
       "      <td>20.0</td>\n",
       "      <td>10.2</td>\n",
       "      <td>0.0</td>\n",
       "      <td>2023-02-08 15:02:00</td>\n",
       "      <td>2023-02-08 15:33:00</td>\n",
       "      <td>February</td>\n",
       "      <td>Wednesday</td>\n",
       "      <td>2023-02-06/2023-02-12</td>\n",
       "      <td>6</td>\n",
       "    </tr>\n",
       "    <tr>\n",
       "      <th>1</th>\n",
       "      <td>A</td>\n",
       "      <td>E</td>\n",
       "      <td>21.0</td>\n",
       "      <td>9.6</td>\n",
       "      <td>37.0</td>\n",
       "      <td>2023-02-08 14:02:00</td>\n",
       "      <td>2023-02-08 14:32:00</td>\n",
       "      <td>February</td>\n",
       "      <td>Wednesday</td>\n",
       "      <td>2023-02-06/2023-02-12</td>\n",
       "      <td>6</td>\n",
       "    </tr>\n",
       "    <tr>\n",
       "      <th>2</th>\n",
       "      <td>F</td>\n",
       "      <td>G</td>\n",
       "      <td>12.0</td>\n",
       "      <td>11.8</td>\n",
       "      <td>8.0</td>\n",
       "      <td>2023-02-07 15:30:00</td>\n",
       "      <td>2023-02-07 15:54:00</td>\n",
       "      <td>February</td>\n",
       "      <td>Tuesday</td>\n",
       "      <td>2023-02-06/2023-02-12</td>\n",
       "      <td>6</td>\n",
       "    </tr>\n",
       "    <tr>\n",
       "      <th>3</th>\n",
       "      <td>A</td>\n",
       "      <td>F</td>\n",
       "      <td>31.0</td>\n",
       "      <td>13.3</td>\n",
       "      <td>34.5</td>\n",
       "      <td>2023-02-07 14:13:00</td>\n",
       "      <td>2023-02-07 15:01:00</td>\n",
       "      <td>February</td>\n",
       "      <td>Tuesday</td>\n",
       "      <td>2023-02-06/2023-02-12</td>\n",
       "      <td>6</td>\n",
       "    </tr>\n",
       "    <tr>\n",
       "      <th>4</th>\n",
       "      <td>B</td>\n",
       "      <td>D</td>\n",
       "      <td>6.0</td>\n",
       "      <td>14.5</td>\n",
       "      <td>0.0</td>\n",
       "      <td>2023-02-06 15:30:00</td>\n",
       "      <td>2023-02-06 15:43:00</td>\n",
       "      <td>February</td>\n",
       "      <td>Monday</td>\n",
       "      <td>2023-02-06/2023-02-12</td>\n",
       "      <td>6</td>\n",
       "    </tr>\n",
       "  </tbody>\n",
       "</table>\n",
       "</div>"
      ],
      "text/plain": [
       "  start end  dist  lge/100km  add_cost          start_time   \n",
       "0     E   C  20.0       10.2       0.0 2023-02-08 15:02:00  \\\n",
       "1     A   E  21.0        9.6      37.0 2023-02-08 14:02:00   \n",
       "2     F   G  12.0       11.8       8.0 2023-02-07 15:30:00   \n",
       "3     A   F  31.0       13.3      34.5 2023-02-07 14:13:00   \n",
       "4     B   D   6.0       14.5       0.0 2023-02-06 15:30:00   \n",
       "\n",
       "             end_time     month        day                 weekly  weekofyear  \n",
       "0 2023-02-08 15:33:00  February  Wednesday  2023-02-06/2023-02-12           6  \n",
       "1 2023-02-08 14:32:00  February  Wednesday  2023-02-06/2023-02-12           6  \n",
       "2 2023-02-07 15:54:00  February    Tuesday  2023-02-06/2023-02-12           6  \n",
       "3 2023-02-07 15:01:00  February    Tuesday  2023-02-06/2023-02-12           6  \n",
       "4 2023-02-06 15:43:00  February     Monday  2023-02-06/2023-02-12           6  "
      ]
     },
     "execution_count": 46,
     "metadata": {},
     "output_type": "execute_result"
    }
   ],
   "source": [
    "records.head()"
   ]
  },
  {
   "attachments": {},
   "cell_type": "markdown",
   "metadata": {},
   "source": [
    "❓ Menampilkan data yang memiliki `dist` (jarak) di atas 15 km"
   ]
  },
  {
   "cell_type": "code",
   "execution_count": 47,
   "metadata": {},
   "outputs": [
    {
     "data": {
      "text/html": [
       "<div>\n",
       "<style scoped>\n",
       "    .dataframe tbody tr th:only-of-type {\n",
       "        vertical-align: middle;\n",
       "    }\n",
       "\n",
       "    .dataframe tbody tr th {\n",
       "        vertical-align: top;\n",
       "    }\n",
       "\n",
       "    .dataframe thead th {\n",
       "        text-align: right;\n",
       "    }\n",
       "</style>\n",
       "<table border=\"1\" class=\"dataframe\">\n",
       "  <thead>\n",
       "    <tr style=\"text-align: right;\">\n",
       "      <th></th>\n",
       "      <th>start</th>\n",
       "      <th>end</th>\n",
       "      <th>dist</th>\n",
       "      <th>lge/100km</th>\n",
       "      <th>add_cost</th>\n",
       "      <th>start_time</th>\n",
       "      <th>end_time</th>\n",
       "      <th>month</th>\n",
       "      <th>day</th>\n",
       "      <th>weekly</th>\n",
       "      <th>weekofyear</th>\n",
       "    </tr>\n",
       "  </thead>\n",
       "  <tbody>\n",
       "    <tr>\n",
       "      <th>1</th>\n",
       "      <td>A</td>\n",
       "      <td>E</td>\n",
       "      <td>21.0</td>\n",
       "      <td>9.6</td>\n",
       "      <td>37.0</td>\n",
       "      <td>2023-02-08 14:02:00</td>\n",
       "      <td>2023-02-08 14:32:00</td>\n",
       "      <td>February</td>\n",
       "      <td>Wednesday</td>\n",
       "      <td>2023-02-06/2023-02-12</td>\n",
       "      <td>6</td>\n",
       "    </tr>\n",
       "    <tr>\n",
       "      <th>3</th>\n",
       "      <td>A</td>\n",
       "      <td>F</td>\n",
       "      <td>31.0</td>\n",
       "      <td>13.3</td>\n",
       "      <td>34.5</td>\n",
       "      <td>2023-02-07 14:13:00</td>\n",
       "      <td>2023-02-07 15:01:00</td>\n",
       "      <td>February</td>\n",
       "      <td>Tuesday</td>\n",
       "      <td>2023-02-06/2023-02-12</td>\n",
       "      <td>6</td>\n",
       "    </tr>\n",
       "    <tr>\n",
       "      <th>5</th>\n",
       "      <td>A</td>\n",
       "      <td>B</td>\n",
       "      <td>21.0</td>\n",
       "      <td>11.8</td>\n",
       "      <td>37.0</td>\n",
       "      <td>2023-02-06 14:19:00</td>\n",
       "      <td>2023-02-06 14:57:00</td>\n",
       "      <td>February</td>\n",
       "      <td>Monday</td>\n",
       "      <td>2023-02-06/2023-02-12</td>\n",
       "      <td>6</td>\n",
       "    </tr>\n",
       "    <tr>\n",
       "      <th>7</th>\n",
       "      <td>A</td>\n",
       "      <td>F</td>\n",
       "      <td>31.0</td>\n",
       "      <td>13.7</td>\n",
       "      <td>34.5</td>\n",
       "      <td>2023-02-01 14:15:00</td>\n",
       "      <td>2023-02-01 15:05:00</td>\n",
       "      <td>February</td>\n",
       "      <td>Wednesday</td>\n",
       "      <td>2023-01-30/2023-02-05</td>\n",
       "      <td>5</td>\n",
       "    </tr>\n",
       "    <tr>\n",
       "      <th>9</th>\n",
       "      <td>A</td>\n",
       "      <td>C</td>\n",
       "      <td>37.0</td>\n",
       "      <td>7.7</td>\n",
       "      <td>16.0</td>\n",
       "      <td>2023-01-31 14:01:00</td>\n",
       "      <td>2023-01-31 14:37:00</td>\n",
       "      <td>January</td>\n",
       "      <td>Tuesday</td>\n",
       "      <td>2023-01-30/2023-02-05</td>\n",
       "      <td>5</td>\n",
       "    </tr>\n",
       "    <tr>\n",
       "      <th>11</th>\n",
       "      <td>A</td>\n",
       "      <td>G</td>\n",
       "      <td>27.0</td>\n",
       "      <td>21.9</td>\n",
       "      <td>0.0</td>\n",
       "      <td>2023-01-30 14:10:00</td>\n",
       "      <td>2023-01-30 15:35:00</td>\n",
       "      <td>January</td>\n",
       "      <td>Monday</td>\n",
       "      <td>2023-01-30/2023-02-05</td>\n",
       "      <td>5</td>\n",
       "    </tr>\n",
       "    <tr>\n",
       "      <th>13</th>\n",
       "      <td>A</td>\n",
       "      <td>B</td>\n",
       "      <td>21.0</td>\n",
       "      <td>12.1</td>\n",
       "      <td>37.0</td>\n",
       "      <td>2023-01-25 14:09:00</td>\n",
       "      <td>2023-01-25 14:49:00</td>\n",
       "      <td>January</td>\n",
       "      <td>Wednesday</td>\n",
       "      <td>2023-01-23/2023-01-29</td>\n",
       "      <td>4</td>\n",
       "    </tr>\n",
       "    <tr>\n",
       "      <th>15</th>\n",
       "      <td>A</td>\n",
       "      <td>D</td>\n",
       "      <td>24.0</td>\n",
       "      <td>11.0</td>\n",
       "      <td>37.0</td>\n",
       "      <td>2023-01-24 14:02:00</td>\n",
       "      <td>2023-01-24 14:40:00</td>\n",
       "      <td>January</td>\n",
       "      <td>Tuesday</td>\n",
       "      <td>2023-01-23/2023-01-29</td>\n",
       "      <td>4</td>\n",
       "    </tr>\n",
       "    <tr>\n",
       "      <th>16</th>\n",
       "      <td>E</td>\n",
       "      <td>F</td>\n",
       "      <td>23.0</td>\n",
       "      <td>9.3</td>\n",
       "      <td>18.5</td>\n",
       "      <td>2023-01-23 15:10:00</td>\n",
       "      <td>2023-01-23 15:42:00</td>\n",
       "      <td>January</td>\n",
       "      <td>Monday</td>\n",
       "      <td>2023-01-23/2023-01-29</td>\n",
       "      <td>4</td>\n",
       "    </tr>\n",
       "    <tr>\n",
       "      <th>17</th>\n",
       "      <td>A</td>\n",
       "      <td>E</td>\n",
       "      <td>21.0</td>\n",
       "      <td>10.0</td>\n",
       "      <td>37.0</td>\n",
       "      <td>2023-01-23 14:05:00</td>\n",
       "      <td>2023-01-23 14:41:00</td>\n",
       "      <td>January</td>\n",
       "      <td>Monday</td>\n",
       "      <td>2023-01-23/2023-01-29</td>\n",
       "      <td>4</td>\n",
       "    </tr>\n",
       "    <tr>\n",
       "      <th>19</th>\n",
       "      <td>A</td>\n",
       "      <td>E</td>\n",
       "      <td>21.0</td>\n",
       "      <td>9.8</td>\n",
       "      <td>37.0</td>\n",
       "      <td>2023-01-16 14:01:00</td>\n",
       "      <td>2023-01-16 14:32:00</td>\n",
       "      <td>January</td>\n",
       "      <td>Monday</td>\n",
       "      <td>2023-01-16/2023-01-22</td>\n",
       "      <td>3</td>\n",
       "    </tr>\n",
       "    <tr>\n",
       "      <th>21</th>\n",
       "      <td>A</td>\n",
       "      <td>F</td>\n",
       "      <td>31.0</td>\n",
       "      <td>13.2</td>\n",
       "      <td>34.5</td>\n",
       "      <td>2023-01-11 14:07:00</td>\n",
       "      <td>2023-01-11 14:55:00</td>\n",
       "      <td>January</td>\n",
       "      <td>Wednesday</td>\n",
       "      <td>2023-01-09/2023-01-15</td>\n",
       "      <td>2</td>\n",
       "    </tr>\n",
       "  </tbody>\n",
       "</table>\n",
       "</div>"
      ],
      "text/plain": [
       "   start end  dist  lge/100km  add_cost          start_time   \n",
       "1      A   E  21.0        9.6      37.0 2023-02-08 14:02:00  \\\n",
       "3      A   F  31.0       13.3      34.5 2023-02-07 14:13:00   \n",
       "5      A   B  21.0       11.8      37.0 2023-02-06 14:19:00   \n",
       "7      A   F  31.0       13.7      34.5 2023-02-01 14:15:00   \n",
       "9      A   C  37.0        7.7      16.0 2023-01-31 14:01:00   \n",
       "11     A   G  27.0       21.9       0.0 2023-01-30 14:10:00   \n",
       "13     A   B  21.0       12.1      37.0 2023-01-25 14:09:00   \n",
       "15     A   D  24.0       11.0      37.0 2023-01-24 14:02:00   \n",
       "16     E   F  23.0        9.3      18.5 2023-01-23 15:10:00   \n",
       "17     A   E  21.0       10.0      37.0 2023-01-23 14:05:00   \n",
       "19     A   E  21.0        9.8      37.0 2023-01-16 14:01:00   \n",
       "21     A   F  31.0       13.2      34.5 2023-01-11 14:07:00   \n",
       "\n",
       "              end_time     month        day                 weekly  weekofyear  \n",
       "1  2023-02-08 14:32:00  February  Wednesday  2023-02-06/2023-02-12           6  \n",
       "3  2023-02-07 15:01:00  February    Tuesday  2023-02-06/2023-02-12           6  \n",
       "5  2023-02-06 14:57:00  February     Monday  2023-02-06/2023-02-12           6  \n",
       "7  2023-02-01 15:05:00  February  Wednesday  2023-01-30/2023-02-05           5  \n",
       "9  2023-01-31 14:37:00   January    Tuesday  2023-01-30/2023-02-05           5  \n",
       "11 2023-01-30 15:35:00   January     Monday  2023-01-30/2023-02-05           5  \n",
       "13 2023-01-25 14:49:00   January  Wednesday  2023-01-23/2023-01-29           4  \n",
       "15 2023-01-24 14:40:00   January    Tuesday  2023-01-23/2023-01-29           4  \n",
       "16 2023-01-23 15:42:00   January     Monday  2023-01-23/2023-01-29           4  \n",
       "17 2023-01-23 14:41:00   January     Monday  2023-01-23/2023-01-29           4  \n",
       "19 2023-01-16 14:32:00   January     Monday  2023-01-16/2023-01-22           3  \n",
       "21 2023-01-11 14:55:00   January  Wednesday  2023-01-09/2023-01-15           2  "
      ]
     },
     "execution_count": 47,
     "metadata": {},
     "output_type": "execute_result"
    }
   ],
   "source": [
    "# Code here\n",
    "records[records['dist'] > 20]"
   ]
  },
  {
   "attachments": {},
   "cell_type": "markdown",
   "metadata": {},
   "source": [
    "> Note: Jarak dari lokasi A ke semua lokasi rata-rata di atas 20km"
   ]
  },
  {
   "attachments": {},
   "cell_type": "markdown",
   "metadata": {},
   "source": [
    "❓ Menampilkan data pada week ke-6."
   ]
  },
  {
   "cell_type": "code",
   "execution_count": 48,
   "metadata": {},
   "outputs": [
    {
     "data": {
      "text/html": [
       "<div>\n",
       "<style scoped>\n",
       "    .dataframe tbody tr th:only-of-type {\n",
       "        vertical-align: middle;\n",
       "    }\n",
       "\n",
       "    .dataframe tbody tr th {\n",
       "        vertical-align: top;\n",
       "    }\n",
       "\n",
       "    .dataframe thead th {\n",
       "        text-align: right;\n",
       "    }\n",
       "</style>\n",
       "<table border=\"1\" class=\"dataframe\">\n",
       "  <thead>\n",
       "    <tr style=\"text-align: right;\">\n",
       "      <th></th>\n",
       "      <th>start</th>\n",
       "      <th>end</th>\n",
       "      <th>dist</th>\n",
       "      <th>lge/100km</th>\n",
       "      <th>add_cost</th>\n",
       "      <th>start_time</th>\n",
       "      <th>end_time</th>\n",
       "      <th>month</th>\n",
       "      <th>day</th>\n",
       "      <th>weekly</th>\n",
       "      <th>weekofyear</th>\n",
       "    </tr>\n",
       "  </thead>\n",
       "  <tbody>\n",
       "    <tr>\n",
       "      <th>0</th>\n",
       "      <td>E</td>\n",
       "      <td>C</td>\n",
       "      <td>20.0</td>\n",
       "      <td>10.2</td>\n",
       "      <td>0.0</td>\n",
       "      <td>2023-02-08 15:02:00</td>\n",
       "      <td>2023-02-08 15:33:00</td>\n",
       "      <td>February</td>\n",
       "      <td>Wednesday</td>\n",
       "      <td>2023-02-06/2023-02-12</td>\n",
       "      <td>6</td>\n",
       "    </tr>\n",
       "    <tr>\n",
       "      <th>1</th>\n",
       "      <td>A</td>\n",
       "      <td>E</td>\n",
       "      <td>21.0</td>\n",
       "      <td>9.6</td>\n",
       "      <td>37.0</td>\n",
       "      <td>2023-02-08 14:02:00</td>\n",
       "      <td>2023-02-08 14:32:00</td>\n",
       "      <td>February</td>\n",
       "      <td>Wednesday</td>\n",
       "      <td>2023-02-06/2023-02-12</td>\n",
       "      <td>6</td>\n",
       "    </tr>\n",
       "    <tr>\n",
       "      <th>2</th>\n",
       "      <td>F</td>\n",
       "      <td>G</td>\n",
       "      <td>12.0</td>\n",
       "      <td>11.8</td>\n",
       "      <td>8.0</td>\n",
       "      <td>2023-02-07 15:30:00</td>\n",
       "      <td>2023-02-07 15:54:00</td>\n",
       "      <td>February</td>\n",
       "      <td>Tuesday</td>\n",
       "      <td>2023-02-06/2023-02-12</td>\n",
       "      <td>6</td>\n",
       "    </tr>\n",
       "    <tr>\n",
       "      <th>3</th>\n",
       "      <td>A</td>\n",
       "      <td>F</td>\n",
       "      <td>31.0</td>\n",
       "      <td>13.3</td>\n",
       "      <td>34.5</td>\n",
       "      <td>2023-02-07 14:13:00</td>\n",
       "      <td>2023-02-07 15:01:00</td>\n",
       "      <td>February</td>\n",
       "      <td>Tuesday</td>\n",
       "      <td>2023-02-06/2023-02-12</td>\n",
       "      <td>6</td>\n",
       "    </tr>\n",
       "    <tr>\n",
       "      <th>4</th>\n",
       "      <td>B</td>\n",
       "      <td>D</td>\n",
       "      <td>6.0</td>\n",
       "      <td>14.5</td>\n",
       "      <td>0.0</td>\n",
       "      <td>2023-02-06 15:30:00</td>\n",
       "      <td>2023-02-06 15:43:00</td>\n",
       "      <td>February</td>\n",
       "      <td>Monday</td>\n",
       "      <td>2023-02-06/2023-02-12</td>\n",
       "      <td>6</td>\n",
       "    </tr>\n",
       "    <tr>\n",
       "      <th>5</th>\n",
       "      <td>A</td>\n",
       "      <td>B</td>\n",
       "      <td>21.0</td>\n",
       "      <td>11.8</td>\n",
       "      <td>37.0</td>\n",
       "      <td>2023-02-06 14:19:00</td>\n",
       "      <td>2023-02-06 14:57:00</td>\n",
       "      <td>February</td>\n",
       "      <td>Monday</td>\n",
       "      <td>2023-02-06/2023-02-12</td>\n",
       "      <td>6</td>\n",
       "    </tr>\n",
       "  </tbody>\n",
       "</table>\n",
       "</div>"
      ],
      "text/plain": [
       "  start end  dist  lge/100km  add_cost          start_time   \n",
       "0     E   C  20.0       10.2       0.0 2023-02-08 15:02:00  \\\n",
       "1     A   E  21.0        9.6      37.0 2023-02-08 14:02:00   \n",
       "2     F   G  12.0       11.8       8.0 2023-02-07 15:30:00   \n",
       "3     A   F  31.0       13.3      34.5 2023-02-07 14:13:00   \n",
       "4     B   D   6.0       14.5       0.0 2023-02-06 15:30:00   \n",
       "5     A   B  21.0       11.8      37.0 2023-02-06 14:19:00   \n",
       "\n",
       "             end_time     month        day                 weekly  weekofyear  \n",
       "0 2023-02-08 15:33:00  February  Wednesday  2023-02-06/2023-02-12           6  \n",
       "1 2023-02-08 14:32:00  February  Wednesday  2023-02-06/2023-02-12           6  \n",
       "2 2023-02-07 15:54:00  February    Tuesday  2023-02-06/2023-02-12           6  \n",
       "3 2023-02-07 15:01:00  February    Tuesday  2023-02-06/2023-02-12           6  \n",
       "4 2023-02-06 15:43:00  February     Monday  2023-02-06/2023-02-12           6  \n",
       "5 2023-02-06 14:57:00  February     Monday  2023-02-06/2023-02-12           6  "
      ]
     },
     "execution_count": 48,
     "metadata": {},
     "output_type": "execute_result"
    }
   ],
   "source": [
    "records[records['weekofyear'] == 6]"
   ]
  },
  {
   "attachments": {},
   "cell_type": "markdown",
   "metadata": {},
   "source": [
    "❓ Menampilkan data pada week ke-6 dan hari Senin"
   ]
  },
  {
   "cell_type": "code",
   "execution_count": 49,
   "metadata": {},
   "outputs": [
    {
     "data": {
      "text/html": [
       "<div>\n",
       "<style scoped>\n",
       "    .dataframe tbody tr th:only-of-type {\n",
       "        vertical-align: middle;\n",
       "    }\n",
       "\n",
       "    .dataframe tbody tr th {\n",
       "        vertical-align: top;\n",
       "    }\n",
       "\n",
       "    .dataframe thead th {\n",
       "        text-align: right;\n",
       "    }\n",
       "</style>\n",
       "<table border=\"1\" class=\"dataframe\">\n",
       "  <thead>\n",
       "    <tr style=\"text-align: right;\">\n",
       "      <th></th>\n",
       "      <th>start</th>\n",
       "      <th>end</th>\n",
       "      <th>dist</th>\n",
       "      <th>lge/100km</th>\n",
       "      <th>add_cost</th>\n",
       "      <th>start_time</th>\n",
       "      <th>end_time</th>\n",
       "      <th>month</th>\n",
       "      <th>day</th>\n",
       "      <th>weekly</th>\n",
       "      <th>weekofyear</th>\n",
       "    </tr>\n",
       "  </thead>\n",
       "  <tbody>\n",
       "    <tr>\n",
       "      <th>4</th>\n",
       "      <td>B</td>\n",
       "      <td>D</td>\n",
       "      <td>6.0</td>\n",
       "      <td>14.5</td>\n",
       "      <td>0.0</td>\n",
       "      <td>2023-02-06 15:30:00</td>\n",
       "      <td>2023-02-06 15:43:00</td>\n",
       "      <td>February</td>\n",
       "      <td>Monday</td>\n",
       "      <td>2023-02-06/2023-02-12</td>\n",
       "      <td>6</td>\n",
       "    </tr>\n",
       "    <tr>\n",
       "      <th>5</th>\n",
       "      <td>A</td>\n",
       "      <td>B</td>\n",
       "      <td>21.0</td>\n",
       "      <td>11.8</td>\n",
       "      <td>37.0</td>\n",
       "      <td>2023-02-06 14:19:00</td>\n",
       "      <td>2023-02-06 14:57:00</td>\n",
       "      <td>February</td>\n",
       "      <td>Monday</td>\n",
       "      <td>2023-02-06/2023-02-12</td>\n",
       "      <td>6</td>\n",
       "    </tr>\n",
       "  </tbody>\n",
       "</table>\n",
       "</div>"
      ],
      "text/plain": [
       "  start end  dist  lge/100km  add_cost          start_time   \n",
       "4     B   D   6.0       14.5       0.0 2023-02-06 15:30:00  \\\n",
       "5     A   B  21.0       11.8      37.0 2023-02-06 14:19:00   \n",
       "\n",
       "             end_time     month     day                 weekly  weekofyear  \n",
       "4 2023-02-06 15:43:00  February  Monday  2023-02-06/2023-02-12           6  \n",
       "5 2023-02-06 14:57:00  February  Monday  2023-02-06/2023-02-12           6  "
      ]
     },
     "execution_count": 49,
     "metadata": {},
     "output_type": "execute_result"
    }
   ],
   "source": [
    "records[(records['weekofyear'] == 6) & (records['day'] == 'Monday')]"
   ]
  },
  {
   "attachments": {},
   "cell_type": "markdown",
   "metadata": {},
   "source": [
    "> Notes: Jika kita perhatikan, jalur distribusi pada hari Senin pekan ke-6 berangkat dari A (warehouse) menuju B  (Thamrin City) kemudian dari B menuju D (Kota Kasabalanka).\n",
    "\n",
    "Rute: A - B - D"
   ]
  },
  {
   "attachments": {},
   "cell_type": "markdown",
   "metadata": {},
   "source": [
    "❓ Cobalah untuk mencari jenis rute yang lain"
   ]
  },
  {
   "cell_type": "code",
   "execution_count": null,
   "metadata": {},
   "outputs": [],
   "source": [
    "# Code here\n"
   ]
  },
  {
   "attachments": {},
   "cell_type": "markdown",
   "metadata": {},
   "source": [
    "Kita mempunyai data records distribusi kita. Apakah terdapat cara untuk menggambarkan hubungan antar lokasi?\n",
    "\n",
    "Data yang saling terkoneksi (seperti data distribusi kita) dapat dihubungkan ke dalam graf. Lalu apa itu graf?"
   ]
  },
  {
   "attachments": {},
   "cell_type": "markdown",
   "metadata": {},
   "source": [
    "# Teori Graf"
   ]
  },
  {
   "attachments": {},
   "cell_type": "markdown",
   "metadata": {},
   "source": [
    "Teori graf adalah sebuah konsep matematika di mana digunakan untuk memodelkan hubungan antar objek. Hubungan ini direpresentasikan ke dalam sebuah **graf**.\n",
    "\n",
    "Graf biasanya digunakan untuk menyatakan sebuah flow dari proses/flow data. Contoh implementasi teori graf yaitu:\n",
    "- Optimalisasi rute, seperti rute pengiriman (yang dibahas notebook ini)\n",
    "- Pemodelan jaringan yang kompleks, seperti jaringan sosial (*social networks*)\n",
    "- Pemodelan penyebaran penyakit menular, seperti Covid.\n",
    "\n",
    "Untuk memodelkan hubungan antar objek, Graf terdiri dari komponen *nodes* yang menyatakan objek dan *edges* yang menyatakan hubungan antar objek. Mari kita telaah lebih dalam mengenai *nodes* dan *edges*"
   ]
  },
  {
   "attachments": {},
   "cell_type": "markdown",
   "metadata": {},
   "source": [
    "### Nodes & Edges\n",
    "\n",
    "Graf (graph) adalah kumpulan dari *nodes* (simpul/sudut) dan *edges* (sisi) yang menggambarkan hubungan:\n",
    "- *Nodes* adalah simpul/sudut yang merepresentasikan object.\n",
    "- *Edges* menggambarkan koneksi antar objek/*nodes*\n",
    "\n",
    "Sesuatu yang memiliki hubungan antar objek dapat direpresentasikan dengan graph, seperti jarak antar kota, jaringan telfon, hingga hubungan antar akun di sosial media.<sup>[[1](https://www.maths.ed.ac.uk/~v1ranick/papers/wilsongraph.pdf)]</sup>\n",
    "\n",
    "Contoh visualisasi graph seperti berikut\n",
    "\n",
    "![](assets/graph_1.png)"
   ]
  },
  {
   "attachments": {},
   "cell_type": "markdown",
   "metadata": {},
   "source": [
    "**💡 NOTES**\n",
    "\n",
    "Informasi dari Graf di atas:\n",
    "\n",
    "- Nodes: [A, B, C, D, E]\n",
    "- Edges: [AC, AB, BD, BE, DE, EC]"
   ]
  },
  {
   "attachments": {},
   "cell_type": "markdown",
   "metadata": {},
   "source": [
    "💬 **Diskusi**: Apakah terdapat hubungan antara nodes A dan nodes E? Jika Antar node menyatakan hubungan antar kota, bagaimana rute dari kota A ke kota E?"
   ]
  },
  {
   "attachments": {},
   "cell_type": "markdown",
   "metadata": {},
   "source": [
    "> Jawaban:"
   ]
  },
  {
   "attachments": {},
   "cell_type": "markdown",
   "metadata": {},
   "source": [
    "### Graf Unweighted & Graf Weighted"
   ]
  },
  {
   "attachments": {},
   "cell_type": "markdown",
   "metadata": {},
   "source": [
    "Graf terbagi menjadi dua jenis, yaitu *unweighted graph* dan *weighted graph*:\n",
    "\n",
    "![](assets/graph_2.png)\n",
    "\n",
    "- *Unweighted Graph* \n",
    "*Unweighted Graph* adalah jenis graph yang merepresentasikan apakah antar *node* memiliki hubungan atau tidak.\n",
    "\n",
    "- *Weighted Graph* \n",
    "*Weighted Graph* adalah pengembangan dari *unweighted graph* dimana setiap *edges* memiliki *weight* (beban). *Weight* ini sangat berguna untuk merepresentasikan hubungan antar objek yang memiliki nilai numerik, seperti hubungan jarak antar kota, waktu tempuh, atau biaya antar objeknya."
   ]
  },
  {
   "attachments": {},
   "cell_type": "markdown",
   "metadata": {},
   "source": [
    "💬 **Diskusi**: Pada weighted graph di atas, jika kita ingin berpergian dari kota A ke kota E dan weight menggambarkan waktu tempuh ke masing-masing kota. Maka rute apa memiliki waktu tempuh tercepat?"
   ]
  },
  {
   "attachments": {},
   "cell_type": "markdown",
   "metadata": {},
   "source": [
    "> Jawaban:"
   ]
  },
  {
   "attachments": {},
   "cell_type": "markdown",
   "metadata": {},
   "source": [
    "# Implementasi Teori Graf di Python"
   ]
  },
  {
   "attachments": {},
   "cell_type": "markdown",
   "metadata": {},
   "source": [
    "## Networkx"
   ]
  },
  {
   "attachments": {},
   "cell_type": "markdown",
   "metadata": {},
   "source": [
    "Setelah mengetahui intuisi dari teori graf, selanjutnya kita akan menerapkan teori graf di python menggunakan library `networkx`.\n",
    "\n",
    "`networkx` adalah salah satu *package*/*library* pada Python yang berfungsi untuk mengeksplorasi dan menganalisis jaringan dan algoritma jaringan. Networkx menyediakan berbagai jenis graf untuk menggambarkan jaringan termasuk *weighted* dan *unweighted graph*.\n",
    "\n",
    "> Lebih lengkapnya silahkan kunjungi [official documentation](https://networkx.org/documentation/latest/reference/index.html)\n",
    "\n",
    "Untuk menggunakan `networkx`, kita perlu import terlebih dahulu library dengan cara berikut ini:"
   ]
  },
  {
   "cell_type": "code",
   "execution_count": 50,
   "metadata": {},
   "outputs": [
    {
     "name": "stdout",
     "output_type": "stream",
     "text": [
      "3.1\n"
     ]
    }
   ],
   "source": [
    "import networkx as nx\n",
    "print(nx.__version__)"
   ]
  },
  {
   "attachments": {},
   "cell_type": "markdown",
   "metadata": {},
   "source": [
    "Untuk membuat graf, kita dapat memanggil objek `Graph()`.\n",
    "\n",
    "Kemudian, untuk menambahkan nodes dan hubungan antar nodes, dapat menggunkan method `add_edges()`.\n",
    "\n",
    "**Sintaks**\n",
    "```python\n",
    "# Objek Graph\n",
    "G = nx.Graph()\n",
    "# tanpa weight\n",
    "G.add_edge(u_of_edge, v_of_edge)\n",
    "# dengan weight\n",
    "G.add_edge(u_of_edge, v_of_edge, weight = value)\n",
    "```\n",
    "\n",
    "Ket:\n",
    "- u_of_edge = node 1\n",
    "- v_of_edge = node 2\n",
    "- weight = diisi dengan nilai numerik, default `None`"
   ]
  },
  {
   "cell_type": "code",
   "execution_count": 266,
   "metadata": {},
   "outputs": [],
   "source": [
    "# Objek graph\n",
    "G = nx.Graph()\n",
    "# Menambahkan hubungan node A dan node B\n",
    "G.add_edge('A', 'B')\n",
    "# A - C\n",
    "G.add_edge('A', 'C')\n",
    "# B - D\n",
    "G.add_edge('B', 'D')\n",
    "# B - E\n",
    "G.add_edge('B', 'E')\n",
    "# C - E\n",
    "G.add_edge('C', 'E')\n",
    "# D - E\n",
    "G.add_edge('D', 'E')"
   ]
  },
  {
   "attachments": {},
   "cell_type": "markdown",
   "metadata": {},
   "source": [
    "Untuk melakukan visualisasi, kita dapat menggunakan `visualize_graph(objek_graph)`"
   ]
  },
  {
   "cell_type": "code",
   "execution_count": 267,
   "metadata": {},
   "outputs": [
    {
     "data": {
      "image/png": "[encoded data removed]",
      "text/plain": [
       "<Figure size 640x480 with 1 Axes>"
      ]
     },
     "metadata": {},
     "output_type": "display_data"
    }
   ],
   "source": [
    "from helper import graph\n",
    "\n",
    "graph.visualize_graph(G, 'spectral')"
   ]
  },
  {
   "attachments": {},
   "cell_type": "markdown",
   "metadata": {},
   "source": [
    "❓ Mari kita membuat graf pada objek `G_w` dengan weight"
   ]
  },
  {
   "cell_type": "code",
   "execution_count": 268,
   "metadata": {},
   "outputs": [
    {
     "data": {
      "image/png": "[encoded data removed]",
      "text/plain": [
       "<Figure size 640x480 with 1 Axes>"
      ]
     },
     "metadata": {},
     "output_type": "display_data"
    }
   ],
   "source": [
    "# Objek graph\n",
    "G_w = nx.Graph()\n",
    "# Menambahkan hubungan node A dan node B dengan weight = 1\n",
    "G_w.add_edge('A', 'B', weight = 1)\n",
    "# A - C, weight = 1\n",
    "G_w.add_edge('A', 'C', weight = 5)\n",
    "# B - D, weight = 1\n",
    "G_w.add_edge('B', 'D', weight = 3)\n",
    "# B - E, weight = 2\n",
    "G_w.add_edge('B', 'E', weight = 2)\n",
    "# C - E, weight = 3\n",
    "G_w.add_edge('C', 'E', weight = 3)\n",
    "# D - E, weight = 3\n",
    "G_w.add_edge('D', 'E', weight = 3)\n",
    "\n",
    "graph.visualize_graph(G_w, 'spectral')"
   ]
  },
  {
   "attachments": {},
   "cell_type": "markdown",
   "metadata": {},
   "source": [
    "❓ Mari kita membuat unweighted graph untuk jaringan distribusi kita"
   ]
  },
  {
   "cell_type": "code",
   "execution_count": 269,
   "metadata": {},
   "outputs": [
    {
     "data": {
      "text/html": [
       "<div>\n",
       "<style scoped>\n",
       "    .dataframe tbody tr th:only-of-type {\n",
       "        vertical-align: middle;\n",
       "    }\n",
       "\n",
       "    .dataframe tbody tr th {\n",
       "        vertical-align: top;\n",
       "    }\n",
       "\n",
       "    .dataframe thead th {\n",
       "        text-align: right;\n",
       "    }\n",
       "</style>\n",
       "<table border=\"1\" class=\"dataframe\">\n",
       "  <thead>\n",
       "    <tr style=\"text-align: right;\">\n",
       "      <th></th>\n",
       "      <th>start</th>\n",
       "      <th>end</th>\n",
       "    </tr>\n",
       "  </thead>\n",
       "  <tbody>\n",
       "    <tr>\n",
       "      <th>0</th>\n",
       "      <td>E</td>\n",
       "      <td>C</td>\n",
       "    </tr>\n",
       "    <tr>\n",
       "      <th>1</th>\n",
       "      <td>A</td>\n",
       "      <td>E</td>\n",
       "    </tr>\n",
       "    <tr>\n",
       "      <th>2</th>\n",
       "      <td>F</td>\n",
       "      <td>G</td>\n",
       "    </tr>\n",
       "    <tr>\n",
       "      <th>3</th>\n",
       "      <td>A</td>\n",
       "      <td>F</td>\n",
       "    </tr>\n",
       "    <tr>\n",
       "      <th>4</th>\n",
       "      <td>B</td>\n",
       "      <td>D</td>\n",
       "    </tr>\n",
       "  </tbody>\n",
       "</table>\n",
       "</div>"
      ],
      "text/plain": [
       "  start end\n",
       "0     E   C\n",
       "1     A   E\n",
       "2     F   G\n",
       "3     A   F\n",
       "4     B   D"
      ]
     },
     "execution_count": 269,
     "metadata": {},
     "output_type": "execute_result"
    }
   ],
   "source": [
    "data = records[['start', 'end']]\n",
    "\n",
    "data.head()"
   ]
  },
  {
   "cell_type": "code",
   "execution_count": 270,
   "metadata": {},
   "outputs": [
    {
     "data": {
      "image/png": "[encoded data removed]",
      "text/plain": [
       "<Figure size 640x480 with 1 Axes>"
      ]
     },
     "metadata": {},
     "output_type": "display_data"
    }
   ],
   "source": [
    "Graf_U = nx.Graph()\n",
    "\n",
    "# Iterasi setiap kolom\n",
    "for ind in range(len(data)):\n",
    "    row = data.iloc[ind].tolist()\n",
    "    Graf_U.add_edge(row[0], row[1])\n",
    "\n",
    "graph.visualize_graph(Graf_U)"
   ]
  },
  {
   "attachments": {},
   "cell_type": "markdown",
   "metadata": {},
   "source": [
    "💬 **Diskusi**: Pada unweighted graph di atas, temukan 2 pasangan lokasi yang tidak mempunyai hubungan langsung"
   ]
  },
  {
   "attachments": {},
   "cell_type": "markdown",
   "metadata": {},
   "source": [
    "> Jawaban:"
   ]
  },
  {
   "attachments": {},
   "cell_type": "markdown",
   "metadata": {},
   "source": [
    "## Studi Kasus\n",
    "\n",
    "Kita adalah seorang data saintis di sebuah perusahaan penghasil makanan dingin. Kita diberikan data `records` yang berisi informasi pengiriman antar lokasinya.\n",
    "\n",
    "**Recall data records**"
   ]
  },
  {
   "cell_type": "code",
   "execution_count": 56,
   "metadata": {},
   "outputs": [
    {
     "data": {
      "text/html": [
       "<div>\n",
       "<style scoped>\n",
       "    .dataframe tbody tr th:only-of-type {\n",
       "        vertical-align: middle;\n",
       "    }\n",
       "\n",
       "    .dataframe tbody tr th {\n",
       "        vertical-align: top;\n",
       "    }\n",
       "\n",
       "    .dataframe thead th {\n",
       "        text-align: right;\n",
       "    }\n",
       "</style>\n",
       "<table border=\"1\" class=\"dataframe\">\n",
       "  <thead>\n",
       "    <tr style=\"text-align: right;\">\n",
       "      <th></th>\n",
       "      <th>start</th>\n",
       "      <th>end</th>\n",
       "      <th>dist</th>\n",
       "      <th>lge/100km</th>\n",
       "      <th>add_cost</th>\n",
       "      <th>start_time</th>\n",
       "      <th>end_time</th>\n",
       "      <th>month</th>\n",
       "      <th>day</th>\n",
       "      <th>weekly</th>\n",
       "      <th>weekofyear</th>\n",
       "    </tr>\n",
       "  </thead>\n",
       "  <tbody>\n",
       "    <tr>\n",
       "      <th>0</th>\n",
       "      <td>E</td>\n",
       "      <td>C</td>\n",
       "      <td>20.0</td>\n",
       "      <td>10.2</td>\n",
       "      <td>0.0</td>\n",
       "      <td>2023-02-08 15:02:00</td>\n",
       "      <td>2023-02-08 15:33:00</td>\n",
       "      <td>February</td>\n",
       "      <td>Wednesday</td>\n",
       "      <td>2023-02-06/2023-02-12</td>\n",
       "      <td>6</td>\n",
       "    </tr>\n",
       "    <tr>\n",
       "      <th>1</th>\n",
       "      <td>A</td>\n",
       "      <td>E</td>\n",
       "      <td>21.0</td>\n",
       "      <td>9.6</td>\n",
       "      <td>37.0</td>\n",
       "      <td>2023-02-08 14:02:00</td>\n",
       "      <td>2023-02-08 14:32:00</td>\n",
       "      <td>February</td>\n",
       "      <td>Wednesday</td>\n",
       "      <td>2023-02-06/2023-02-12</td>\n",
       "      <td>6</td>\n",
       "    </tr>\n",
       "    <tr>\n",
       "      <th>2</th>\n",
       "      <td>F</td>\n",
       "      <td>G</td>\n",
       "      <td>12.0</td>\n",
       "      <td>11.8</td>\n",
       "      <td>8.0</td>\n",
       "      <td>2023-02-07 15:30:00</td>\n",
       "      <td>2023-02-07 15:54:00</td>\n",
       "      <td>February</td>\n",
       "      <td>Tuesday</td>\n",
       "      <td>2023-02-06/2023-02-12</td>\n",
       "      <td>6</td>\n",
       "    </tr>\n",
       "    <tr>\n",
       "      <th>3</th>\n",
       "      <td>A</td>\n",
       "      <td>F</td>\n",
       "      <td>31.0</td>\n",
       "      <td>13.3</td>\n",
       "      <td>34.5</td>\n",
       "      <td>2023-02-07 14:13:00</td>\n",
       "      <td>2023-02-07 15:01:00</td>\n",
       "      <td>February</td>\n",
       "      <td>Tuesday</td>\n",
       "      <td>2023-02-06/2023-02-12</td>\n",
       "      <td>6</td>\n",
       "    </tr>\n",
       "    <tr>\n",
       "      <th>4</th>\n",
       "      <td>B</td>\n",
       "      <td>D</td>\n",
       "      <td>6.0</td>\n",
       "      <td>14.5</td>\n",
       "      <td>0.0</td>\n",
       "      <td>2023-02-06 15:30:00</td>\n",
       "      <td>2023-02-06 15:43:00</td>\n",
       "      <td>February</td>\n",
       "      <td>Monday</td>\n",
       "      <td>2023-02-06/2023-02-12</td>\n",
       "      <td>6</td>\n",
       "    </tr>\n",
       "  </tbody>\n",
       "</table>\n",
       "</div>"
      ],
      "text/plain": [
       "  start end  dist  lge/100km  add_cost          start_time   \n",
       "0     E   C  20.0       10.2       0.0 2023-02-08 15:02:00  \\\n",
       "1     A   E  21.0        9.6      37.0 2023-02-08 14:02:00   \n",
       "2     F   G  12.0       11.8       8.0 2023-02-07 15:30:00   \n",
       "3     A   F  31.0       13.3      34.5 2023-02-07 14:13:00   \n",
       "4     B   D   6.0       14.5       0.0 2023-02-06 15:30:00   \n",
       "\n",
       "             end_time     month        day                 weekly  weekofyear  \n",
       "0 2023-02-08 15:33:00  February  Wednesday  2023-02-06/2023-02-12           6  \n",
       "1 2023-02-08 14:32:00  February  Wednesday  2023-02-06/2023-02-12           6  \n",
       "2 2023-02-07 15:54:00  February    Tuesday  2023-02-06/2023-02-12           6  \n",
       "3 2023-02-07 15:01:00  February    Tuesday  2023-02-06/2023-02-12           6  \n",
       "4 2023-02-06 15:43:00  February     Monday  2023-02-06/2023-02-12           6  "
      ]
     },
     "execution_count": 56,
     "metadata": {},
     "output_type": "execute_result"
    }
   ],
   "source": [
    "records.head()"
   ]
  },
  {
   "attachments": {},
   "cell_type": "markdown",
   "metadata": {},
   "source": [
    "**Deskripsi Data:**\n",
    "\n",
    "Data `records` merupakan kumpulan catatan pengiriman distribusi. Berikut informasi dari setiap kolom:\n",
    "\n",
    "- `start`: Lokasi berangkat\n",
    "- `end`: Lokasi tujuan\n",
    "- `dist`: Jarak tempuh (satuan km)\n",
    "- `lge/100km`: Penggunaan liter bensin / 100 km\n",
    "- `add_cost`: Tambahan biaya dalam satuan Ribu Rupiah (Biaya Tol)\n",
    "- `start_time`: Waktu berangkat\n",
    "- `end_time`: Waktu tiba"
   ]
  },
  {
   "attachments": {},
   "cell_type": "markdown",
   "metadata": {},
   "source": [
    "💬 **Diskusi**: Bagaimana cara membaca data pada baris pertama? Cerita apa yang bisa diambil?"
   ]
  },
  {
   "attachments": {},
   "cell_type": "markdown",
   "metadata": {},
   "source": [
    "> Jawaban:"
   ]
  },
  {
   "attachments": {},
   "cell_type": "markdown",
   "metadata": {},
   "source": [
    "### BATASAN MASALAH\n",
    "\n",
    "Selain informasi dari data ini, kita juga mengetahui beberapa informasi antara lain:\n",
    "\n",
    "**Aturan**\n",
    "\n",
    "- A (warehouse) adalah pusat penyimpanan. Setiap jalur distribusi berawal dari titik A\n",
    "\n",
    "- Kebutuhan produk perminggu setiap lokasi adalah 1 ton.\n",
    "\n",
    "- Truk dapat mengangkut produk dengan berat maksimal 2,2 ton.\n",
    "\n",
    "- Waktu drop di setiap lokasi adalah 30 menit\n",
    "\n",
    "**Biaya:**\n",
    "\n",
    "- Bahan bakar yang digunakan truk adalah Dexlite (Rp14,950/liter)\n",
    "\n",
    "- Biaya pengeluaran mesin pendingin truk adalah Rp9,000/jam"
   ]
  },
  {
   "attachments": {},
   "cell_type": "markdown",
   "metadata": {},
   "source": [
    "> ⚠ Disclaimer: Bisnis problem dan data bersifat *dummy* yang terinspirasi dari hasil penelitian Liang, Wu dan Sun <sup>[[2](https://doi.org/10.2991/asei-15.2015.145)]</sup> dimana mencari rute optimal pada kasus cold chain logistics menggunakan Particle Swarm Optimization (PSO). Inspirasi lain juga berasal dari artikel Samir Saci <sup>[[3](https://towardsdatascience.com/transportation-network-analysis-with-graph-theory-55eceb7e4de4)]</sup> yang melakukan analisis jaringan distribusi menggunakan Toeri Graf."
   ]
  },
  {
   "attachments": {},
   "cell_type": "markdown",
   "metadata": {},
   "source": [
    "### Business Question"
   ]
  },
  {
   "attachments": {},
   "cell_type": "markdown",
   "metadata": {},
   "source": [
    "Dari ke-6 data teratas, rute-rute apa saja yang dapat dilihat?"
   ]
  },
  {
   "cell_type": "code",
   "execution_count": 57,
   "metadata": {},
   "outputs": [
    {
     "data": {
      "text/html": [
       "<div>\n",
       "<style scoped>\n",
       "    .dataframe tbody tr th:only-of-type {\n",
       "        vertical-align: middle;\n",
       "    }\n",
       "\n",
       "    .dataframe tbody tr th {\n",
       "        vertical-align: top;\n",
       "    }\n",
       "\n",
       "    .dataframe thead th {\n",
       "        text-align: right;\n",
       "    }\n",
       "</style>\n",
       "<table border=\"1\" class=\"dataframe\">\n",
       "  <thead>\n",
       "    <tr style=\"text-align: right;\">\n",
       "      <th></th>\n",
       "      <th>start</th>\n",
       "      <th>end</th>\n",
       "      <th>dist</th>\n",
       "      <th>lge/100km</th>\n",
       "      <th>add_cost</th>\n",
       "      <th>start_time</th>\n",
       "      <th>end_time</th>\n",
       "      <th>month</th>\n",
       "      <th>day</th>\n",
       "      <th>weekly</th>\n",
       "      <th>weekofyear</th>\n",
       "    </tr>\n",
       "  </thead>\n",
       "  <tbody>\n",
       "    <tr>\n",
       "      <th>0</th>\n",
       "      <td>E</td>\n",
       "      <td>C</td>\n",
       "      <td>20.0</td>\n",
       "      <td>10.2</td>\n",
       "      <td>0.0</td>\n",
       "      <td>2023-02-08 15:02:00</td>\n",
       "      <td>2023-02-08 15:33:00</td>\n",
       "      <td>February</td>\n",
       "      <td>Wednesday</td>\n",
       "      <td>2023-02-06/2023-02-12</td>\n",
       "      <td>6</td>\n",
       "    </tr>\n",
       "    <tr>\n",
       "      <th>1</th>\n",
       "      <td>A</td>\n",
       "      <td>E</td>\n",
       "      <td>21.0</td>\n",
       "      <td>9.6</td>\n",
       "      <td>37.0</td>\n",
       "      <td>2023-02-08 14:02:00</td>\n",
       "      <td>2023-02-08 14:32:00</td>\n",
       "      <td>February</td>\n",
       "      <td>Wednesday</td>\n",
       "      <td>2023-02-06/2023-02-12</td>\n",
       "      <td>6</td>\n",
       "    </tr>\n",
       "    <tr>\n",
       "      <th>2</th>\n",
       "      <td>F</td>\n",
       "      <td>G</td>\n",
       "      <td>12.0</td>\n",
       "      <td>11.8</td>\n",
       "      <td>8.0</td>\n",
       "      <td>2023-02-07 15:30:00</td>\n",
       "      <td>2023-02-07 15:54:00</td>\n",
       "      <td>February</td>\n",
       "      <td>Tuesday</td>\n",
       "      <td>2023-02-06/2023-02-12</td>\n",
       "      <td>6</td>\n",
       "    </tr>\n",
       "    <tr>\n",
       "      <th>3</th>\n",
       "      <td>A</td>\n",
       "      <td>F</td>\n",
       "      <td>31.0</td>\n",
       "      <td>13.3</td>\n",
       "      <td>34.5</td>\n",
       "      <td>2023-02-07 14:13:00</td>\n",
       "      <td>2023-02-07 15:01:00</td>\n",
       "      <td>February</td>\n",
       "      <td>Tuesday</td>\n",
       "      <td>2023-02-06/2023-02-12</td>\n",
       "      <td>6</td>\n",
       "    </tr>\n",
       "    <tr>\n",
       "      <th>4</th>\n",
       "      <td>B</td>\n",
       "      <td>D</td>\n",
       "      <td>6.0</td>\n",
       "      <td>14.5</td>\n",
       "      <td>0.0</td>\n",
       "      <td>2023-02-06 15:30:00</td>\n",
       "      <td>2023-02-06 15:43:00</td>\n",
       "      <td>February</td>\n",
       "      <td>Monday</td>\n",
       "      <td>2023-02-06/2023-02-12</td>\n",
       "      <td>6</td>\n",
       "    </tr>\n",
       "    <tr>\n",
       "      <th>5</th>\n",
       "      <td>A</td>\n",
       "      <td>B</td>\n",
       "      <td>21.0</td>\n",
       "      <td>11.8</td>\n",
       "      <td>37.0</td>\n",
       "      <td>2023-02-06 14:19:00</td>\n",
       "      <td>2023-02-06 14:57:00</td>\n",
       "      <td>February</td>\n",
       "      <td>Monday</td>\n",
       "      <td>2023-02-06/2023-02-12</td>\n",
       "      <td>6</td>\n",
       "    </tr>\n",
       "  </tbody>\n",
       "</table>\n",
       "</div>"
      ],
      "text/plain": [
       "  start end  dist  lge/100km  add_cost          start_time   \n",
       "0     E   C  20.0       10.2       0.0 2023-02-08 15:02:00  \\\n",
       "1     A   E  21.0        9.6      37.0 2023-02-08 14:02:00   \n",
       "2     F   G  12.0       11.8       8.0 2023-02-07 15:30:00   \n",
       "3     A   F  31.0       13.3      34.5 2023-02-07 14:13:00   \n",
       "4     B   D   6.0       14.5       0.0 2023-02-06 15:30:00   \n",
       "5     A   B  21.0       11.8      37.0 2023-02-06 14:19:00   \n",
       "\n",
       "             end_time     month        day                 weekly  weekofyear  \n",
       "0 2023-02-08 15:33:00  February  Wednesday  2023-02-06/2023-02-12           6  \n",
       "1 2023-02-08 14:32:00  February  Wednesday  2023-02-06/2023-02-12           6  \n",
       "2 2023-02-07 15:54:00  February    Tuesday  2023-02-06/2023-02-12           6  \n",
       "3 2023-02-07 15:01:00  February    Tuesday  2023-02-06/2023-02-12           6  \n",
       "4 2023-02-06 15:43:00  February     Monday  2023-02-06/2023-02-12           6  \n",
       "5 2023-02-06 14:57:00  February     Monday  2023-02-06/2023-02-12           6  "
      ]
     },
     "execution_count": 57,
     "metadata": {},
     "output_type": "execute_result"
    }
   ],
   "source": [
    "records.head(6)"
   ]
  },
  {
   "attachments": {},
   "cell_type": "markdown",
   "metadata": {},
   "source": [
    "> Jika diperhatikan, berikut adalah rute-rute yang terjadi:\n",
    "> - Rute Senin, 6 Februari: A - B - D\n",
    "> - Rute Selasa, 7 Februari: A - F - G\n",
    "> - Rute Rabu, 8 Februari: A - E - C\n",
    "\n",
    "> Note: setiap pemilihan rute mempengaruhi pengeluaran biaya"
   ]
  },
  {
   "attachments": {},
   "cell_type": "markdown",
   "metadata": {},
   "source": [
    "💬 **Bagaimana cara menentukan rute yang lebih optimal agar biaya distribusi dapat lebih ditekan?**"
   ]
  },
  {
   "attachments": {},
   "cell_type": "markdown",
   "metadata": {},
   "source": [
    "### Tawaran Solusi"
   ]
  },
  {
   "attachments": {},
   "cell_type": "markdown",
   "metadata": {},
   "source": [
    "💡 Merepresentasikan `records` ke dalam `Graf` kemudian mencari rute-rute dengan `weight` terendah.\n",
    "\n",
    "💡 `weight` bisa dalam bentuk total biaya (cost) yang dikeluarkan masing-masing rutenya.\n",
    "\n",
    "💡 Total cost dapat diektrak dari data `records` dengan informasi-informasi yang kita ketahui.\n",
    "\n",
    "💬 **Informasi apa saja yang dapat digunakan untuk mendapatkan biaya?**\n",
    "- 💡 `add_cost`\n",
    "- 💡 `dist` (jarak), `lge/100km` (bahan bakar), dan harga bensin dapat digunakan untuk mencari biaya bahan bakar\n",
    "- 💡 Informasi waktu dapat digunakan untuk mencari biaya pengeluaran pendingin truk.\n",
    "- 💡 Total biaya-biaya tersebut akan menjadi `weight` pada setiap `edges graf`"
   ]
  },
  {
   "attachments": {},
   "cell_type": "markdown",
   "metadata": {},
   "source": [
    "Selanjutnya mari kita melakukan Pre-processing dan Feature Engineering untuk data kita"
   ]
  },
  {
   "attachments": {},
   "cell_type": "markdown",
   "metadata": {},
   "source": [
    "## Pre-processing & Feature Engineering"
   ]
  },
  {
   "attachments": {},
   "cell_type": "markdown",
   "metadata": {},
   "source": [
    "### Biaya Bensin\n",
    "\n",
    "Informasi yang dapat digunakan:\n",
    "- kolom `dist`, menyatakan jarak dalam satuan km.\n",
    "- kolom `lge/100km`, menyatakan penggunaan liter bensin / 100 km.\n",
    "- Truk di perusahaan kita menggunakan bensin Dexlite seharga Rp14,950/liter\n",
    "\n",
    "💡 Langkah:\n",
    "- Hitung penggunaan liter bahan bakar dengan formula:\n",
    "    \n",
    "    $ literneed =  lge/100km \\times \\frac{dist}{100}$\n",
    "    \n",
    "- Penggunaan liter akan dikalikan dengan biaya bensin/liter.\n",
    "\n",
    "    $ costfuel =  literneed \\times dexlitecost $\n",
    "\n",
    "> Additional Notes: Semakin besar nilai lge/100km maka semakin boros bensin untuk rute tersebut. Hal ini dapat dipengaruhi oleh tingkat kemacetan jalanan dimana penggunaan bahan bakar dapat meningkat 90-170% dari normal <sup>[[4](https://www.viamichelin.com/magazine/article/traffic-jams-our-tips-for-saving-fuel/#:~:text=An%20idling%20vehicle%20uses%20about,and%20175%25%20in%20urban%20areas)]</sup>."
   ]
  },
  {
   "cell_type": "code",
   "execution_count": 58,
   "metadata": {},
   "outputs": [
    {
     "data": {
      "text/html": [
       "<div>\n",
       "<style scoped>\n",
       "    .dataframe tbody tr th:only-of-type {\n",
       "        vertical-align: middle;\n",
       "    }\n",
       "\n",
       "    .dataframe tbody tr th {\n",
       "        vertical-align: top;\n",
       "    }\n",
       "\n",
       "    .dataframe thead th {\n",
       "        text-align: right;\n",
       "    }\n",
       "</style>\n",
       "<table border=\"1\" class=\"dataframe\">\n",
       "  <thead>\n",
       "    <tr style=\"text-align: right;\">\n",
       "      <th></th>\n",
       "      <th>start</th>\n",
       "      <th>end</th>\n",
       "      <th>dist</th>\n",
       "      <th>lge/100km</th>\n",
       "      <th>add_cost</th>\n",
       "      <th>start_time</th>\n",
       "      <th>end_time</th>\n",
       "      <th>month</th>\n",
       "      <th>day</th>\n",
       "      <th>weekly</th>\n",
       "      <th>weekofyear</th>\n",
       "      <th>literneed</th>\n",
       "      <th>cost_fuel</th>\n",
       "    </tr>\n",
       "  </thead>\n",
       "  <tbody>\n",
       "    <tr>\n",
       "      <th>0</th>\n",
       "      <td>E</td>\n",
       "      <td>C</td>\n",
       "      <td>20.0</td>\n",
       "      <td>10.2</td>\n",
       "      <td>0.0</td>\n",
       "      <td>2023-02-08 15:02:00</td>\n",
       "      <td>2023-02-08 15:33:00</td>\n",
       "      <td>February</td>\n",
       "      <td>Wednesday</td>\n",
       "      <td>2023-02-06/2023-02-12</td>\n",
       "      <td>6</td>\n",
       "      <td>2.040</td>\n",
       "      <td>30.0</td>\n",
       "    </tr>\n",
       "    <tr>\n",
       "      <th>1</th>\n",
       "      <td>A</td>\n",
       "      <td>E</td>\n",
       "      <td>21.0</td>\n",
       "      <td>9.6</td>\n",
       "      <td>37.0</td>\n",
       "      <td>2023-02-08 14:02:00</td>\n",
       "      <td>2023-02-08 14:32:00</td>\n",
       "      <td>February</td>\n",
       "      <td>Wednesday</td>\n",
       "      <td>2023-02-06/2023-02-12</td>\n",
       "      <td>6</td>\n",
       "      <td>2.016</td>\n",
       "      <td>30.0</td>\n",
       "    </tr>\n",
       "    <tr>\n",
       "      <th>2</th>\n",
       "      <td>F</td>\n",
       "      <td>G</td>\n",
       "      <td>12.0</td>\n",
       "      <td>11.8</td>\n",
       "      <td>8.0</td>\n",
       "      <td>2023-02-07 15:30:00</td>\n",
       "      <td>2023-02-07 15:54:00</td>\n",
       "      <td>February</td>\n",
       "      <td>Tuesday</td>\n",
       "      <td>2023-02-06/2023-02-12</td>\n",
       "      <td>6</td>\n",
       "      <td>1.416</td>\n",
       "      <td>21.0</td>\n",
       "    </tr>\n",
       "    <tr>\n",
       "      <th>3</th>\n",
       "      <td>A</td>\n",
       "      <td>F</td>\n",
       "      <td>31.0</td>\n",
       "      <td>13.3</td>\n",
       "      <td>34.5</td>\n",
       "      <td>2023-02-07 14:13:00</td>\n",
       "      <td>2023-02-07 15:01:00</td>\n",
       "      <td>February</td>\n",
       "      <td>Tuesday</td>\n",
       "      <td>2023-02-06/2023-02-12</td>\n",
       "      <td>6</td>\n",
       "      <td>4.123</td>\n",
       "      <td>62.0</td>\n",
       "    </tr>\n",
       "    <tr>\n",
       "      <th>4</th>\n",
       "      <td>B</td>\n",
       "      <td>D</td>\n",
       "      <td>6.0</td>\n",
       "      <td>14.5</td>\n",
       "      <td>0.0</td>\n",
       "      <td>2023-02-06 15:30:00</td>\n",
       "      <td>2023-02-06 15:43:00</td>\n",
       "      <td>February</td>\n",
       "      <td>Monday</td>\n",
       "      <td>2023-02-06/2023-02-12</td>\n",
       "      <td>6</td>\n",
       "      <td>0.870</td>\n",
       "      <td>13.0</td>\n",
       "    </tr>\n",
       "  </tbody>\n",
       "</table>\n",
       "</div>"
      ],
      "text/plain": [
       "  start end  dist  lge/100km  add_cost          start_time   \n",
       "0     E   C  20.0       10.2       0.0 2023-02-08 15:02:00  \\\n",
       "1     A   E  21.0        9.6      37.0 2023-02-08 14:02:00   \n",
       "2     F   G  12.0       11.8       8.0 2023-02-07 15:30:00   \n",
       "3     A   F  31.0       13.3      34.5 2023-02-07 14:13:00   \n",
       "4     B   D   6.0       14.5       0.0 2023-02-06 15:30:00   \n",
       "\n",
       "             end_time     month        day                 weekly  weekofyear   \n",
       "0 2023-02-08 15:33:00  February  Wednesday  2023-02-06/2023-02-12           6  \\\n",
       "1 2023-02-08 14:32:00  February  Wednesday  2023-02-06/2023-02-12           6   \n",
       "2 2023-02-07 15:54:00  February    Tuesday  2023-02-06/2023-02-12           6   \n",
       "3 2023-02-07 15:01:00  February    Tuesday  2023-02-06/2023-02-12           6   \n",
       "4 2023-02-06 15:43:00  February     Monday  2023-02-06/2023-02-12           6   \n",
       "\n",
       "   literneed  cost_fuel  \n",
       "0      2.040       30.0  \n",
       "1      2.016       30.0  \n",
       "2      1.416       21.0  \n",
       "3      4.123       62.0  \n",
       "4      0.870       13.0  "
      ]
     },
     "execution_count": 58,
     "metadata": {},
     "output_type": "execute_result"
    }
   ],
   "source": [
    "# Harga dexlite dalam satuan ribu\n",
    "fuel = 14.95\n",
    "# Mendapatkan total liter\n",
    "records['literneed'] = records['lge/100km'] * (records['dist'] / 100)\n",
    "# Total biaya bensin (dibulatkan)\n",
    "records['cost_fuel'] = round(records['literneed'] * fuel)\n",
    "\n",
    "records.head()"
   ]
  },
  {
   "attachments": {},
   "cell_type": "markdown",
   "metadata": {},
   "source": [
    "### Biaya Pendingin\n",
    "\n",
    "Informasi yang dapat digunakan:\n",
    "- Biaya maintain pendingin truk perjam (Rp9,000/jam)\n",
    "- `start_time` dan `end_time` untuk mendapatkan waktu menit perjalanan\n",
    "- Waktu drop di tiap lokasi 30 menit (setengah jam)\n",
    "\n",
    "💡 Langkah:\n",
    "- Dapatkan menit perjalanan dengan `end_time` - `start_time`.\n",
    "- Kalikan total menit dengan biaya maintain pendingin.\n",
    "\n",
    "    $ costrefri =  totalminutes \\times \\frac{refrigeratorcost}{60} $\n",
    "\n",
    "Pada datetime dapat dilakukan subtraksi datetime seperti di bawah ini"
   ]
  },
  {
   "cell_type": "code",
   "execution_count": 59,
   "metadata": {},
   "outputs": [
    {
     "data": {
      "text/plain": [
       "0    0 days 00:31:00\n",
       "1    0 days 00:30:00\n",
       "2    0 days 00:24:00\n",
       "3    0 days 00:48:00\n",
       "4    0 days 00:13:00\n",
       "5    0 days 00:38:00\n",
       "6    0 days 00:27:00\n",
       "7    0 days 00:50:00\n",
       "8    0 days 00:46:00\n",
       "9    0 days 00:36:00\n",
       "10   0 days 00:25:00\n",
       "11   0 days 01:25:00\n",
       "12   0 days 00:19:00\n",
       "13   0 days 00:40:00\n",
       "14   0 days 00:31:00\n",
       "15   0 days 00:38:00\n",
       "16   0 days 00:32:00\n",
       "17   0 days 00:36:00\n",
       "18   0 days 00:31:00\n",
       "19   0 days 00:31:00\n",
       "20   0 days 00:22:00\n",
       "21   0 days 00:48:00\n",
       "dtype: timedelta64[ns]"
      ]
     },
     "execution_count": 59,
     "metadata": {},
     "output_type": "execute_result"
    }
   ],
   "source": [
    "records['end_time'] - records['start_time']"
   ]
  },
  {
   "cell_type": "code",
   "execution_count": 60,
   "metadata": {},
   "outputs": [
    {
     "data": {
      "text/html": [
       "<div>\n",
       "<style scoped>\n",
       "    .dataframe tbody tr th:only-of-type {\n",
       "        vertical-align: middle;\n",
       "    }\n",
       "\n",
       "    .dataframe tbody tr th {\n",
       "        vertical-align: top;\n",
       "    }\n",
       "\n",
       "    .dataframe thead th {\n",
       "        text-align: right;\n",
       "    }\n",
       "</style>\n",
       "<table border=\"1\" class=\"dataframe\">\n",
       "  <thead>\n",
       "    <tr style=\"text-align: right;\">\n",
       "      <th></th>\n",
       "      <th>start</th>\n",
       "      <th>end</th>\n",
       "      <th>dist</th>\n",
       "      <th>lge/100km</th>\n",
       "      <th>add_cost</th>\n",
       "      <th>start_time</th>\n",
       "      <th>end_time</th>\n",
       "      <th>month</th>\n",
       "      <th>day</th>\n",
       "      <th>weekly</th>\n",
       "      <th>weekofyear</th>\n",
       "      <th>literneed</th>\n",
       "      <th>cost_fuel</th>\n",
       "      <th>time</th>\n",
       "    </tr>\n",
       "  </thead>\n",
       "  <tbody>\n",
       "    <tr>\n",
       "      <th>0</th>\n",
       "      <td>E</td>\n",
       "      <td>C</td>\n",
       "      <td>20.0</td>\n",
       "      <td>10.2</td>\n",
       "      <td>0.0</td>\n",
       "      <td>2023-02-08 15:02:00</td>\n",
       "      <td>2023-02-08 15:33:00</td>\n",
       "      <td>February</td>\n",
       "      <td>Wednesday</td>\n",
       "      <td>2023-02-06/2023-02-12</td>\n",
       "      <td>6</td>\n",
       "      <td>2.040</td>\n",
       "      <td>30.0</td>\n",
       "      <td>31.0</td>\n",
       "    </tr>\n",
       "    <tr>\n",
       "      <th>1</th>\n",
       "      <td>A</td>\n",
       "      <td>E</td>\n",
       "      <td>21.0</td>\n",
       "      <td>9.6</td>\n",
       "      <td>37.0</td>\n",
       "      <td>2023-02-08 14:02:00</td>\n",
       "      <td>2023-02-08 14:32:00</td>\n",
       "      <td>February</td>\n",
       "      <td>Wednesday</td>\n",
       "      <td>2023-02-06/2023-02-12</td>\n",
       "      <td>6</td>\n",
       "      <td>2.016</td>\n",
       "      <td>30.0</td>\n",
       "      <td>30.0</td>\n",
       "    </tr>\n",
       "  </tbody>\n",
       "</table>\n",
       "</div>"
      ],
      "text/plain": [
       "  start end  dist  lge/100km  add_cost          start_time   \n",
       "0     E   C  20.0       10.2       0.0 2023-02-08 15:02:00  \\\n",
       "1     A   E  21.0        9.6      37.0 2023-02-08 14:02:00   \n",
       "\n",
       "             end_time     month        day                 weekly  weekofyear   \n",
       "0 2023-02-08 15:33:00  February  Wednesday  2023-02-06/2023-02-12           6  \\\n",
       "1 2023-02-08 14:32:00  February  Wednesday  2023-02-06/2023-02-12           6   \n",
       "\n",
       "   literneed  cost_fuel  time  \n",
       "0      2.040       30.0  31.0  \n",
       "1      2.016       30.0  30.0  "
      ]
     },
     "execution_count": 60,
     "metadata": {},
     "output_type": "execute_result"
    }
   ],
   "source": [
    "# Masukkan total minutes ke dalam kolom time, total second / 60 untuk mendapatkan menit\n",
    "records['time'] = (records['end_time'] - records['start_time']).dt.total_seconds() / 60\n",
    "\n",
    "records.head(2)"
   ]
  },
  {
   "cell_type": "code",
   "execution_count": 61,
   "metadata": {},
   "outputs": [
    {
     "data": {
      "text/html": [
       "<div>\n",
       "<style scoped>\n",
       "    .dataframe tbody tr th:only-of-type {\n",
       "        vertical-align: middle;\n",
       "    }\n",
       "\n",
       "    .dataframe tbody tr th {\n",
       "        vertical-align: top;\n",
       "    }\n",
       "\n",
       "    .dataframe thead th {\n",
       "        text-align: right;\n",
       "    }\n",
       "</style>\n",
       "<table border=\"1\" class=\"dataframe\">\n",
       "  <thead>\n",
       "    <tr style=\"text-align: right;\">\n",
       "      <th></th>\n",
       "      <th>start</th>\n",
       "      <th>end</th>\n",
       "      <th>dist</th>\n",
       "      <th>lge/100km</th>\n",
       "      <th>add_cost</th>\n",
       "      <th>start_time</th>\n",
       "      <th>end_time</th>\n",
       "      <th>month</th>\n",
       "      <th>day</th>\n",
       "      <th>weekly</th>\n",
       "      <th>weekofyear</th>\n",
       "      <th>literneed</th>\n",
       "      <th>cost_fuel</th>\n",
       "      <th>time</th>\n",
       "      <th>cost_refri</th>\n",
       "    </tr>\n",
       "  </thead>\n",
       "  <tbody>\n",
       "    <tr>\n",
       "      <th>0</th>\n",
       "      <td>E</td>\n",
       "      <td>C</td>\n",
       "      <td>20.0</td>\n",
       "      <td>10.2</td>\n",
       "      <td>0.0</td>\n",
       "      <td>2023-02-08 15:02:00</td>\n",
       "      <td>2023-02-08 15:33:00</td>\n",
       "      <td>February</td>\n",
       "      <td>Wednesday</td>\n",
       "      <td>2023-02-06/2023-02-12</td>\n",
       "      <td>6</td>\n",
       "      <td>2.040</td>\n",
       "      <td>30.0</td>\n",
       "      <td>31.0</td>\n",
       "      <td>4.65</td>\n",
       "    </tr>\n",
       "    <tr>\n",
       "      <th>1</th>\n",
       "      <td>A</td>\n",
       "      <td>E</td>\n",
       "      <td>21.0</td>\n",
       "      <td>9.6</td>\n",
       "      <td>37.0</td>\n",
       "      <td>2023-02-08 14:02:00</td>\n",
       "      <td>2023-02-08 14:32:00</td>\n",
       "      <td>February</td>\n",
       "      <td>Wednesday</td>\n",
       "      <td>2023-02-06/2023-02-12</td>\n",
       "      <td>6</td>\n",
       "      <td>2.016</td>\n",
       "      <td>30.0</td>\n",
       "      <td>30.0</td>\n",
       "      <td>4.50</td>\n",
       "    </tr>\n",
       "  </tbody>\n",
       "</table>\n",
       "</div>"
      ],
      "text/plain": [
       "  start end  dist  lge/100km  add_cost          start_time   \n",
       "0     E   C  20.0       10.2       0.0 2023-02-08 15:02:00  \\\n",
       "1     A   E  21.0        9.6      37.0 2023-02-08 14:02:00   \n",
       "\n",
       "             end_time     month        day                 weekly  weekofyear   \n",
       "0 2023-02-08 15:33:00  February  Wednesday  2023-02-06/2023-02-12           6  \\\n",
       "1 2023-02-08 14:32:00  February  Wednesday  2023-02-06/2023-02-12           6   \n",
       "\n",
       "   literneed  cost_fuel  time  cost_refri  \n",
       "0      2.040       30.0  31.0        4.65  \n",
       "1      2.016       30.0  30.0        4.50  "
      ]
     },
     "execution_count": 61,
     "metadata": {},
     "output_type": "execute_result"
    }
   ],
   "source": [
    "# Biaya pendingin/jam dalam satuan ribu\n",
    "refrigerator = 9\n",
    "# total cost refri\n",
    "records['cost_refri'] = (records['time'] / 60) * refrigerator\n",
    "\n",
    "records.head(2)"
   ]
  },
  {
   "attachments": {},
   "cell_type": "markdown",
   "metadata": {},
   "source": [
    "💬 **Apakah masih terdapat biaya belum dihitung?**"
   ]
  },
  {
   "attachments": {},
   "cell_type": "markdown",
   "metadata": {},
   "source": [
    "> Jawaban:"
   ]
  },
  {
   "attachments": {},
   "cell_type": "markdown",
   "metadata": {},
   "source": [
    "### Total Cost\n",
    "\n",
    "Total cost akan kita jadikan sebagai `weight` dalam Graf kita nantinya. Sehingga kita akan mendapatkan kombinasi masing-masing rute beserta total biayanya.\n",
    "\n",
    "Informasi yang digunakan:\n",
    "- `cost_fuel`: total biaya bahan bakar\n",
    "- `cost_refri`: total biaya maintain pendingin\n",
    "- `add_cost`: *additional_cost*, dalam hal ini adalah biaya tol\n",
    "\n",
    "💡 Langkah:\n",
    "\n",
    "Menjumlahkan masing-masing cost\n",
    "\n",
    "$ total = costfuel + costrefri + addcost $"
   ]
  },
  {
   "cell_type": "code",
   "execution_count": 62,
   "metadata": {},
   "outputs": [
    {
     "data": {
      "text/html": [
       "<div>\n",
       "<style scoped>\n",
       "    .dataframe tbody tr th:only-of-type {\n",
       "        vertical-align: middle;\n",
       "    }\n",
       "\n",
       "    .dataframe tbody tr th {\n",
       "        vertical-align: top;\n",
       "    }\n",
       "\n",
       "    .dataframe thead th {\n",
       "        text-align: right;\n",
       "    }\n",
       "</style>\n",
       "<table border=\"1\" class=\"dataframe\">\n",
       "  <thead>\n",
       "    <tr style=\"text-align: right;\">\n",
       "      <th></th>\n",
       "      <th>start</th>\n",
       "      <th>end</th>\n",
       "      <th>dist</th>\n",
       "      <th>lge/100km</th>\n",
       "      <th>add_cost</th>\n",
       "      <th>start_time</th>\n",
       "      <th>end_time</th>\n",
       "      <th>month</th>\n",
       "      <th>day</th>\n",
       "      <th>weekly</th>\n",
       "      <th>weekofyear</th>\n",
       "      <th>literneed</th>\n",
       "      <th>cost_fuel</th>\n",
       "      <th>time</th>\n",
       "      <th>cost_refri</th>\n",
       "      <th>total</th>\n",
       "    </tr>\n",
       "  </thead>\n",
       "  <tbody>\n",
       "    <tr>\n",
       "      <th>0</th>\n",
       "      <td>E</td>\n",
       "      <td>C</td>\n",
       "      <td>20.0</td>\n",
       "      <td>10.2</td>\n",
       "      <td>0.0</td>\n",
       "      <td>2023-02-08 15:02:00</td>\n",
       "      <td>2023-02-08 15:33:00</td>\n",
       "      <td>February</td>\n",
       "      <td>Wednesday</td>\n",
       "      <td>2023-02-06/2023-02-12</td>\n",
       "      <td>6</td>\n",
       "      <td>2.040</td>\n",
       "      <td>30.0</td>\n",
       "      <td>31.0</td>\n",
       "      <td>4.65</td>\n",
       "      <td>35.0</td>\n",
       "    </tr>\n",
       "    <tr>\n",
       "      <th>1</th>\n",
       "      <td>A</td>\n",
       "      <td>E</td>\n",
       "      <td>21.0</td>\n",
       "      <td>9.6</td>\n",
       "      <td>37.0</td>\n",
       "      <td>2023-02-08 14:02:00</td>\n",
       "      <td>2023-02-08 14:32:00</td>\n",
       "      <td>February</td>\n",
       "      <td>Wednesday</td>\n",
       "      <td>2023-02-06/2023-02-12</td>\n",
       "      <td>6</td>\n",
       "      <td>2.016</td>\n",
       "      <td>30.0</td>\n",
       "      <td>30.0</td>\n",
       "      <td>4.50</td>\n",
       "      <td>72.0</td>\n",
       "    </tr>\n",
       "  </tbody>\n",
       "</table>\n",
       "</div>"
      ],
      "text/plain": [
       "  start end  dist  lge/100km  add_cost          start_time   \n",
       "0     E   C  20.0       10.2       0.0 2023-02-08 15:02:00  \\\n",
       "1     A   E  21.0        9.6      37.0 2023-02-08 14:02:00   \n",
       "\n",
       "             end_time     month        day                 weekly  weekofyear   \n",
       "0 2023-02-08 15:33:00  February  Wednesday  2023-02-06/2023-02-12           6  \\\n",
       "1 2023-02-08 14:32:00  February  Wednesday  2023-02-06/2023-02-12           6   \n",
       "\n",
       "   literneed  cost_fuel  time  cost_refri  total  \n",
       "0      2.040       30.0  31.0        4.65   35.0  \n",
       "1      2.016       30.0  30.0        4.50   72.0  "
      ]
     },
     "execution_count": 62,
     "metadata": {},
     "output_type": "execute_result"
    }
   ],
   "source": [
    "records['total'] = round(records['cost_fuel'] + records['cost_refri'] + records['add_cost'])\n",
    "\n",
    "records.head(2)"
   ]
  },
  {
   "attachments": {},
   "cell_type": "markdown",
   "metadata": {},
   "source": [
    "Mari kita lihat 5 rute yang memiliki cost terbesar"
   ]
  },
  {
   "cell_type": "code",
   "execution_count": 63,
   "metadata": {},
   "outputs": [
    {
     "data": {
      "text/html": [
       "<div>\n",
       "<style scoped>\n",
       "    .dataframe tbody tr th:only-of-type {\n",
       "        vertical-align: middle;\n",
       "    }\n",
       "\n",
       "    .dataframe tbody tr th {\n",
       "        vertical-align: top;\n",
       "    }\n",
       "\n",
       "    .dataframe thead th {\n",
       "        text-align: right;\n",
       "    }\n",
       "</style>\n",
       "<table border=\"1\" class=\"dataframe\">\n",
       "  <thead>\n",
       "    <tr style=\"text-align: right;\">\n",
       "      <th></th>\n",
       "      <th>start</th>\n",
       "      <th>end</th>\n",
       "      <th>dist</th>\n",
       "      <th>lge/100km</th>\n",
       "      <th>add_cost</th>\n",
       "      <th>start_time</th>\n",
       "      <th>end_time</th>\n",
       "      <th>month</th>\n",
       "      <th>day</th>\n",
       "      <th>weekly</th>\n",
       "      <th>weekofyear</th>\n",
       "      <th>literneed</th>\n",
       "      <th>cost_fuel</th>\n",
       "      <th>time</th>\n",
       "      <th>cost_refri</th>\n",
       "      <th>total</th>\n",
       "    </tr>\n",
       "  </thead>\n",
       "  <tbody>\n",
       "    <tr>\n",
       "      <th>7</th>\n",
       "      <td>A</td>\n",
       "      <td>F</td>\n",
       "      <td>31.0</td>\n",
       "      <td>13.7</td>\n",
       "      <td>34.5</td>\n",
       "      <td>2023-02-01 14:15:00</td>\n",
       "      <td>2023-02-01 15:05:00</td>\n",
       "      <td>February</td>\n",
       "      <td>Wednesday</td>\n",
       "      <td>2023-01-30/2023-02-05</td>\n",
       "      <td>5</td>\n",
       "      <td>4.247</td>\n",
       "      <td>63.0</td>\n",
       "      <td>50.0</td>\n",
       "      <td>7.50</td>\n",
       "      <td>105.0</td>\n",
       "    </tr>\n",
       "    <tr>\n",
       "      <th>3</th>\n",
       "      <td>A</td>\n",
       "      <td>F</td>\n",
       "      <td>31.0</td>\n",
       "      <td>13.3</td>\n",
       "      <td>34.5</td>\n",
       "      <td>2023-02-07 14:13:00</td>\n",
       "      <td>2023-02-07 15:01:00</td>\n",
       "      <td>February</td>\n",
       "      <td>Tuesday</td>\n",
       "      <td>2023-02-06/2023-02-12</td>\n",
       "      <td>6</td>\n",
       "      <td>4.123</td>\n",
       "      <td>62.0</td>\n",
       "      <td>48.0</td>\n",
       "      <td>7.20</td>\n",
       "      <td>104.0</td>\n",
       "    </tr>\n",
       "    <tr>\n",
       "      <th>21</th>\n",
       "      <td>A</td>\n",
       "      <td>F</td>\n",
       "      <td>31.0</td>\n",
       "      <td>13.2</td>\n",
       "      <td>34.5</td>\n",
       "      <td>2023-01-11 14:07:00</td>\n",
       "      <td>2023-01-11 14:55:00</td>\n",
       "      <td>January</td>\n",
       "      <td>Wednesday</td>\n",
       "      <td>2023-01-09/2023-01-15</td>\n",
       "      <td>2</td>\n",
       "      <td>4.092</td>\n",
       "      <td>61.0</td>\n",
       "      <td>48.0</td>\n",
       "      <td>7.20</td>\n",
       "      <td>103.0</td>\n",
       "    </tr>\n",
       "    <tr>\n",
       "      <th>11</th>\n",
       "      <td>A</td>\n",
       "      <td>G</td>\n",
       "      <td>27.0</td>\n",
       "      <td>21.9</td>\n",
       "      <td>0.0</td>\n",
       "      <td>2023-01-30 14:10:00</td>\n",
       "      <td>2023-01-30 15:35:00</td>\n",
       "      <td>January</td>\n",
       "      <td>Monday</td>\n",
       "      <td>2023-01-30/2023-02-05</td>\n",
       "      <td>5</td>\n",
       "      <td>5.913</td>\n",
       "      <td>88.0</td>\n",
       "      <td>85.0</td>\n",
       "      <td>12.75</td>\n",
       "      <td>101.0</td>\n",
       "    </tr>\n",
       "    <tr>\n",
       "      <th>15</th>\n",
       "      <td>A</td>\n",
       "      <td>D</td>\n",
       "      <td>24.0</td>\n",
       "      <td>11.0</td>\n",
       "      <td>37.0</td>\n",
       "      <td>2023-01-24 14:02:00</td>\n",
       "      <td>2023-01-24 14:40:00</td>\n",
       "      <td>January</td>\n",
       "      <td>Tuesday</td>\n",
       "      <td>2023-01-23/2023-01-29</td>\n",
       "      <td>4</td>\n",
       "      <td>2.640</td>\n",
       "      <td>39.0</td>\n",
       "      <td>38.0</td>\n",
       "      <td>5.70</td>\n",
       "      <td>82.0</td>\n",
       "    </tr>\n",
       "  </tbody>\n",
       "</table>\n",
       "</div>"
      ],
      "text/plain": [
       "   start end  dist  lge/100km  add_cost          start_time   \n",
       "7      A   F  31.0       13.7      34.5 2023-02-01 14:15:00  \\\n",
       "3      A   F  31.0       13.3      34.5 2023-02-07 14:13:00   \n",
       "21     A   F  31.0       13.2      34.5 2023-01-11 14:07:00   \n",
       "11     A   G  27.0       21.9       0.0 2023-01-30 14:10:00   \n",
       "15     A   D  24.0       11.0      37.0 2023-01-24 14:02:00   \n",
       "\n",
       "              end_time     month        day                 weekly   \n",
       "7  2023-02-01 15:05:00  February  Wednesday  2023-01-30/2023-02-05  \\\n",
       "3  2023-02-07 15:01:00  February    Tuesday  2023-02-06/2023-02-12   \n",
       "21 2023-01-11 14:55:00   January  Wednesday  2023-01-09/2023-01-15   \n",
       "11 2023-01-30 15:35:00   January     Monday  2023-01-30/2023-02-05   \n",
       "15 2023-01-24 14:40:00   January    Tuesday  2023-01-23/2023-01-29   \n",
       "\n",
       "    weekofyear  literneed  cost_fuel  time  cost_refri  total  \n",
       "7            5      4.247       63.0  50.0        7.50  105.0  \n",
       "3            6      4.123       62.0  48.0        7.20  104.0  \n",
       "21           2      4.092       61.0  48.0        7.20  103.0  \n",
       "11           5      5.913       88.0  85.0       12.75  101.0  \n",
       "15           4      2.640       39.0  38.0        5.70   82.0  "
      ]
     },
     "execution_count": 63,
     "metadata": {},
     "output_type": "execute_result"
    }
   ],
   "source": [
    "records.sort_values(by = 'total', ascending = False).head(5)"
   ]
  },
  {
   "attachments": {},
   "cell_type": "markdown",
   "metadata": {},
   "source": [
    "### Duplikat\n",
    "\n",
    "Melihat apakah terdapat duplikat rute"
   ]
  },
  {
   "cell_type": "code",
   "execution_count": 64,
   "metadata": {},
   "outputs": [
    {
     "data": {
      "text/html": [
       "<div>\n",
       "<style scoped>\n",
       "    .dataframe tbody tr th:only-of-type {\n",
       "        vertical-align: middle;\n",
       "    }\n",
       "\n",
       "    .dataframe tbody tr th {\n",
       "        vertical-align: top;\n",
       "    }\n",
       "\n",
       "    .dataframe thead th {\n",
       "        text-align: right;\n",
       "    }\n",
       "</style>\n",
       "<table border=\"1\" class=\"dataframe\">\n",
       "  <thead>\n",
       "    <tr style=\"text-align: right;\">\n",
       "      <th></th>\n",
       "      <th>start</th>\n",
       "      <th>end</th>\n",
       "      <th>dist</th>\n",
       "      <th>lge/100km</th>\n",
       "      <th>add_cost</th>\n",
       "      <th>start_time</th>\n",
       "      <th>end_time</th>\n",
       "      <th>month</th>\n",
       "      <th>day</th>\n",
       "      <th>weekly</th>\n",
       "      <th>weekofyear</th>\n",
       "      <th>literneed</th>\n",
       "      <th>cost_fuel</th>\n",
       "      <th>time</th>\n",
       "      <th>cost_refri</th>\n",
       "      <th>total</th>\n",
       "    </tr>\n",
       "  </thead>\n",
       "  <tbody>\n",
       "    <tr>\n",
       "      <th>1</th>\n",
       "      <td>A</td>\n",
       "      <td>E</td>\n",
       "      <td>21.0</td>\n",
       "      <td>9.6</td>\n",
       "      <td>37.0</td>\n",
       "      <td>2023-02-08 14:02:00</td>\n",
       "      <td>2023-02-08 14:32:00</td>\n",
       "      <td>February</td>\n",
       "      <td>Wednesday</td>\n",
       "      <td>2023-02-06/2023-02-12</td>\n",
       "      <td>6</td>\n",
       "      <td>2.016</td>\n",
       "      <td>30.0</td>\n",
       "      <td>30.0</td>\n",
       "      <td>4.50</td>\n",
       "      <td>72.0</td>\n",
       "    </tr>\n",
       "    <tr>\n",
       "      <th>3</th>\n",
       "      <td>A</td>\n",
       "      <td>F</td>\n",
       "      <td>31.0</td>\n",
       "      <td>13.3</td>\n",
       "      <td>34.5</td>\n",
       "      <td>2023-02-07 14:13:00</td>\n",
       "      <td>2023-02-07 15:01:00</td>\n",
       "      <td>February</td>\n",
       "      <td>Tuesday</td>\n",
       "      <td>2023-02-06/2023-02-12</td>\n",
       "      <td>6</td>\n",
       "      <td>4.123</td>\n",
       "      <td>62.0</td>\n",
       "      <td>48.0</td>\n",
       "      <td>7.20</td>\n",
       "      <td>104.0</td>\n",
       "    </tr>\n",
       "    <tr>\n",
       "      <th>5</th>\n",
       "      <td>A</td>\n",
       "      <td>B</td>\n",
       "      <td>21.0</td>\n",
       "      <td>11.8</td>\n",
       "      <td>37.0</td>\n",
       "      <td>2023-02-06 14:19:00</td>\n",
       "      <td>2023-02-06 14:57:00</td>\n",
       "      <td>February</td>\n",
       "      <td>Monday</td>\n",
       "      <td>2023-02-06/2023-02-12</td>\n",
       "      <td>6</td>\n",
       "      <td>2.478</td>\n",
       "      <td>37.0</td>\n",
       "      <td>38.0</td>\n",
       "      <td>5.70</td>\n",
       "      <td>80.0</td>\n",
       "    </tr>\n",
       "    <tr>\n",
       "      <th>7</th>\n",
       "      <td>A</td>\n",
       "      <td>F</td>\n",
       "      <td>31.0</td>\n",
       "      <td>13.7</td>\n",
       "      <td>34.5</td>\n",
       "      <td>2023-02-01 14:15:00</td>\n",
       "      <td>2023-02-01 15:05:00</td>\n",
       "      <td>February</td>\n",
       "      <td>Wednesday</td>\n",
       "      <td>2023-01-30/2023-02-05</td>\n",
       "      <td>5</td>\n",
       "      <td>4.247</td>\n",
       "      <td>63.0</td>\n",
       "      <td>50.0</td>\n",
       "      <td>7.50</td>\n",
       "      <td>105.0</td>\n",
       "    </tr>\n",
       "    <tr>\n",
       "      <th>13</th>\n",
       "      <td>A</td>\n",
       "      <td>B</td>\n",
       "      <td>21.0</td>\n",
       "      <td>12.1</td>\n",
       "      <td>37.0</td>\n",
       "      <td>2023-01-25 14:09:00</td>\n",
       "      <td>2023-01-25 14:49:00</td>\n",
       "      <td>January</td>\n",
       "      <td>Wednesday</td>\n",
       "      <td>2023-01-23/2023-01-29</td>\n",
       "      <td>4</td>\n",
       "      <td>2.541</td>\n",
       "      <td>38.0</td>\n",
       "      <td>40.0</td>\n",
       "      <td>6.00</td>\n",
       "      <td>81.0</td>\n",
       "    </tr>\n",
       "    <tr>\n",
       "      <th>17</th>\n",
       "      <td>A</td>\n",
       "      <td>E</td>\n",
       "      <td>21.0</td>\n",
       "      <td>10.0</td>\n",
       "      <td>37.0</td>\n",
       "      <td>2023-01-23 14:05:00</td>\n",
       "      <td>2023-01-23 14:41:00</td>\n",
       "      <td>January</td>\n",
       "      <td>Monday</td>\n",
       "      <td>2023-01-23/2023-01-29</td>\n",
       "      <td>4</td>\n",
       "      <td>2.100</td>\n",
       "      <td>31.0</td>\n",
       "      <td>36.0</td>\n",
       "      <td>5.40</td>\n",
       "      <td>73.0</td>\n",
       "    </tr>\n",
       "    <tr>\n",
       "      <th>19</th>\n",
       "      <td>A</td>\n",
       "      <td>E</td>\n",
       "      <td>21.0</td>\n",
       "      <td>9.8</td>\n",
       "      <td>37.0</td>\n",
       "      <td>2023-01-16 14:01:00</td>\n",
       "      <td>2023-01-16 14:32:00</td>\n",
       "      <td>January</td>\n",
       "      <td>Monday</td>\n",
       "      <td>2023-01-16/2023-01-22</td>\n",
       "      <td>3</td>\n",
       "      <td>2.058</td>\n",
       "      <td>31.0</td>\n",
       "      <td>31.0</td>\n",
       "      <td>4.65</td>\n",
       "      <td>73.0</td>\n",
       "    </tr>\n",
       "    <tr>\n",
       "      <th>21</th>\n",
       "      <td>A</td>\n",
       "      <td>F</td>\n",
       "      <td>31.0</td>\n",
       "      <td>13.2</td>\n",
       "      <td>34.5</td>\n",
       "      <td>2023-01-11 14:07:00</td>\n",
       "      <td>2023-01-11 14:55:00</td>\n",
       "      <td>January</td>\n",
       "      <td>Wednesday</td>\n",
       "      <td>2023-01-09/2023-01-15</td>\n",
       "      <td>2</td>\n",
       "      <td>4.092</td>\n",
       "      <td>61.0</td>\n",
       "      <td>48.0</td>\n",
       "      <td>7.20</td>\n",
       "      <td>103.0</td>\n",
       "    </tr>\n",
       "  </tbody>\n",
       "</table>\n",
       "</div>"
      ],
      "text/plain": [
       "   start end  dist  lge/100km  add_cost          start_time   \n",
       "1      A   E  21.0        9.6      37.0 2023-02-08 14:02:00  \\\n",
       "3      A   F  31.0       13.3      34.5 2023-02-07 14:13:00   \n",
       "5      A   B  21.0       11.8      37.0 2023-02-06 14:19:00   \n",
       "7      A   F  31.0       13.7      34.5 2023-02-01 14:15:00   \n",
       "13     A   B  21.0       12.1      37.0 2023-01-25 14:09:00   \n",
       "17     A   E  21.0       10.0      37.0 2023-01-23 14:05:00   \n",
       "19     A   E  21.0        9.8      37.0 2023-01-16 14:01:00   \n",
       "21     A   F  31.0       13.2      34.5 2023-01-11 14:07:00   \n",
       "\n",
       "              end_time     month        day                 weekly   \n",
       "1  2023-02-08 14:32:00  February  Wednesday  2023-02-06/2023-02-12  \\\n",
       "3  2023-02-07 15:01:00  February    Tuesday  2023-02-06/2023-02-12   \n",
       "5  2023-02-06 14:57:00  February     Monday  2023-02-06/2023-02-12   \n",
       "7  2023-02-01 15:05:00  February  Wednesday  2023-01-30/2023-02-05   \n",
       "13 2023-01-25 14:49:00   January  Wednesday  2023-01-23/2023-01-29   \n",
       "17 2023-01-23 14:41:00   January     Monday  2023-01-23/2023-01-29   \n",
       "19 2023-01-16 14:32:00   January     Monday  2023-01-16/2023-01-22   \n",
       "21 2023-01-11 14:55:00   January  Wednesday  2023-01-09/2023-01-15   \n",
       "\n",
       "    weekofyear  literneed  cost_fuel  time  cost_refri  total  \n",
       "1            6      2.016       30.0  30.0        4.50   72.0  \n",
       "3            6      4.123       62.0  48.0        7.20  104.0  \n",
       "5            6      2.478       37.0  38.0        5.70   80.0  \n",
       "7            5      4.247       63.0  50.0        7.50  105.0  \n",
       "13           4      2.541       38.0  40.0        6.00   81.0  \n",
       "17           4      2.100       31.0  36.0        5.40   73.0  \n",
       "19           3      2.058       31.0  31.0        4.65   73.0  \n",
       "21           2      4.092       61.0  48.0        7.20  103.0  "
      ]
     },
     "execution_count": 64,
     "metadata": {},
     "output_type": "execute_result"
    }
   ],
   "source": [
    "records[records.duplicated(subset = ['start', 'end'], keep = False)]"
   ]
  },
  {
   "attachments": {},
   "cell_type": "markdown",
   "metadata": {},
   "source": [
    "Kita hanya membutuhkan data yang paling update/terbaru, sehingga baris duplikat yang lama akan kita drop"
   ]
  },
  {
   "cell_type": "code",
   "execution_count": 65,
   "metadata": {},
   "outputs": [
    {
     "data": {
      "text/html": [
       "<div>\n",
       "<style scoped>\n",
       "    .dataframe tbody tr th:only-of-type {\n",
       "        vertical-align: middle;\n",
       "    }\n",
       "\n",
       "    .dataframe tbody tr th {\n",
       "        vertical-align: top;\n",
       "    }\n",
       "\n",
       "    .dataframe thead th {\n",
       "        text-align: right;\n",
       "    }\n",
       "</style>\n",
       "<table border=\"1\" class=\"dataframe\">\n",
       "  <thead>\n",
       "    <tr style=\"text-align: right;\">\n",
       "      <th></th>\n",
       "      <th>start</th>\n",
       "      <th>end</th>\n",
       "      <th>dist</th>\n",
       "      <th>lge/100km</th>\n",
       "      <th>add_cost</th>\n",
       "      <th>start_time</th>\n",
       "      <th>end_time</th>\n",
       "      <th>month</th>\n",
       "      <th>day</th>\n",
       "      <th>weekly</th>\n",
       "      <th>weekofyear</th>\n",
       "      <th>literneed</th>\n",
       "      <th>cost_fuel</th>\n",
       "      <th>time</th>\n",
       "      <th>cost_refri</th>\n",
       "      <th>total</th>\n",
       "    </tr>\n",
       "  </thead>\n",
       "  <tbody>\n",
       "  </tbody>\n",
       "</table>\n",
       "</div>"
      ],
      "text/plain": [
       "Empty DataFrame\n",
       "Columns: [start, end, dist, lge/100km, add_cost, start_time, end_time, month, day, weekly, weekofyear, literneed, cost_fuel, time, cost_refri, total]\n",
       "Index: []"
      ]
     },
     "execution_count": 65,
     "metadata": {},
     "output_type": "execute_result"
    }
   ],
   "source": [
    "# Drop duplikat untuk data lama (pertahankan data terbaru)\n",
    "records_new = records[~records.duplicated(subset = ['start', 'end'], keep = 'first')].copy()\n",
    "# cek duplikat\n",
    "records_new[records_new.duplicated(subset = ['start', 'end'], keep = False)]"
   ]
  },
  {
   "attachments": {},
   "cell_type": "markdown",
   "metadata": {},
   "source": [
    "## Pembentukan dan Visualisasi Graf"
   ]
  },
  {
   "attachments": {},
   "cell_type": "markdown",
   "metadata": {},
   "source": [
    "Selanjutnya mari kita melakukan pembentukan graf berdasarkan data kita. Sebelum itu mari kita mengambil kolom2 yang dibutuhkan untuk membuat graf"
   ]
  },
  {
   "cell_type": "code",
   "execution_count": 66,
   "metadata": {},
   "outputs": [
    {
     "data": {
      "text/html": [
       "<div>\n",
       "<style scoped>\n",
       "    .dataframe tbody tr th:only-of-type {\n",
       "        vertical-align: middle;\n",
       "    }\n",
       "\n",
       "    .dataframe tbody tr th {\n",
       "        vertical-align: top;\n",
       "    }\n",
       "\n",
       "    .dataframe thead th {\n",
       "        text-align: right;\n",
       "    }\n",
       "</style>\n",
       "<table border=\"1\" class=\"dataframe\">\n",
       "  <thead>\n",
       "    <tr style=\"text-align: right;\">\n",
       "      <th></th>\n",
       "      <th>start</th>\n",
       "      <th>end</th>\n",
       "      <th>total</th>\n",
       "    </tr>\n",
       "  </thead>\n",
       "  <tbody>\n",
       "    <tr>\n",
       "      <th>0</th>\n",
       "      <td>E</td>\n",
       "      <td>C</td>\n",
       "      <td>35.0</td>\n",
       "    </tr>\n",
       "    <tr>\n",
       "      <th>1</th>\n",
       "      <td>A</td>\n",
       "      <td>E</td>\n",
       "      <td>72.0</td>\n",
       "    </tr>\n",
       "    <tr>\n",
       "      <th>2</th>\n",
       "      <td>F</td>\n",
       "      <td>G</td>\n",
       "      <td>33.0</td>\n",
       "    </tr>\n",
       "    <tr>\n",
       "      <th>3</th>\n",
       "      <td>A</td>\n",
       "      <td>F</td>\n",
       "      <td>104.0</td>\n",
       "    </tr>\n",
       "    <tr>\n",
       "      <th>4</th>\n",
       "      <td>B</td>\n",
       "      <td>D</td>\n",
       "      <td>15.0</td>\n",
       "    </tr>\n",
       "  </tbody>\n",
       "</table>\n",
       "</div>"
      ],
      "text/plain": [
       "  start end  total\n",
       "0     E   C   35.0\n",
       "1     A   E   72.0\n",
       "2     F   G   33.0\n",
       "3     A   F  104.0\n",
       "4     B   D   15.0"
      ]
     },
     "execution_count": 66,
     "metadata": {},
     "output_type": "execute_result"
    }
   ],
   "source": [
    "data = records_new[['start', 'end', 'total']]\n",
    "\n",
    "data.head()"
   ]
  },
  {
   "cell_type": "code",
   "execution_count": 67,
   "metadata": {},
   "outputs": [],
   "source": [
    "Graf = nx.Graph()\n",
    "\n",
    "for ind in range(len(data)):\n",
    "    row = data.iloc[ind].tolist()\n",
    "    Graf.add_edge(row[0], row[1], weight = row[2])"
   ]
  },
  {
   "cell_type": "code",
   "execution_count": 68,
   "metadata": {},
   "outputs": [
    {
     "data": {
      "image/png": "[encoded data removed]",
      "text/plain": [
       "<Figure size 640x480 with 1 Axes>"
      ]
     },
     "metadata": {},
     "output_type": "display_data"
    }
   ],
   "source": [
    "# Visualisasi graf\n",
    "graph.visualize_graph(Graf)"
   ]
  },
  {
   "attachments": {},
   "cell_type": "markdown",
   "metadata": {},
   "source": [
    "## Pencarian Rute Optimal (Total Cost)"
   ]
  },
  {
   "attachments": {},
   "cell_type": "markdown",
   "metadata": {},
   "source": [
    "Kita bisa mendapatkan semua rute yang terhubung antar node dengan fungsi `nx.all_simple_paths()`\n",
    "\n",
    "**Sintaks**\n",
    "```python\n",
    "nx.all_simple_paths(G, source, target, cutoff)\n",
    "```\n",
    "ket:\n",
    "- G = Objek Graf\n",
    "- source = Node awal\n",
    "- target = Node tujuan\n",
    "- cutoff = Maksimal jumlah node yang dilewati untuk mencapai node target (tidak termasuk Node awal)"
   ]
  },
  {
   "cell_type": "code",
   "execution_count": 69,
   "metadata": {},
   "outputs": [
    {
     "name": "stdout",
     "output_type": "stream",
     "text": [
      "['A', 'E', 'G']\n",
      "['A', 'F', 'G']\n",
      "['A', 'B', 'G']\n",
      "['A', 'G']\n"
     ]
    }
   ],
   "source": [
    "# Mendapatkan semua jalur yang terhubung\n",
    "all_path = nx.all_simple_paths(Graf, source='A', target='G', cutoff=2)\n",
    "\n",
    "for path in all_path:\n",
    "    print(path)"
   ]
  },
  {
   "attachments": {},
   "cell_type": "markdown",
   "metadata": {},
   "source": [
    "💬 Diskusi: Pada pemahaman masalah, kebutuhan tiap lokasi adalah 1 ton, dan truk kita dapat mengangkut produk maksimal 2,2 ton.\n",
    "\n",
    "Maka berapa nilai cutoff yang kita inginkan?"
   ]
  },
  {
   "cell_type": "markdown",
   "metadata": {},
   "source": [
    "> Jawab:"
   ]
  },
  {
   "cell_type": "code",
   "execution_count": 70,
   "metadata": {},
   "outputs": [
    {
     "data": {
      "text/plain": [
       "101.0"
      ]
     },
     "execution_count": 70,
     "metadata": {},
     "output_type": "execute_result"
    }
   ],
   "source": [
    "# Mendapatkan weight\n",
    "pathAB = ['A', 'B']\n",
    "nx.path_weight(Graf, path, weight=\"weight\")"
   ]
  },
  {
   "cell_type": "code",
   "execution_count": 71,
   "metadata": {},
   "outputs": [
    {
     "data": {
      "text/plain": [
       "101.0"
      ]
     },
     "execution_count": 71,
     "metadata": {},
     "output_type": "execute_result"
    }
   ],
   "source": [
    "pathABC = ['A', 'B', 'C']\n",
    "nx.path_weight(Graf, path, weight=\"weight\")"
   ]
  },
  {
   "cell_type": "code",
   "execution_count": 72,
   "metadata": {},
   "outputs": [
    {
     "name": "stdout",
     "output_type": "stream",
     "text": [
      "Rute ['A', 'E', 'G'] memiliki Total Cost: 99\n",
      "Rute ['A', 'F', 'G'] memiliki Total Cost: 137\n",
      "Rute ['A', 'B', 'G'] memiliki Total Cost: 101\n",
      "Rute ['A', 'G'] memiliki Total Cost: 101\n"
     ]
    }
   ],
   "source": [
    "# Mendapatkan semua jalur dan weight\n",
    "all_path = nx.all_simple_paths(Graf, source='A', target='G', cutoff=2)\n",
    "\n",
    "for path in all_path:\n",
    "    weight = nx.path_weight(Graf, path, weight=\"weight\")\n",
    "    print(\"Rute %s memiliki Total Cost: %i\" % (path, weight))"
   ]
  },
  {
   "attachments": {},
   "cell_type": "markdown",
   "metadata": {},
   "source": [
    "Untuk lebih mudah, kita dapat menggunakan fungsi `graph.get_total()` dimana akan membuat dataframe dengan weight terurut dari masing-masing rute.\n",
    "\n",
    "**Sintaks**\n",
    "```python\n",
    "graph.get_total(G, source, target, cutoff)\n",
    "```\n",
    "keterangan:\n",
    "- G = Objek Graf\n",
    "- source = Node awal\n",
    "- target = Node tujuan\n",
    "- cutoff = Maksimal jumlah node yang dilewati untuk mencapai node target (tidak termasuk Node awal)"
   ]
  },
  {
   "cell_type": "code",
   "execution_count": 73,
   "metadata": {},
   "outputs": [
    {
     "data": {
      "text/html": [
       "<div>\n",
       "<style scoped>\n",
       "    .dataframe tbody tr th:only-of-type {\n",
       "        vertical-align: middle;\n",
       "    }\n",
       "\n",
       "    .dataframe tbody tr th {\n",
       "        vertical-align: top;\n",
       "    }\n",
       "\n",
       "    .dataframe thead th {\n",
       "        text-align: right;\n",
       "    }\n",
       "</style>\n",
       "<table border=\"1\" class=\"dataframe\">\n",
       "  <thead>\n",
       "    <tr style=\"text-align: right;\">\n",
       "      <th></th>\n",
       "      <th>route</th>\n",
       "      <th>total</th>\n",
       "    </tr>\n",
       "  </thead>\n",
       "  <tbody>\n",
       "    <tr>\n",
       "      <th>0</th>\n",
       "      <td>[A, E, G]</td>\n",
       "      <td>99.0</td>\n",
       "    </tr>\n",
       "    <tr>\n",
       "      <th>2</th>\n",
       "      <td>[A, B, G]</td>\n",
       "      <td>101.0</td>\n",
       "    </tr>\n",
       "    <tr>\n",
       "      <th>3</th>\n",
       "      <td>[A, G]</td>\n",
       "      <td>101.0</td>\n",
       "    </tr>\n",
       "    <tr>\n",
       "      <th>1</th>\n",
       "      <td>[A, F, G]</td>\n",
       "      <td>137.0</td>\n",
       "    </tr>\n",
       "  </tbody>\n",
       "</table>\n",
       "</div>"
      ],
      "text/plain": [
       "       route  total\n",
       "0  [A, E, G]   99.0\n",
       "2  [A, B, G]  101.0\n",
       "3     [A, G]  101.0\n",
       "1  [A, F, G]  137.0"
      ]
     },
     "execution_count": 73,
     "metadata": {},
     "output_type": "execute_result"
    }
   ],
   "source": [
    "graph.get_total(Graf, 'A', 'G')"
   ]
  },
  {
   "attachments": {},
   "cell_type": "markdown",
   "metadata": {},
   "source": [
    "💬 Diskusi: \n",
    "- Rute apa yang paling optimal dari A ke G dan berapa total costnya?\n",
    "- Lokasi apa saja yang dilalui?\n",
    "- Jika kita memilih rute ini, maka lokasi apa saja yang belum kita temukan rute optimalnya?"
   ]
  },
  {
   "cell_type": "code",
   "execution_count": 74,
   "metadata": {},
   "outputs": [
    {
     "data": {
      "text/html": [
       "<div>\n",
       "<style scoped>\n",
       "    .dataframe tbody tr th:only-of-type {\n",
       "        vertical-align: middle;\n",
       "    }\n",
       "\n",
       "    .dataframe tbody tr th {\n",
       "        vertical-align: top;\n",
       "    }\n",
       "\n",
       "    .dataframe thead th {\n",
       "        text-align: right;\n",
       "    }\n",
       "</style>\n",
       "<table border=\"1\" class=\"dataframe\">\n",
       "  <thead>\n",
       "    <tr style=\"text-align: right;\">\n",
       "      <th></th>\n",
       "      <th>route</th>\n",
       "      <th>total</th>\n",
       "    </tr>\n",
       "  </thead>\n",
       "  <tbody>\n",
       "    <tr>\n",
       "      <th>1</th>\n",
       "      <td>[A, F]</td>\n",
       "      <td>104.0</td>\n",
       "    </tr>\n",
       "    <tr>\n",
       "      <th>2</th>\n",
       "      <td>[A, B, F]</td>\n",
       "      <td>107.0</td>\n",
       "    </tr>\n",
       "    <tr>\n",
       "      <th>4</th>\n",
       "      <td>[A, D, F]</td>\n",
       "      <td>121.0</td>\n",
       "    </tr>\n",
       "    <tr>\n",
       "      <th>0</th>\n",
       "      <td>[A, E, F]</td>\n",
       "      <td>127.0</td>\n",
       "    </tr>\n",
       "    <tr>\n",
       "      <th>3</th>\n",
       "      <td>[A, G, F]</td>\n",
       "      <td>134.0</td>\n",
       "    </tr>\n",
       "  </tbody>\n",
       "</table>\n",
       "</div>"
      ],
      "text/plain": [
       "       route  total\n",
       "1     [A, F]  104.0\n",
       "2  [A, B, F]  107.0\n",
       "4  [A, D, F]  121.0\n",
       "0  [A, E, F]  127.0\n",
       "3  [A, G, F]  134.0"
      ]
     },
     "execution_count": 74,
     "metadata": {},
     "output_type": "execute_result"
    }
   ],
   "source": [
    "graph.get_total(Graf, 'A', 'F')"
   ]
  },
  {
   "attachments": {},
   "cell_type": "markdown",
   "metadata": {},
   "source": [
    "💬 Diskusi: Rute Paling Optimal?"
   ]
  },
  {
   "attachments": {},
   "cell_type": "markdown",
   "metadata": {},
   "source": [
    "> Jawaban:"
   ]
  },
  {
   "cell_type": "code",
   "execution_count": 75,
   "metadata": {},
   "outputs": [
    {
     "data": {
      "text/html": [
       "<div>\n",
       "<style scoped>\n",
       "    .dataframe tbody tr th:only-of-type {\n",
       "        vertical-align: middle;\n",
       "    }\n",
       "\n",
       "    .dataframe tbody tr th {\n",
       "        vertical-align: top;\n",
       "    }\n",
       "\n",
       "    .dataframe thead th {\n",
       "        text-align: right;\n",
       "    }\n",
       "</style>\n",
       "<table border=\"1\" class=\"dataframe\">\n",
       "  <thead>\n",
       "    <tr style=\"text-align: right;\">\n",
       "      <th></th>\n",
       "      <th>route</th>\n",
       "      <th>total</th>\n",
       "    </tr>\n",
       "  </thead>\n",
       "  <tbody>\n",
       "    <tr>\n",
       "      <th>2</th>\n",
       "      <td>[A, C]</td>\n",
       "      <td>64.0</td>\n",
       "    </tr>\n",
       "    <tr>\n",
       "      <th>0</th>\n",
       "      <td>[A, E, C]</td>\n",
       "      <td>107.0</td>\n",
       "    </tr>\n",
       "    <tr>\n",
       "      <th>3</th>\n",
       "      <td>[A, D, C]</td>\n",
       "      <td>116.0</td>\n",
       "    </tr>\n",
       "    <tr>\n",
       "      <th>1</th>\n",
       "      <td>[A, B, C]</td>\n",
       "      <td>145.0</td>\n",
       "    </tr>\n",
       "  </tbody>\n",
       "</table>\n",
       "</div>"
      ],
      "text/plain": [
       "       route  total\n",
       "2     [A, C]   64.0\n",
       "0  [A, E, C]  107.0\n",
       "3  [A, D, C]  116.0\n",
       "1  [A, B, C]  145.0"
      ]
     },
     "execution_count": 75,
     "metadata": {},
     "output_type": "execute_result"
    }
   ],
   "source": [
    "graph.get_total(Graf, 'A', 'C')"
   ]
  },
  {
   "cell_type": "code",
   "execution_count": 76,
   "metadata": {},
   "outputs": [
    {
     "data": {
      "text/html": [
       "<div>\n",
       "<style scoped>\n",
       "    .dataframe tbody tr th:only-of-type {\n",
       "        vertical-align: middle;\n",
       "    }\n",
       "\n",
       "    .dataframe tbody tr th {\n",
       "        vertical-align: top;\n",
       "    }\n",
       "\n",
       "    .dataframe thead th {\n",
       "        text-align: right;\n",
       "    }\n",
       "</style>\n",
       "<table border=\"1\" class=\"dataframe\">\n",
       "  <thead>\n",
       "    <tr style=\"text-align: right;\">\n",
       "      <th></th>\n",
       "      <th>route</th>\n",
       "      <th>total</th>\n",
       "    </tr>\n",
       "  </thead>\n",
       "  <tbody>\n",
       "    <tr>\n",
       "      <th>3</th>\n",
       "      <td>[A, D]</td>\n",
       "      <td>82.0</td>\n",
       "    </tr>\n",
       "    <tr>\n",
       "      <th>1</th>\n",
       "      <td>[A, B, D]</td>\n",
       "      <td>95.0</td>\n",
       "    </tr>\n",
       "    <tr>\n",
       "      <th>2</th>\n",
       "      <td>[A, C, D]</td>\n",
       "      <td>98.0</td>\n",
       "    </tr>\n",
       "    <tr>\n",
       "      <th>0</th>\n",
       "      <td>[A, F, D]</td>\n",
       "      <td>143.0</td>\n",
       "    </tr>\n",
       "  </tbody>\n",
       "</table>\n",
       "</div>"
      ],
      "text/plain": [
       "       route  total\n",
       "3     [A, D]   82.0\n",
       "1  [A, B, D]   95.0\n",
       "2  [A, C, D]   98.0\n",
       "0  [A, F, D]  143.0"
      ]
     },
     "execution_count": 76,
     "metadata": {},
     "output_type": "execute_result"
    }
   ],
   "source": [
    "graph.get_total(Graf, 'A', 'D')"
   ]
  },
  {
   "attachments": {},
   "cell_type": "markdown",
   "metadata": {},
   "source": [
    "💬 Diskusi: Rute Paling Optimal?"
   ]
  },
  {
   "attachments": {},
   "cell_type": "markdown",
   "metadata": {},
   "source": [
    "> Jawaban:"
   ]
  },
  {
   "attachments": {},
   "cell_type": "markdown",
   "metadata": {},
   "source": [
    "### Rekomendasi Rute Baru"
   ]
  },
  {
   "attachments": {},
   "cell_type": "markdown",
   "metadata": {},
   "source": [
    "Dari hasil yang didapatkan, terdapat 3 rekomendasi rute optimal yang telah mencakup keseluruhan lokasi, antara lain:\n",
    "\n",
    "- [A E G], Cost = 99rb\n",
    "- [A C D], Cost = 98rb\n",
    "- [A B F], Cost = 107rb"
   ]
  },
  {
   "cell_type": "code",
   "execution_count": 77,
   "metadata": {},
   "outputs": [
    {
     "data": {
      "text/html": [
       "<div>\n",
       "<style scoped>\n",
       "    .dataframe tbody tr th:only-of-type {\n",
       "        vertical-align: middle;\n",
       "    }\n",
       "\n",
       "    .dataframe tbody tr th {\n",
       "        vertical-align: top;\n",
       "    }\n",
       "\n",
       "    .dataframe thead th {\n",
       "        text-align: right;\n",
       "    }\n",
       "</style>\n",
       "<table border=\"1\" class=\"dataframe\">\n",
       "  <thead>\n",
       "    <tr style=\"text-align: right;\">\n",
       "      <th></th>\n",
       "      <th>rute</th>\n",
       "      <th>cost</th>\n",
       "    </tr>\n",
       "  </thead>\n",
       "  <tbody>\n",
       "    <tr>\n",
       "      <th>0</th>\n",
       "      <td>[A E G]</td>\n",
       "      <td>99</td>\n",
       "    </tr>\n",
       "    <tr>\n",
       "      <th>1</th>\n",
       "      <td>[A C D]</td>\n",
       "      <td>98</td>\n",
       "    </tr>\n",
       "    <tr>\n",
       "      <th>2</th>\n",
       "      <td>[A B F]</td>\n",
       "      <td>107</td>\n",
       "    </tr>\n",
       "  </tbody>\n",
       "</table>\n",
       "</div>"
      ],
      "text/plain": [
       "      rute  cost\n",
       "0  [A E G]    99\n",
       "1  [A C D]    98\n",
       "2  [A B F]   107"
      ]
     },
     "execution_count": 77,
     "metadata": {},
     "output_type": "execute_result"
    }
   ],
   "source": [
    "new_route = pd.DataFrame({'rute': [\"[A E G]\", \"[A C D]\", \"[A B F]\"],\n",
    "                        'cost': [99, 98, 107]})\n",
    "\n",
    "new_route"
   ]
  },
  {
   "attachments": {},
   "cell_type": "markdown",
   "metadata": {},
   "source": [
    "### Perspektif Bisnis"
   ]
  },
  {
   "attachments": {},
   "cell_type": "markdown",
   "metadata": {},
   "source": [
    "Selanjutnya mari kita bandingkan total biaya rekomendasi rute baru dengan rute-rute lama."
   ]
  },
  {
   "cell_type": "code",
   "execution_count": 78,
   "metadata": {},
   "outputs": [
    {
     "data": {
      "text/html": [
       "<div>\n",
       "<style scoped>\n",
       "    .dataframe tbody tr th:only-of-type {\n",
       "        vertical-align: middle;\n",
       "    }\n",
       "\n",
       "    .dataframe tbody tr th {\n",
       "        vertical-align: top;\n",
       "    }\n",
       "\n",
       "    .dataframe thead th {\n",
       "        text-align: right;\n",
       "    }\n",
       "</style>\n",
       "<table border=\"1\" class=\"dataframe\">\n",
       "  <thead>\n",
       "    <tr style=\"text-align: right;\">\n",
       "      <th></th>\n",
       "      <th>total</th>\n",
       "    </tr>\n",
       "    <tr>\n",
       "      <th>weekofyear</th>\n",
       "      <th></th>\n",
       "    </tr>\n",
       "  </thead>\n",
       "  <tbody>\n",
       "    <tr>\n",
       "      <th>2</th>\n",
       "      <td>130.0</td>\n",
       "    </tr>\n",
       "    <tr>\n",
       "      <th>3</th>\n",
       "      <td>110.0</td>\n",
       "    </tr>\n",
       "    <tr>\n",
       "      <th>4</th>\n",
       "      <td>346.0</td>\n",
       "    </tr>\n",
       "    <tr>\n",
       "      <th>5</th>\n",
       "      <td>401.0</td>\n",
       "    </tr>\n",
       "    <tr>\n",
       "      <th>6</th>\n",
       "      <td>339.0</td>\n",
       "    </tr>\n",
       "  </tbody>\n",
       "</table>\n",
       "</div>"
      ],
      "text/plain": [
       "            total\n",
       "weekofyear       \n",
       "2           130.0\n",
       "3           110.0\n",
       "4           346.0\n",
       "5           401.0\n",
       "6           339.0"
      ]
     },
     "execution_count": 78,
     "metadata": {},
     "output_type": "execute_result"
    }
   ],
   "source": [
    "# Membandingkan harga\n",
    "aggcost = records.pivot_table(index = 'weekofyear',\n",
    "                    values = 'total',\n",
    "                    aggfunc= 'sum')\n",
    "\n",
    "aggcost"
   ]
  },
  {
   "cell_type": "code",
   "execution_count": 79,
   "metadata": {},
   "outputs": [
    {
     "data": {
      "image/png": "[encoded data removed]",
      "text/plain": [
       "<Figure size 640x480 with 1 Axes>"
      ]
     },
     "metadata": {},
     "output_type": "display_data"
    }
   ],
   "source": [
    "aggcost.plot(kind = 'bar');"
   ]
  },
  {
   "attachments": {},
   "cell_type": "markdown",
   "metadata": {},
   "source": [
    "Berhubung rute yang lengkap hanyalah 3 pekan terakhir. Maka dari itu kita hanya membandingkan rute rekomendasi dengan rute 3 pekan terakhir.\n",
    "\n",
    "Biaya total untuk rute 3 pekan terakhir adalah Rp346.000, Rp401.000 dan Rp339.000 (Rata-rata Rp362,000). Mari kita bandingkan dengan total rute optimal yang kita dapatkan."
   ]
  },
  {
   "cell_type": "code",
   "execution_count": 80,
   "metadata": {},
   "outputs": [
    {
     "name": "stdout",
     "output_type": "stream",
     "text": [
      "Total cost rute baru adalah Rp304,000\n"
     ]
    }
   ],
   "source": [
    "new_cost = new_route['cost'].sum()\n",
    "\n",
    "print(\"Total cost rute baru adalah Rp%s,000\" % new_cost)"
   ]
  },
  {
   "attachments": {},
   "cell_type": "markdown",
   "metadata": {},
   "source": [
    "Biaya rata-rata rute 3 pekan terakhir adalah Rp362.000/pekan. Sedangkan rute optimal adalah Rp304,000/pekan. Lebih hemat **Rp58,000**/pekan dibanding rute-rute sebelumnya."
   ]
  },
  {
   "attachments": {},
   "cell_type": "markdown",
   "metadata": {},
   "source": [
    "## [Additional] Weighted-Sum Model Untuk Pencarian Rute Optimal"
   ]
  },
  {
   "attachments": {},
   "cell_type": "markdown",
   "metadata": {},
   "source": [
    "Pada kasus sebelumnya, parameter untuk mendapatkan total biaya berasal dari biaya bahan bakar, biaya perawatan pendingin, dan biaya tambahan (biaya tol). Total biaya tersebut digunakan untuk mendapatkan rute dengan total biaya terendah (optimal). \n",
    "\n",
    "Namun, bagaimana jika terdapat parameter tambahan selain total cost, seperti parameter waktu tempuh juga menjadi concern untuk menentukan rute yang paling optimal? atau terdapat parameter tambahan lainnya selain dalam bentuk biaya?\n",
    "\n",
    "Dalam pengambilan keputusan yang menggunakan lebih dari satu kriteria biasanya digunakan proses MCDM (*Multiple-Criteria Decision Making*) dimana masing-masing kriteria diberikan bobot berdasarkan skala prioritasnya. Salah satu metode MCDM adalah *weighted-sum model*, yaitu memberikan bobot pada setiap kriteria dimana jumlah bobot harus sama dengan 1, setiap hasil perkalian antara bobot dan kriteria akan dijumlahkan untuk mendapatkan *total score*. *weighted-sum model* dapat diformulasikan sebagai berikut:\n",
    "\n",
    "$$ total score = \\sum_{i=1}^{n}{w_{i}c_{i}} $$\n",
    "\n",
    "atau\n",
    "\n",
    "$$ total score = (w_1 \\times c_1)  +  (w_2 \\times c_2) + . . + (w_n \\times c_n) $$\n",
    "\n",
    "Dimana:\n",
    "\n",
    "- $ c \\in [0,1] $\n",
    "\n",
    "- $ \\sum_{i=1}^{n}{w_{i}} = 1 $\n"
   ]
  },
  {
   "attachments": {},
   "cell_type": "markdown",
   "metadata": {},
   "source": [
    "Karena syarat masing-masing kriteria harus di rentang antara 0 hingga 1. Maka dari itu kita harus melakukan normalisasi terhadap data kriteria kita sehingga memiliki rentang dari 0 hingga 1. Normalisasi kita lakukan menggunakan fungsi `normalize(0)` dari `sklearn.preprocessing`."
   ]
  },
  {
   "cell_type": "code",
   "execution_count": 142,
   "metadata": {},
   "outputs": [],
   "source": [
    "from sklearn.preprocessing import normalize\n",
    "import numpy as np"
   ]
  },
  {
   "cell_type": "code",
   "execution_count": 243,
   "metadata": {},
   "outputs": [],
   "source": [
    "# Copy dataframe baru\n",
    "records_prio = records_new.copy()"
   ]
  },
  {
   "attachments": {},
   "cell_type": "markdown",
   "metadata": {},
   "source": [
    "Selanjutnya akan dilakukan normalisasi terhadap kolom-kolom kriteria"
   ]
  },
  {
   "cell_type": "code",
   "execution_count": 244,
   "metadata": {},
   "outputs": [],
   "source": [
    "# Melakukan normalisasi terhadap kolom-kolom kriteria\n",
    "records_prio[['add_cost_norm', \\\n",
    "            'cost_fuel_norm', \\\n",
    "            'cost_refri_norm']] = normalize(records_prio[['add_cost', \\\n",
    "                                                    'cost_fuel', \\\n",
    "                                                    'cost_refri']], axis = 0)"
   ]
  },
  {
   "cell_type": "code",
   "execution_count": 245,
   "metadata": {},
   "outputs": [
    {
     "data": {
      "text/html": [
       "<div>\n",
       "<style scoped>\n",
       "    .dataframe tbody tr th:only-of-type {\n",
       "        vertical-align: middle;\n",
       "    }\n",
       "\n",
       "    .dataframe tbody tr th {\n",
       "        vertical-align: top;\n",
       "    }\n",
       "\n",
       "    .dataframe thead th {\n",
       "        text-align: right;\n",
       "    }\n",
       "</style>\n",
       "<table border=\"1\" class=\"dataframe\">\n",
       "  <thead>\n",
       "    <tr style=\"text-align: right;\">\n",
       "      <th></th>\n",
       "      <th>start</th>\n",
       "      <th>end</th>\n",
       "      <th>dist</th>\n",
       "      <th>lge/100km</th>\n",
       "      <th>add_cost</th>\n",
       "      <th>start_time</th>\n",
       "      <th>end_time</th>\n",
       "      <th>month</th>\n",
       "      <th>day</th>\n",
       "      <th>weekly</th>\n",
       "      <th>weekofyear</th>\n",
       "      <th>literneed</th>\n",
       "      <th>cost_fuel</th>\n",
       "      <th>time</th>\n",
       "      <th>cost_refri</th>\n",
       "      <th>total</th>\n",
       "      <th>add_cost_norm</th>\n",
       "      <th>cost_fuel_norm</th>\n",
       "      <th>cost_refri_norm</th>\n",
       "      <th>weight</th>\n",
       "    </tr>\n",
       "  </thead>\n",
       "  <tbody>\n",
       "    <tr>\n",
       "      <th>0</th>\n",
       "      <td>E</td>\n",
       "      <td>C</td>\n",
       "      <td>20.0</td>\n",
       "      <td>10.2</td>\n",
       "      <td>0.0</td>\n",
       "      <td>2023-02-08 15:02:00</td>\n",
       "      <td>2023-02-08 15:33:00</td>\n",
       "      <td>February</td>\n",
       "      <td>Wednesday</td>\n",
       "      <td>2023-02-06/2023-02-12</td>\n",
       "      <td>6</td>\n",
       "      <td>2.040</td>\n",
       "      <td>30.0</td>\n",
       "      <td>31.0</td>\n",
       "      <td>4.65</td>\n",
       "      <td>35.0</td>\n",
       "      <td>0.000000</td>\n",
       "      <td>0.185738</td>\n",
       "      <td>0.201878</td>\n",
       "      <td>0.10</td>\n",
       "    </tr>\n",
       "    <tr>\n",
       "      <th>1</th>\n",
       "      <td>A</td>\n",
       "      <td>E</td>\n",
       "      <td>21.0</td>\n",
       "      <td>9.6</td>\n",
       "      <td>37.0</td>\n",
       "      <td>2023-02-08 14:02:00</td>\n",
       "      <td>2023-02-08 14:32:00</td>\n",
       "      <td>February</td>\n",
       "      <td>Wednesday</td>\n",
       "      <td>2023-02-06/2023-02-12</td>\n",
       "      <td>6</td>\n",
       "      <td>2.016</td>\n",
       "      <td>30.0</td>\n",
       "      <td>30.0</td>\n",
       "      <td>4.50</td>\n",
       "      <td>72.0</td>\n",
       "      <td>0.472431</td>\n",
       "      <td>0.185738</td>\n",
       "      <td>0.195366</td>\n",
       "      <td>0.33</td>\n",
       "    </tr>\n",
       "  </tbody>\n",
       "</table>\n",
       "</div>"
      ],
      "text/plain": [
       "  start end  dist  lge/100km  add_cost          start_time   \n",
       "0     E   C  20.0       10.2       0.0 2023-02-08 15:02:00  \\\n",
       "1     A   E  21.0        9.6      37.0 2023-02-08 14:02:00   \n",
       "\n",
       "             end_time     month        day                 weekly  weekofyear   \n",
       "0 2023-02-08 15:33:00  February  Wednesday  2023-02-06/2023-02-12           6  \\\n",
       "1 2023-02-08 14:32:00  February  Wednesday  2023-02-06/2023-02-12           6   \n",
       "\n",
       "   literneed  cost_fuel  time  cost_refri  total  add_cost_norm   \n",
       "0      2.040       30.0  31.0        4.65   35.0       0.000000  \\\n",
       "1      2.016       30.0  30.0        4.50   72.0       0.472431   \n",
       "\n",
       "   cost_fuel_norm  cost_refri_norm  weight  \n",
       "0        0.185738         0.201878    0.10  \n",
       "1        0.185738         0.195366    0.33  "
      ]
     },
     "execution_count": 245,
     "metadata": {},
     "output_type": "execute_result"
    }
   ],
   "source": [
    "records_prio.head(2)"
   ]
  },
  {
   "attachments": {},
   "cell_type": "markdown",
   "metadata": {},
   "source": [
    "Untuk menentukan `score` kita akan menerapkan *weight* pada masing-masing kriterianya. Semisal perusahaan kita lebih ingin menekan biaya pengeluaran untuk `add_cost` dibandingkan variabel lainnya. Maka dari itu `add_cost` akan diberikan beban yang lebih besar daripada kriteria lainnya.\n",
    "\n",
    "💡 Berikut tabel penerapan *weight* untuk masing-masing kriteria (*weight* ditentukan oleh user)\n",
    "\n",
    "| kriteria   | weight |\n",
    "|------------|--------|\n",
    "| add_cost   | 50%    |\n",
    "| cost_refri | 20%    |\n",
    "| cost_fuel  | 30%    |\n",
    "| **Total**  |**100%**|\n",
    "\n",
    "💡 Langkah:\n",
    "1. Melakukan perkalian masing-masing kriteria dengan *weight*-nya.\n",
    "2. Menjumlahkan hasil perkalian tersebut\n",
    "3. Menyimpan hasil perhitungan tersebut kedalam kolom baru (kolom `scoring`)"
   ]
  },
  {
   "cell_type": "code",
   "execution_count": 254,
   "metadata": {},
   "outputs": [
    {
     "data": {
      "text/html": [
       "<div>\n",
       "<style scoped>\n",
       "    .dataframe tbody tr th:only-of-type {\n",
       "        vertical-align: middle;\n",
       "    }\n",
       "\n",
       "    .dataframe tbody tr th {\n",
       "        vertical-align: top;\n",
       "    }\n",
       "\n",
       "    .dataframe thead th {\n",
       "        text-align: right;\n",
       "    }\n",
       "</style>\n",
       "<table border=\"1\" class=\"dataframe\">\n",
       "  <thead>\n",
       "    <tr style=\"text-align: right;\">\n",
       "      <th></th>\n",
       "      <th>start</th>\n",
       "      <th>end</th>\n",
       "      <th>score</th>\n",
       "    </tr>\n",
       "  </thead>\n",
       "  <tbody>\n",
       "    <tr>\n",
       "      <th>0</th>\n",
       "      <td>E</td>\n",
       "      <td>C</td>\n",
       "      <td>0.10</td>\n",
       "    </tr>\n",
       "    <tr>\n",
       "      <th>1</th>\n",
       "      <td>A</td>\n",
       "      <td>E</td>\n",
       "      <td>0.33</td>\n",
       "    </tr>\n",
       "    <tr>\n",
       "      <th>2</th>\n",
       "      <td>F</td>\n",
       "      <td>G</td>\n",
       "      <td>0.12</td>\n",
       "    </tr>\n",
       "    <tr>\n",
       "      <th>3</th>\n",
       "      <td>A</td>\n",
       "      <td>F</td>\n",
       "      <td>0.40</td>\n",
       "    </tr>\n",
       "    <tr>\n",
       "      <th>4</th>\n",
       "      <td>B</td>\n",
       "      <td>D</td>\n",
       "      <td>0.04</td>\n",
       "    </tr>\n",
       "  </tbody>\n",
       "</table>\n",
       "</div>"
      ],
      "text/plain": [
       "  start end  score\n",
       "0     E   C   0.10\n",
       "1     A   E   0.33\n",
       "2     F   G   0.12\n",
       "3     A   F   0.40\n",
       "4     B   D   0.04"
      ]
     },
     "execution_count": 254,
     "metadata": {},
     "output_type": "execute_result"
    }
   ],
   "source": [
    "# Melakukan scoring berdasarkan weight\n",
    "records_prio['score'] = \\\n",
    "    records_prio['add_cost_norm'] * 0.5 + \\\n",
    "    records_prio['cost_refri_norm'] * 0.2 + \\\n",
    "    records_prio['cost_fuel_norm'] * 0.3\n",
    "\n",
    "# Pembulatan hasil scoring\n",
    "records_prio['score'] = records_prio['score'].round(2)\n",
    "\n",
    "# Mengambil kolom yang dibutuhkan untuk membuat graf\n",
    "data_prio = records_prio[['start', 'end', 'score']]\n",
    "\n",
    "data_prio.head()"
   ]
  },
  {
   "attachments": {},
   "cell_type": "markdown",
   "metadata": {},
   "source": [
    "Setelah itu, mari kita melakukan pembuatan graf berdasarkan perhitungan `scoring`"
   ]
  },
  {
   "cell_type": "code",
   "execution_count": 233,
   "metadata": {},
   "outputs": [],
   "source": [
    "# Graf\n",
    "Graf_prio = nx.Graph()\n",
    "\n",
    "for ind in range(len(data_prio)):\n",
    "    row = data_prio.iloc[ind].tolist()\n",
    "    Graf_prio.add_edge(row[0], row[1], weight = row[2])"
   ]
  },
  {
   "cell_type": "code",
   "execution_count": 234,
   "metadata": {},
   "outputs": [
    {
     "data": {
      "image/png": "[encoded data removed]",
      "text/plain": [
       "<Figure size 640x480 with 1 Axes>"
      ]
     },
     "metadata": {},
     "output_type": "display_data"
    }
   ],
   "source": [
    "graph.visualize_graph(Graf_prio)"
   ]
  },
  {
   "attachments": {},
   "cell_type": "markdown",
   "metadata": {},
   "source": [
    "Pada `Graf` dengan weight total biaya, rute optimal adalah A E G"
   ]
  },
  {
   "cell_type": "code",
   "execution_count": 257,
   "metadata": {},
   "outputs": [
    {
     "data": {
      "text/html": [
       "<div>\n",
       "<style scoped>\n",
       "    .dataframe tbody tr th:only-of-type {\n",
       "        vertical-align: middle;\n",
       "    }\n",
       "\n",
       "    .dataframe tbody tr th {\n",
       "        vertical-align: top;\n",
       "    }\n",
       "\n",
       "    .dataframe thead th {\n",
       "        text-align: right;\n",
       "    }\n",
       "</style>\n",
       "<table border=\"1\" class=\"dataframe\">\n",
       "  <thead>\n",
       "    <tr style=\"text-align: right;\">\n",
       "      <th></th>\n",
       "      <th>route</th>\n",
       "      <th>total</th>\n",
       "    </tr>\n",
       "  </thead>\n",
       "  <tbody>\n",
       "    <tr>\n",
       "      <th>0</th>\n",
       "      <td>[A, E, G]</td>\n",
       "      <td>99.0</td>\n",
       "    </tr>\n",
       "    <tr>\n",
       "      <th>2</th>\n",
       "      <td>[A, B, G]</td>\n",
       "      <td>101.0</td>\n",
       "    </tr>\n",
       "    <tr>\n",
       "      <th>3</th>\n",
       "      <td>[A, G]</td>\n",
       "      <td>101.0</td>\n",
       "    </tr>\n",
       "    <tr>\n",
       "      <th>1</th>\n",
       "      <td>[A, F, G]</td>\n",
       "      <td>137.0</td>\n",
       "    </tr>\n",
       "  </tbody>\n",
       "</table>\n",
       "</div>"
      ],
      "text/plain": [
       "       route  total\n",
       "0  [A, E, G]   99.0\n",
       "2  [A, B, G]  101.0\n",
       "3     [A, G]  101.0\n",
       "1  [A, F, G]  137.0"
      ]
     },
     "execution_count": 257,
     "metadata": {},
     "output_type": "execute_result"
    }
   ],
   "source": [
    "graph.get_total(Graf, 'A', 'G')"
   ]
  },
  {
   "attachments": {},
   "cell_type": "markdown",
   "metadata": {},
   "source": [
    "Sekarang, mari kita bandingkan rute optimal dari lokasi A ke G berdasarkan `score` yang menggunakan skala prioritas."
   ]
  },
  {
   "cell_type": "code",
   "execution_count": 235,
   "metadata": {},
   "outputs": [
    {
     "data": {
      "text/html": [
       "<div>\n",
       "<style scoped>\n",
       "    .dataframe tbody tr th:only-of-type {\n",
       "        vertical-align: middle;\n",
       "    }\n",
       "\n",
       "    .dataframe tbody tr th {\n",
       "        vertical-align: top;\n",
       "    }\n",
       "\n",
       "    .dataframe thead th {\n",
       "        text-align: right;\n",
       "    }\n",
       "</style>\n",
       "<table border=\"1\" class=\"dataframe\">\n",
       "  <thead>\n",
       "    <tr style=\"text-align: right;\">\n",
       "      <th></th>\n",
       "      <th>route</th>\n",
       "      <th>total</th>\n",
       "    </tr>\n",
       "  </thead>\n",
       "  <tbody>\n",
       "    <tr>\n",
       "      <th>3</th>\n",
       "      <td>[A, G]</td>\n",
       "      <td>0.27</td>\n",
       "    </tr>\n",
       "    <tr>\n",
       "      <th>2</th>\n",
       "      <td>[A, B, G]</td>\n",
       "      <td>0.41</td>\n",
       "    </tr>\n",
       "    <tr>\n",
       "      <th>0</th>\n",
       "      <td>[A, E, G]</td>\n",
       "      <td>0.41</td>\n",
       "    </tr>\n",
       "    <tr>\n",
       "      <th>1</th>\n",
       "      <td>[A, F, G]</td>\n",
       "      <td>0.52</td>\n",
       "    </tr>\n",
       "  </tbody>\n",
       "</table>\n",
       "</div>"
      ],
      "text/plain": [
       "       route  total\n",
       "3     [A, G]   0.27\n",
       "2  [A, B, G]   0.41\n",
       "0  [A, E, G]   0.41\n",
       "1  [A, F, G]   0.52"
      ]
     },
     "execution_count": 235,
     "metadata": {},
     "output_type": "execute_result"
    }
   ],
   "source": [
    "graph.get_total(Graf_prio, 'A', 'G')"
   ]
  },
  {
   "attachments": {},
   "cell_type": "markdown",
   "metadata": {},
   "source": [
    "Dari hasil di atas, rute optimal dari A ke G bukan lagi A E G, melainkan menjadi A B G. Ini disebabkan karena *weight* pada Graf dihitung secara berbeda yang awalnya `Graf` hanya menggunakan total biaya namun pada `Graf_prio` telah menggunakan skala prioritas. Sehingga, penentuan *weight* pada Graf sangat mempengaruhi hasil keputusan pemilihan rute."
   ]
  },
  {
   "attachments": {},
   "cell_type": "markdown",
   "metadata": {},
   "source": [
    "### Catatan\n",
    "\n",
    "*Multi-Criteria Decision Making* tidak hanya dapat digunakan untuk kriteria yang bertipe numerik, namun dapat juga digunakan untuk kategori ordinal. Metode MCDM juga bukan hanya *Weighted-sum model* namun terdapat juga metode-metode lainnya dalam melakukan scoring menggunakan proses MCDM.<sup>[[5](https://doi.org/10.3390/encyclopedia3010006)]</sup>"
   ]
  },
  {
   "attachments": {},
   "cell_type": "markdown",
   "metadata": {},
   "source": [
    "# Refrence\n",
    "\n",
    "[[1]](https://www.maths.ed.ac.uk/~v1ranick/papers/wilsongraph.pdf) Wilson, R. J. (2010). Introduction to Graph Theory. New York: Prentice Hall/Pearson. ISBN: 027372889X 9780273728894\n",
    "\n",
    "[[2]](https://doi.org/10.2991/asei-15.2015.145) Liang, Di & Wu, Shuang & Sun, Guizhi. (2015). Study on Optimization of Cold Chain Logistics Distribution Based on Improved Particle Swarm Optimization Algorithm. 10.2991/asei-15.2015.145. \n",
    "\n",
    "[[3]](https://towardsdatascience.com/transportation-network-analysis-with-graph-theory-55eceb7e4de4) Saci, Samir. (2022). Transportation Network Analysis with Graph Theory. towardsdatascience.com\n",
    "\n",
    "[[4]](https://www.viamichelin.com/magazine/article/traffic-jams-our-tips-for-saving-fuel/#:~:text=An%20idling%20vehicle%20uses%20about,and%20175%25%20in%20urban%20areas) Michelin. (2022). Traffic jams: our tips for saving fuel. viamichelin.com\n",
    "\n",
    "[[5]](https://doi.org/10.3390/encyclopedia3010006) Taherdoost, Hamed, and Mitra Madanchian. 2023. \"Multi-Criteria Decision Making (MCDM) Methods and Concepts\" Encyclopedia 3, no. 1: 77-87. https://doi.org/10.3390/encyclopedia3010006"
   ]
  }
 ],
 "metadata": {
  "kernelspec": {
   "display_name": "dss_graph",
   "language": "python",
   "name": "dss_graph"
  },
  "language_info": {
   "codemirror_mode": {
    "name": "ipython",
    "version": 3
   },
   "file_extension": ".py",
   "mimetype": "text/x-python",
   "name": "python",
   "nbconvert_exporter": "python",
   "pygments_lexer": "ipython3",
   "version": "3.10.10"
  },
  "orig_nbformat": 4
 },
 "nbformat": 4,
 "nbformat_minor": 2
}
